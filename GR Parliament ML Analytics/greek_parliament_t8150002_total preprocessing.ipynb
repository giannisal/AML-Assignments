{
 "cells": [
  {
   "cell_type": "markdown",
   "metadata": {
    "id": "fYiWgrFP4nDo"
   },
   "source": [
    "# Greek Parliament Proceedings\n",
    "\n",
    "You will work with a dataset containing Greek Parliament proceedings, available at <https://zenodo.org/record/2587904>. The dataset is described in Zenodo; you can also read <https://lab.imedd.org/en/parliamentary-minutes-from-1989-until-today/>.\n",
    "\n",
    "---\n",
    "\n",
    "> Panos Louridas, Associate Professor <br />\n",
    "> Department of Management Science and Technology <br />\n",
    "> Athens University of Economics and Business <br />\n",
    "> louridas@aueb.gr\n"
   ]
  },
  {
   "cell_type": "markdown",
   "metadata": {
    "id": "9azggv_l4nDq"
   },
   "source": [
    "## Data Selection and Preparation\n",
    "\n",
    "As you will find out, the dataset is extensive, as it contains three decades worth of parliamentary proceedings. You can restrict yourself to a subset of the dataset, however that subset must not be trivial. Also keep in mind that a dataset that is too small may be fast to process, but may not be enough to produce good results.\n",
    "\n",
    "You are free to preprocess the data in any way that seems meaningful and that is likely to be conducive to good results. For instance, you may or may not remove punctuation, stopwords, very frequent or very rare words, etc. You can use any library for preprocessing, like [NLTK](https://www.nltk.org/) or [spaCy](https://spacy.io/); spaCy is more modern and faster. When developing the neural network solution you may do the preprocessing beforehand and / or using the TensorFlow facilities."
   ]
  },
  {
   "cell_type": "code",
   "execution_count": 1,
   "metadata": {
    "id": "qpuxI3cpdGUd"
   },
   "outputs": [],
   "source": [
    "#necessary imports for conection with drive\n",
    "import os\n",
    "from pydrive.auth import GoogleAuth\n",
    "from pydrive.drive import GoogleDrive\n",
    "from google.colab import auth\n",
    "from oauth2client.client import GoogleCredentials"
   ]
  },
  {
   "cell_type": "code",
   "execution_count": 2,
   "metadata": {
    "id": "f6Bu3NEw4nDs"
   },
   "outputs": [],
   "source": [
    "import pandas as pd\n",
    "import numpy as np\n",
    "import seaborn\n",
    "\n",
    "\n",
    "import seaborn as sns\n",
    "import matplotlib.pyplot as plt\n"
   ]
  },
  {
   "cell_type": "code",
   "execution_count": 3,
   "metadata": {
    "id": "NQJ7Fw9fpnKv"
   },
   "outputs": [],
   "source": [
    "#df = pd.read_csv('Greek_Parliament_Proceedings_1989_2019.csv') \n",
    "df = pd.read_csv('https://zenodo.org/record/2587904/files/Greek_Parliament_Proceedings_1989_2019.csv.zip?download=1',compression='zip') "
   ]
  },
  {
   "cell_type": "code",
   "execution_count": 4,
   "metadata": {
    "colab": {
     "base_uri": "https://localhost:8080/",
     "height": 142
    },
    "id": "vkKWVgRi4nDs",
    "outputId": "c6667244-3f23-4fec-d53a-18f72c99c414"
   },
   "outputs": [
    {
     "data": {
      "text/html": [
       "<div>\n",
       "<style scoped>\n",
       "    .dataframe tbody tr th:only-of-type {\n",
       "        vertical-align: middle;\n",
       "    }\n",
       "\n",
       "    .dataframe tbody tr th {\n",
       "        vertical-align: top;\n",
       "    }\n",
       "\n",
       "    .dataframe thead th {\n",
       "        text-align: right;\n",
       "    }\n",
       "</style>\n",
       "<table border=\"1\" class=\"dataframe\">\n",
       "  <thead>\n",
       "    <tr style=\"text-align: right;\">\n",
       "      <th></th>\n",
       "      <th>member_name</th>\n",
       "      <th>sitting_date</th>\n",
       "      <th>parliamentary_period</th>\n",
       "      <th>parliamentary_session</th>\n",
       "      <th>parliamentary_sitting</th>\n",
       "      <th>political_party</th>\n",
       "      <th>speaker_info</th>\n",
       "      <th>speech</th>\n",
       "    </tr>\n",
       "  </thead>\n",
       "  <tbody>\n",
       "    <tr>\n",
       "      <th>0</th>\n",
       "      <td>κρητικος νικολαου παναγιωτης</td>\n",
       "      <td>1989-07-03</td>\n",
       "      <td>period 5</td>\n",
       "      <td>session 1</td>\n",
       "      <td>sitting 1</td>\n",
       "      <td>πανελληνιο σοσιαλιστικο κινημα</td>\n",
       "      <td>προεδρευων</td>\n",
       "      <td>Παρακαλείται ο Γραμματέας κ. Βουλγαράκης να σ...</td>\n",
       "    </tr>\n",
       "    <tr>\n",
       "      <th>1</th>\n",
       "      <td>κρητικος νικολαου παναγιωτης</td>\n",
       "      <td>1989-07-03</td>\n",
       "      <td>period 5</td>\n",
       "      <td>session 1</td>\n",
       "      <td>sitting 1</td>\n",
       "      <td>πανελληνιο σοσιαλιστικο κινημα</td>\n",
       "      <td>προεδρευων</td>\n",
       "      <td>Παρακαλείται ο κύριος Γραμματέας να συνοδεύσε...</td>\n",
       "    </tr>\n",
       "    <tr>\n",
       "      <th>2</th>\n",
       "      <td>κρητικος νικολαου παναγιωτης</td>\n",
       "      <td>1989-07-03</td>\n",
       "      <td>period 5</td>\n",
       "      <td>session 1</td>\n",
       "      <td>sitting 1</td>\n",
       "      <td>πανελληνιο σοσιαλιστικο κινημα</td>\n",
       "      <td>προεδρευων</td>\n",
       "      <td>Κύριοι συνάδελφοι, παρακαλώ τη Βουλή να εξουσ...</td>\n",
       "    </tr>\n",
       "  </tbody>\n",
       "</table>\n",
       "</div>"
      ],
      "text/plain": [
       "                    member_name  ...                                             speech\n",
       "0  κρητικος νικολαου παναγιωτης  ...   Παρακαλείται ο Γραμματέας κ. Βουλγαράκης να σ...\n",
       "1  κρητικος νικολαου παναγιωτης  ...   Παρακαλείται ο κύριος Γραμματέας να συνοδεύσε...\n",
       "2  κρητικος νικολαου παναγιωτης  ...   Κύριοι συνάδελφοι, παρακαλώ τη Βουλή να εξουσ...\n",
       "\n",
       "[3 rows x 8 columns]"
      ]
     },
     "execution_count": 4,
     "metadata": {
      "tags": []
     },
     "output_type": "execute_result"
    }
   ],
   "source": [
    "df.head(3)"
   ]
  },
  {
   "cell_type": "markdown",
   "metadata": {
    "id": "8sObdvJn4nDt"
   },
   "source": [
    "Checking for empty string in the column speech"
   ]
  },
  {
   "cell_type": "code",
   "execution_count": 5,
   "metadata": {
    "colab": {
     "base_uri": "https://localhost:8080/"
    },
    "id": "nNpQm90u4nDt",
    "outputId": "caa48a12-7585-4850-fd51-833e78f1da60"
   },
   "outputs": [
    {
     "name": "stdout",
     "output_type": "stream",
     "text": [
      "0\n"
     ]
    }
   ],
   "source": [
    "print(df[df['speech']==''].size)"
   ]
  },
  {
   "cell_type": "markdown",
   "metadata": {
    "id": "fzxb1iu84nDu"
   },
   "source": [
    "Checking for null in speech column"
   ]
  },
  {
   "cell_type": "code",
   "execution_count": 6,
   "metadata": {
    "colab": {
     "base_uri": "https://localhost:8080/"
    },
    "id": "NR3Sex644nDu",
    "outputId": "4fd26885-be50-4808-e490-03f242bd3181",
    "scrolled": true
   },
   "outputs": [
    {
     "name": "stdout",
     "output_type": "stream",
     "text": [
      "80\n"
     ]
    }
   ],
   "source": [
    "print(df[df['speech'].isnull()].size)"
   ]
  },
  {
   "cell_type": "markdown",
   "metadata": {
    "id": "Q5hJX-Iq4nDv"
   },
   "source": [
    "We won't remove these rows. For our initial analyses we don't need the actual text. We'll deal with them later on"
   ]
  },
  {
   "cell_type": "markdown",
   "metadata": {
    "id": "NS4q7-9T4nDv"
   },
   "source": [
    "let's see the parties, to ensure no duplicates w/ similar name are here"
   ]
  },
  {
   "cell_type": "code",
   "execution_count": 7,
   "metadata": {
    "colab": {
     "base_uri": "https://localhost:8080/"
    },
    "id": "2YGuo8Fl4nDv",
    "outputId": "ac3e8101-6cde-4b1e-b790-bfde00b20725"
   },
   "outputs": [
    {
     "data": {
      "text/plain": [
       "array(['πανελληνιο σοσιαλιστικο κινημα', 'βουλη', 'νεα δημοκρατια',\n",
       "       'κομμουνιστικο κομμα ελλαδας εσωτερικου',\n",
       "       'κομμουνιστικο κομμα ελλαδας',\n",
       "       'συνασπισμος της αριστερας των κινηματων και της οικολογιας', nan,\n",
       "       'λαικος ορθοδοξος συναγερμος',\n",
       "       'οικολογοι εναλλακτικοι (ομοσπονδια οικολογικων εναλλακτικων οργανωσεων)',\n",
       "       'ανεξαρτητοι (εκτος κομματος)', 'δημοκρατικη ανανεωση',\n",
       "       'αντιπολιτευση', 'πολιτικη ανοιξη', 'δημοκρατικο κοινωνικο κινημα',\n",
       "       'συνασπισμος ριζοσπαστικης αριστερας', 'δημοκρατικη αριστερα',\n",
       "       'ανεξαρτητοι ελληνες - πανος καμμενος',\n",
       "       'ανεξαρτητοι δημοκρατικοι βουλευτες',\n",
       "       'λαικος συνδεσος - χρυση αυγη', 'το ποταμι',\n",
       "       'ανεξαρτητοι ελληνες εθνικη πατριωτικη δημοκρατικη συμμαχια',\n",
       "       'λαικη ενοτητα',\n",
       "       'δημοκρατικη συμπαραταξη (πανελληνιο σοσιαλιστικο κινημα - δημοκρατικη αριστερα)',\n",
       "       'ενωση κεντρωων'], dtype=object)"
      ]
     },
     "execution_count": 7,
     "metadata": {
      "tags": []
     },
     "output_type": "execute_result"
    }
   ],
   "source": [
    "prts = df['political_party'].unique()\n",
    "prts"
   ]
  },
  {
   "cell_type": "markdown",
   "metadata": {
    "id": "UIA_SPsF4nDw"
   },
   "source": [
    "Let's check if the ανεξάρτητοι έλληνες is a duplicate, or different parties. we can filter the parties, and panos kammenos who is the party's president"
   ]
  },
  {
   "cell_type": "code",
   "execution_count": 8,
   "metadata": {
    "colab": {
     "base_uri": "https://localhost:8080/",
     "height": 142
    },
    "id": "d0iBXPCL4nDw",
    "outputId": "08c9e2b8-1b7c-4eb0-aa7d-971981412f01"
   },
   "outputs": [
    {
     "data": {
      "text/html": [
       "<div>\n",
       "<style scoped>\n",
       "    .dataframe tbody tr th:only-of-type {\n",
       "        vertical-align: middle;\n",
       "    }\n",
       "\n",
       "    .dataframe tbody tr th {\n",
       "        vertical-align: top;\n",
       "    }\n",
       "\n",
       "    .dataframe thead th {\n",
       "        text-align: right;\n",
       "    }\n",
       "</style>\n",
       "<table border=\"1\" class=\"dataframe\">\n",
       "  <thead>\n",
       "    <tr style=\"text-align: right;\">\n",
       "      <th></th>\n",
       "      <th></th>\n",
       "      <th>speech</th>\n",
       "    </tr>\n",
       "    <tr>\n",
       "      <th>member_name</th>\n",
       "      <th>political_party</th>\n",
       "      <th></th>\n",
       "    </tr>\n",
       "  </thead>\n",
       "  <tbody>\n",
       "    <tr>\n",
       "      <th rowspan=\"2\" valign=\"top\">καμμενος ηλια παναγιωτης (πανος)</th>\n",
       "      <th>ανεξαρτητοι ελληνες - πανος καμμενος</th>\n",
       "      <td>476</td>\n",
       "    </tr>\n",
       "    <tr>\n",
       "      <th>ανεξαρτητοι ελληνες εθνικη πατριωτικη δημοκρατικη συμμαχια</th>\n",
       "      <td>748</td>\n",
       "    </tr>\n",
       "  </tbody>\n",
       "</table>\n",
       "</div>"
      ],
      "text/plain": [
       "                                                                                     speech\n",
       "member_name                      political_party                                           \n",
       "καμμενος ηλια παναγιωτης (πανος) ανεξαρτητοι ελληνες - πανος καμμενος                   476\n",
       "                                 ανεξαρτητοι ελληνες εθνικη πατριωτικη δημοκρατι...     748"
      ]
     },
     "execution_count": 8,
     "metadata": {
      "tags": []
     },
     "output_type": "execute_result"
    }
   ],
   "source": [
    "dfprt = df[df['political_party'].isin(['ανεξαρτητοι ελληνες - πανος καμμενος', 'ανεξαρτητοι ελληνες εθνικη πατριωτικη δημοκρατικη συμμαχια'])]\n",
    "dfprtgr = dfprt[['member_name','political_party','speech']][dfprt['member_name']=='καμμενος ηλια παναγιωτης (πανος)'].groupby(['member_name','political_party']).count()\n",
    "dfprtgr"
   ]
  },
  {
   "cell_type": "markdown",
   "metadata": {
    "id": "xWptroXt4nDx"
   },
   "source": [
    "He is included in both, so let's just rename one of the occurences"
   ]
  },
  {
   "cell_type": "code",
   "execution_count": 9,
   "metadata": {
    "colab": {
     "base_uri": "https://localhost:8080/"
    },
    "id": "3eX7FyL94nDx",
    "outputId": "43748cd4-74cc-44cd-d839-e212a9e76cf1",
    "scrolled": true
   },
   "outputs": [
    {
     "data": {
      "text/plain": [
       "array(['πανελληνιο σοσιαλιστικο κινημα', 'βουλη', 'νεα δημοκρατια',\n",
       "       'κομμουνιστικο κομμα ελλαδας εσωτερικου',\n",
       "       'κομμουνιστικο κομμα ελλαδας',\n",
       "       'συνασπισμος της αριστερας των κινηματων και της οικολογιας', nan,\n",
       "       'λαικος ορθοδοξος συναγερμος',\n",
       "       'οικολογοι εναλλακτικοι (ομοσπονδια οικολογικων εναλλακτικων οργανωσεων)',\n",
       "       'ανεξαρτητοι (εκτος κομματος)', 'δημοκρατικη ανανεωση',\n",
       "       'αντιπολιτευση', 'πολιτικη ανοιξη', 'δημοκρατικο κοινωνικο κινημα',\n",
       "       'συνασπισμος ριζοσπαστικης αριστερας', 'δημοκρατικη αριστερα',\n",
       "       'ανεξαρτητοι ελληνες εθνικη πατριωτικη δημοκρατικη συμμαχια',\n",
       "       'ανεξαρτητοι δημοκρατικοι βουλευτες',\n",
       "       'λαικος συνδεσος - χρυση αυγη', 'το ποταμι', 'λαικη ενοτητα',\n",
       "       'δημοκρατικη συμπαραταξη (πανελληνιο σοσιαλιστικο κινημα - δημοκρατικη αριστερα)',\n",
       "       'ενωση κεντρωων'], dtype=object)"
      ]
     },
     "execution_count": 9,
     "metadata": {
      "tags": []
     },
     "output_type": "execute_result"
    }
   ],
   "source": [
    "df['political_party'] = df['political_party'].replace('ανεξαρτητοι ελληνες - πανος καμμενος', 'ανεξαρτητοι ελληνες εθνικη πατριωτικη δημοκρατικη συμμαχια')\n",
    "df['political_party'].unique()"
   ]
  },
  {
   "cell_type": "markdown",
   "metadata": {
    "id": "ED_i2gGk4nDx"
   },
   "source": [
    "Let's check if there is any actual meaning in the inserts with political_party 'βουλη' & 'αντιπολιτευση'"
   ]
  },
  {
   "cell_type": "code",
   "execution_count": 10,
   "metadata": {
    "colab": {
     "base_uri": "https://localhost:8080/",
     "height": 419
    },
    "id": "i-9NBIbz4nDy",
    "outputId": "e51d2f94-3992-4a39-c95c-4c2e8d8a1852"
   },
   "outputs": [
    {
     "data": {
      "text/html": [
       "<div>\n",
       "<style scoped>\n",
       "    .dataframe tbody tr th:only-of-type {\n",
       "        vertical-align: middle;\n",
       "    }\n",
       "\n",
       "    .dataframe tbody tr th {\n",
       "        vertical-align: top;\n",
       "    }\n",
       "\n",
       "    .dataframe thead th {\n",
       "        text-align: right;\n",
       "    }\n",
       "</style>\n",
       "<table border=\"1\" class=\"dataframe\">\n",
       "  <thead>\n",
       "    <tr style=\"text-align: right;\">\n",
       "      <th></th>\n",
       "      <th>member_name</th>\n",
       "      <th>sitting_date</th>\n",
       "      <th>parliamentary_period</th>\n",
       "      <th>parliamentary_session</th>\n",
       "      <th>parliamentary_sitting</th>\n",
       "      <th>political_party</th>\n",
       "      <th>speaker_info</th>\n",
       "      <th>speech</th>\n",
       "    </tr>\n",
       "  </thead>\n",
       "  <tbody>\n",
       "    <tr>\n",
       "      <th>3</th>\n",
       "      <td>NaN</td>\n",
       "      <td>1989-07-03</td>\n",
       "      <td>period 5</td>\n",
       "      <td>session 1</td>\n",
       "      <td>sitting 1</td>\n",
       "      <td>βουλη</td>\n",
       "      <td>βουλευτης/ες</td>\n",
       "      <td>Μάλιστα, μάλιστα.</td>\n",
       "    </tr>\n",
       "    <tr>\n",
       "      <th>10</th>\n",
       "      <td>NaN</td>\n",
       "      <td>1989-07-04</td>\n",
       "      <td>period 5</td>\n",
       "      <td>session 1</td>\n",
       "      <td>sitting 2</td>\n",
       "      <td>βουλη</td>\n",
       "      <td>βουλευτης/ες</td>\n",
       "      <td>Μάλιστα, μάλιστα.</td>\n",
       "    </tr>\n",
       "    <tr>\n",
       "      <th>59</th>\n",
       "      <td>NaN</td>\n",
       "      <td>1989-07-05</td>\n",
       "      <td>period 5</td>\n",
       "      <td>session 1</td>\n",
       "      <td>sitting 3</td>\n",
       "      <td>βουλη</td>\n",
       "      <td>βουλευτης/ες</td>\n",
       "      <td>Μάλιστα, μάλιστα.</td>\n",
       "    </tr>\n",
       "    <tr>\n",
       "      <th>61</th>\n",
       "      <td>NaN</td>\n",
       "      <td>1989-07-05</td>\n",
       "      <td>period 5</td>\n",
       "      <td>session 1</td>\n",
       "      <td>sitting 3</td>\n",
       "      <td>βουλη</td>\n",
       "      <td>βουλευτης/ες</td>\n",
       "      <td>Μάλιστα, μάλιστα.</td>\n",
       "    </tr>\n",
       "    <tr>\n",
       "      <th>93</th>\n",
       "      <td>NaN</td>\n",
       "      <td>1989-07-06</td>\n",
       "      <td>period 5</td>\n",
       "      <td>session 1</td>\n",
       "      <td>sitting 4</td>\n",
       "      <td>βουλη</td>\n",
       "      <td>βουλευτης/ες</td>\n",
       "      <td>Μάλιστα, μάλιστα.</td>\n",
       "    </tr>\n",
       "    <tr>\n",
       "      <th>...</th>\n",
       "      <td>...</td>\n",
       "      <td>...</td>\n",
       "      <td>...</td>\n",
       "      <td>...</td>\n",
       "      <td>...</td>\n",
       "      <td>...</td>\n",
       "      <td>...</td>\n",
       "      <td>...</td>\n",
       "    </tr>\n",
       "    <tr>\n",
       "      <th>1194086</th>\n",
       "      <td>NaN</td>\n",
       "      <td>2019-02-21</td>\n",
       "      <td>period 17 presided parliamentary republic</td>\n",
       "      <td>session 4</td>\n",
       "      <td>sitting 81</td>\n",
       "      <td>βουλη</td>\n",
       "      <td>βουλευτης/ες</td>\n",
       "      <td>Μάλιστα, μάλιστα.</td>\n",
       "    </tr>\n",
       "    <tr>\n",
       "      <th>1194096</th>\n",
       "      <td>NaN</td>\n",
       "      <td>2019-02-21</td>\n",
       "      <td>period 17 presided parliamentary republic</td>\n",
       "      <td>session 4</td>\n",
       "      <td>sitting 81</td>\n",
       "      <td>βουλη</td>\n",
       "      <td>βουλευτης/ες</td>\n",
       "      <td>Μάλιστα, μάλιστα.</td>\n",
       "    </tr>\n",
       "    <tr>\n",
       "      <th>1194338</th>\n",
       "      <td>NaN</td>\n",
       "      <td>2019-02-21</td>\n",
       "      <td>period 17 presided parliamentary republic</td>\n",
       "      <td>session 4</td>\n",
       "      <td>sitting 81</td>\n",
       "      <td>βουλη</td>\n",
       "      <td>βουλευτης/ες</td>\n",
       "      <td>Μάλιστα, μάλιστα.</td>\n",
       "    </tr>\n",
       "    <tr>\n",
       "      <th>1194340</th>\n",
       "      <td>NaN</td>\n",
       "      <td>2019-02-21</td>\n",
       "      <td>period 17 presided parliamentary republic</td>\n",
       "      <td>session 4</td>\n",
       "      <td>sitting 81</td>\n",
       "      <td>βουλη</td>\n",
       "      <td>βουλευτης/ες</td>\n",
       "      <td>Μάλιστα, μάλιστα.</td>\n",
       "    </tr>\n",
       "    <tr>\n",
       "      <th>1194405</th>\n",
       "      <td>NaN</td>\n",
       "      <td>2019-02-22</td>\n",
       "      <td>period 17 presided parliamentary republic</td>\n",
       "      <td>session 4</td>\n",
       "      <td>sitting 82</td>\n",
       "      <td>βουλη</td>\n",
       "      <td>βουλευτης/ες</td>\n",
       "      <td>Μάλιστα, μάλιστα.</td>\n",
       "    </tr>\n",
       "  </tbody>\n",
       "</table>\n",
       "<p>45876 rows × 8 columns</p>\n",
       "</div>"
      ],
      "text/plain": [
       "        member_name sitting_date  ...  speaker_info               speech\n",
       "3               NaN   1989-07-03  ...  βουλευτης/ες    Μάλιστα, μάλιστα.\n",
       "10              NaN   1989-07-04  ...  βουλευτης/ες    Μάλιστα, μάλιστα.\n",
       "59              NaN   1989-07-05  ...  βουλευτης/ες    Μάλιστα, μάλιστα.\n",
       "61              NaN   1989-07-05  ...  βουλευτης/ες   Μάλιστα, μάλιστα. \n",
       "93              NaN   1989-07-06  ...  βουλευτης/ες   Μάλιστα, μάλιστα. \n",
       "...             ...          ...  ...           ...                  ...\n",
       "1194086         NaN   2019-02-21  ...  βουλευτης/ες    Μάλιστα, μάλιστα.\n",
       "1194096         NaN   2019-02-21  ...  βουλευτης/ες    Μάλιστα, μάλιστα.\n",
       "1194338         NaN   2019-02-21  ...  βουλευτης/ες    Μάλιστα, μάλιστα.\n",
       "1194340         NaN   2019-02-21  ...  βουλευτης/ες    Μάλιστα, μάλιστα.\n",
       "1194405         NaN   2019-02-22  ...  βουλευτης/ες    Μάλιστα, μάλιστα.\n",
       "\n",
       "[45876 rows x 8 columns]"
      ]
     },
     "execution_count": 10,
     "metadata": {
      "tags": []
     },
     "output_type": "execute_result"
    }
   ],
   "source": [
    "dfv = df[df['political_party']=='βουλη']\n",
    "dfv"
   ]
  },
  {
   "cell_type": "code",
   "execution_count": 11,
   "metadata": {
    "colab": {
     "base_uri": "https://localhost:8080/",
     "height": 390
    },
    "id": "_Hxv1HVd4nDy",
    "outputId": "8ef807c4-62e2-4095-b957-b875af927002",
    "scrolled": false
   },
   "outputs": [
    {
     "data": {
      "text/html": [
       "<div>\n",
       "<style scoped>\n",
       "    .dataframe tbody tr th:only-of-type {\n",
       "        vertical-align: middle;\n",
       "    }\n",
       "\n",
       "    .dataframe tbody tr th {\n",
       "        vertical-align: top;\n",
       "    }\n",
       "\n",
       "    .dataframe thead th {\n",
       "        text-align: right;\n",
       "    }\n",
       "</style>\n",
       "<table border=\"1\" class=\"dataframe\">\n",
       "  <thead>\n",
       "    <tr style=\"text-align: right;\">\n",
       "      <th></th>\n",
       "      <th>member_name</th>\n",
       "      <th>sitting_date</th>\n",
       "      <th>parliamentary_period</th>\n",
       "      <th>parliamentary_session</th>\n",
       "      <th>parliamentary_sitting</th>\n",
       "      <th>political_party</th>\n",
       "      <th>speaker_info</th>\n",
       "      <th>speech</th>\n",
       "    </tr>\n",
       "  </thead>\n",
       "  <tbody>\n",
       "    <tr>\n",
       "      <th>23962</th>\n",
       "      <td>NaN</td>\n",
       "      <td>1990-07-19</td>\n",
       "      <td>period 7</td>\n",
       "      <td>session 1</td>\n",
       "      <td>sitting 53</td>\n",
       "      <td>αντιπολιτευση</td>\n",
       "      <td>βουλευτης/ες</td>\n",
       "      <td>Δεν σας ακούμε.</td>\n",
       "    </tr>\n",
       "    <tr>\n",
       "      <th>37493</th>\n",
       "      <td>NaN</td>\n",
       "      <td>1990-11-08</td>\n",
       "      <td>period 7</td>\n",
       "      <td>session 1 continuation of plenary session</td>\n",
       "      <td>sitting 76</td>\n",
       "      <td>αντιπολιτευση</td>\n",
       "      <td>βουλευτης/ες</td>\n",
       "      <td>Κατά πλειοψηφία.</td>\n",
       "    </tr>\n",
       "    <tr>\n",
       "      <th>37512</th>\n",
       "      <td>NaN</td>\n",
       "      <td>1990-11-08</td>\n",
       "      <td>period 7</td>\n",
       "      <td>session 1 continuation of plenary session</td>\n",
       "      <td>sitting 76</td>\n",
       "      <td>αντιπολιτευση</td>\n",
       "      <td>βουλευτης/ες</td>\n",
       "      <td>Κατά πλειοψηφία.</td>\n",
       "    </tr>\n",
       "    <tr>\n",
       "      <th>37517</th>\n",
       "      <td>NaN</td>\n",
       "      <td>1990-11-08</td>\n",
       "      <td>period 7</td>\n",
       "      <td>session 1 continuation of plenary session</td>\n",
       "      <td>sitting 76</td>\n",
       "      <td>αντιπολιτευση</td>\n",
       "      <td>βουλευτης/ες</td>\n",
       "      <td>Κατά πλειοψηφία.</td>\n",
       "    </tr>\n",
       "    <tr>\n",
       "      <th>37520</th>\n",
       "      <td>NaN</td>\n",
       "      <td>1990-11-08</td>\n",
       "      <td>period 7</td>\n",
       "      <td>session 1 continuation of plenary session</td>\n",
       "      <td>sitting 76</td>\n",
       "      <td>αντιπολιτευση</td>\n",
       "      <td>βουλευτης/ες</td>\n",
       "      <td>Κατά πλειοψηφία.</td>\n",
       "    </tr>\n",
       "    <tr>\n",
       "      <th>68478</th>\n",
       "      <td>NaN</td>\n",
       "      <td>1991-06-19</td>\n",
       "      <td>period 7</td>\n",
       "      <td>summer '91</td>\n",
       "      <td>sitting 10</td>\n",
       "      <td>αντιπολιτευση</td>\n",
       "      <td>βουλευτης/ες</td>\n",
       "      <td>Θέλουμε αντίγραφο.</td>\n",
       "    </tr>\n",
       "    <tr>\n",
       "      <th>72385</th>\n",
       "      <td>NaN</td>\n",
       "      <td>1991-07-30</td>\n",
       "      <td>period 7</td>\n",
       "      <td>continuation of summer recess '91</td>\n",
       "      <td>sitting 5</td>\n",
       "      <td>αντιπολιτευση</td>\n",
       "      <td>βουλευτης/ες</td>\n",
       "      <td>Κύριοι συνάδελφοι, δεν υπάρχει άλλος εγγεγραμ...</td>\n",
       "    </tr>\n",
       "    <tr>\n",
       "      <th>79028</th>\n",
       "      <td>NaN</td>\n",
       "      <td>1991-09-26</td>\n",
       "      <td>period 7</td>\n",
       "      <td>continuation of summer recess '91</td>\n",
       "      <td>sitting 29</td>\n",
       "      <td>αντιπολιτευση</td>\n",
       "      <td>βουλευτης/ες</td>\n",
       "      <td>Είναι η τροπολογία του Υπουργείου Τουρισμού πο...</td>\n",
       "    </tr>\n",
       "    <tr>\n",
       "      <th>106071</th>\n",
       "      <td>NaN</td>\n",
       "      <td>1992-03-05</td>\n",
       "      <td>period 7</td>\n",
       "      <td>session 2</td>\n",
       "      <td>sitting 3</td>\n",
       "      <td>αντιπολιτευση</td>\n",
       "      <td>βουλευτης/ες</td>\n",
       "      <td>Αίσχος, αίσχος.</td>\n",
       "    </tr>\n",
       "    <tr>\n",
       "      <th>234851</th>\n",
       "      <td>NaN</td>\n",
       "      <td>1997-01-13</td>\n",
       "      <td>period 9 presided parliamentary republic</td>\n",
       "      <td>session 1</td>\n",
       "      <td>sitting 56</td>\n",
       "      <td>αντιπολιτευση</td>\n",
       "      <td>βουλευτης/ες</td>\n",
       "      <td>Ψηφοφορία!</td>\n",
       "    </tr>\n",
       "    <tr>\n",
       "      <th>673017</th>\n",
       "      <td>NaN</td>\n",
       "      <td>2008-06-12</td>\n",
       "      <td>period 12 presided parliamentary republic</td>\n",
       "      <td>session 1</td>\n",
       "      <td>sitting 164</td>\n",
       "      <td>αντιπολιτευση</td>\n",
       "      <td>βουλευτης/ες</td>\n",
       "      <td>- Εκπονήθηκε μελέτη για τον εμπλουτισμό των Α...</td>\n",
       "    </tr>\n",
       "  </tbody>\n",
       "</table>\n",
       "</div>"
      ],
      "text/plain": [
       "       member_name  ...                                             speech\n",
       "23962          NaN  ...                                    Δεν σας ακούμε.\n",
       "37493          NaN  ...                                   Κατά πλειοψηφία.\n",
       "37512          NaN  ...                                   Κατά πλειοψηφία.\n",
       "37517          NaN  ...                                   Κατά πλειοψηφία.\n",
       "37520          NaN  ...                                   Κατά πλειοψηφία.\n",
       "68478          NaN  ...                                 Θέλουμε αντίγραφο.\n",
       "72385          NaN  ...   Κύριοι συνάδελφοι, δεν υπάρχει άλλος εγγεγραμ...\n",
       "79028          NaN  ...  Είναι η τροπολογία του Υπουργείου Τουρισμού πο...\n",
       "106071         NaN  ...                                    Αίσχος, αίσχος.\n",
       "234851         NaN  ...                                         Ψηφοφορία!\n",
       "673017         NaN  ...   - Εκπονήθηκε μελέτη για τον εμπλουτισμό των Α...\n",
       "\n",
       "[11 rows x 8 columns]"
      ]
     },
     "execution_count": 11,
     "metadata": {
      "tags": []
     },
     "output_type": "execute_result"
    }
   ],
   "source": [
    "dfan = df[df['political_party']=='αντιπολιτευση']\n",
    "dfan"
   ]
  },
  {
   "cell_type": "markdown",
   "metadata": {
    "id": "4kWk8CuB4nDy"
   },
   "source": [
    "'βουλη' include no names, and from what we see they are mostly single/few words responses. 'αντιπολιτευση' only includes 11 rows, most of which with now speech meaning, so we'll remove both"
   ]
  },
  {
   "cell_type": "code",
   "execution_count": 12,
   "metadata": {
    "colab": {
     "base_uri": "https://localhost:8080/",
     "height": 419
    },
    "id": "Q4a3JJJ94nDz",
    "outputId": "680abe2a-8cc5-4089-dced-a13d3e65a48b",
    "scrolled": false
   },
   "outputs": [
    {
     "data": {
      "text/html": [
       "<div>\n",
       "<style scoped>\n",
       "    .dataframe tbody tr th:only-of-type {\n",
       "        vertical-align: middle;\n",
       "    }\n",
       "\n",
       "    .dataframe tbody tr th {\n",
       "        vertical-align: top;\n",
       "    }\n",
       "\n",
       "    .dataframe thead th {\n",
       "        text-align: right;\n",
       "    }\n",
       "</style>\n",
       "<table border=\"1\" class=\"dataframe\">\n",
       "  <thead>\n",
       "    <tr style=\"text-align: right;\">\n",
       "      <th></th>\n",
       "      <th>member_name</th>\n",
       "      <th>sitting_date</th>\n",
       "      <th>parliamentary_period</th>\n",
       "      <th>parliamentary_session</th>\n",
       "      <th>parliamentary_sitting</th>\n",
       "      <th>political_party</th>\n",
       "      <th>speaker_info</th>\n",
       "      <th>speech</th>\n",
       "    </tr>\n",
       "  </thead>\n",
       "  <tbody>\n",
       "    <tr>\n",
       "      <th>0</th>\n",
       "      <td>κρητικος νικολαου παναγιωτης</td>\n",
       "      <td>1989-07-03</td>\n",
       "      <td>period 5</td>\n",
       "      <td>session 1</td>\n",
       "      <td>sitting 1</td>\n",
       "      <td>πανελληνιο σοσιαλιστικο κινημα</td>\n",
       "      <td>προεδρευων</td>\n",
       "      <td>Παρακαλείται ο Γραμματέας κ. Βουλγαράκης να σ...</td>\n",
       "    </tr>\n",
       "    <tr>\n",
       "      <th>1</th>\n",
       "      <td>κρητικος νικολαου παναγιωτης</td>\n",
       "      <td>1989-07-03</td>\n",
       "      <td>period 5</td>\n",
       "      <td>session 1</td>\n",
       "      <td>sitting 1</td>\n",
       "      <td>πανελληνιο σοσιαλιστικο κινημα</td>\n",
       "      <td>προεδρευων</td>\n",
       "      <td>Παρακαλείται ο κύριος Γραμματέας να συνοδεύσε...</td>\n",
       "    </tr>\n",
       "    <tr>\n",
       "      <th>2</th>\n",
       "      <td>κρητικος νικολαου παναγιωτης</td>\n",
       "      <td>1989-07-03</td>\n",
       "      <td>period 5</td>\n",
       "      <td>session 1</td>\n",
       "      <td>sitting 1</td>\n",
       "      <td>πανελληνιο σοσιαλιστικο κινημα</td>\n",
       "      <td>προεδρευων</td>\n",
       "      <td>Κύριοι συνάδελφοι, παρακαλώ τη Βουλή να εξουσ...</td>\n",
       "    </tr>\n",
       "    <tr>\n",
       "      <th>4</th>\n",
       "      <td>κρητικος νικολαου παναγιωτης</td>\n",
       "      <td>1989-07-03</td>\n",
       "      <td>period 5</td>\n",
       "      <td>session 1</td>\n",
       "      <td>sitting 1</td>\n",
       "      <td>πανελληνιο σοσιαλιστικο κινημα</td>\n",
       "      <td>προεδρευων</td>\n",
       "      <td>Η Βουλή παρέσχε τη ζητηθείσα εξουσιοδότηση. Μ...</td>\n",
       "    </tr>\n",
       "    <tr>\n",
       "      <th>5</th>\n",
       "      <td>κρητικος νικολαου παναγιωτης</td>\n",
       "      <td>1989-07-04</td>\n",
       "      <td>period 5</td>\n",
       "      <td>session 1</td>\n",
       "      <td>sitting 2</td>\n",
       "      <td>πανελληνιο σοσιαλιστικο κινημα</td>\n",
       "      <td>προεδρευων</td>\n",
       "      <td>Υπάρχει κανείς εκ των κυρίων συναδέλφων, ο οπ...</td>\n",
       "    </tr>\n",
       "    <tr>\n",
       "      <th>...</th>\n",
       "      <td>...</td>\n",
       "      <td>...</td>\n",
       "      <td>...</td>\n",
       "      <td>...</td>\n",
       "      <td>...</td>\n",
       "      <td>...</td>\n",
       "      <td>...</td>\n",
       "      <td>...</td>\n",
       "    </tr>\n",
       "    <tr>\n",
       "      <th>1194401</th>\n",
       "      <td>κακλαμανης μιχαηλ νικητας</td>\n",
       "      <td>2019-02-22</td>\n",
       "      <td>period 17 presided parliamentary republic</td>\n",
       "      <td>session 4</td>\n",
       "      <td>sitting 82</td>\n",
       "      <td>νεα δημοκρατια</td>\n",
       "      <td>προεδρευων</td>\n",
       "      <td>Τα υπόλοιπα στη δευτερολογία σας.Κύριε Συντυχ...</td>\n",
       "    </tr>\n",
       "    <tr>\n",
       "      <th>1194402</th>\n",
       "      <td>συντυχακης δανιηλ εμμανουηλ</td>\n",
       "      <td>2019-02-22</td>\n",
       "      <td>period 17 presided parliamentary republic</td>\n",
       "      <td>session 4</td>\n",
       "      <td>sitting 82</td>\n",
       "      <td>κομμουνιστικο κομμα ελλαδας</td>\n",
       "      <td>NaN</td>\n",
       "      <td>Κύριε Πρόεδρε, οι καταστροφές προφανώς δεν ήτ...</td>\n",
       "    </tr>\n",
       "    <tr>\n",
       "      <th>1194403</th>\n",
       "      <td>κακλαμανης μιχαηλ νικητας</td>\n",
       "      <td>2019-02-22</td>\n",
       "      <td>period 17 presided parliamentary republic</td>\n",
       "      <td>session 4</td>\n",
       "      <td>sitting 82</td>\n",
       "      <td>νεα δημοκρατια</td>\n",
       "      <td>προεδρευων</td>\n",
       "      <td>Ορίστε, κύριε Υπουργέ, έχετε τον λόγο.</td>\n",
       "    </tr>\n",
       "    <tr>\n",
       "      <th>1194404</th>\n",
       "      <td>κακλαμανης μιχαηλ νικητας</td>\n",
       "      <td>2019-02-22</td>\n",
       "      <td>period 17 presided parliamentary republic</td>\n",
       "      <td>session 4</td>\n",
       "      <td>sitting 82</td>\n",
       "      <td>νεα δημοκρατια</td>\n",
       "      <td>προεδρευων</td>\n",
       "      <td>Αρκεί και το κεντρικό κράτος, κύριε Υπουργέ, ...</td>\n",
       "    </tr>\n",
       "    <tr>\n",
       "      <th>1194406</th>\n",
       "      <td>κακλαμανης μιχαηλ νικητας</td>\n",
       "      <td>2019-02-22</td>\n",
       "      <td>period 17 presided parliamentary republic</td>\n",
       "      <td>session 4</td>\n",
       "      <td>sitting 82</td>\n",
       "      <td>νεα δημοκρατια</td>\n",
       "      <td>προεδρευων</td>\n",
       "      <td>Με τη συναίνεση του Σώματος και ώρα 11.25΄ λύ...</td>\n",
       "    </tr>\n",
       "  </tbody>\n",
       "</table>\n",
       "<p>1148520 rows × 8 columns</p>\n",
       "</div>"
      ],
      "text/plain": [
       "                          member_name  ...                                             speech\n",
       "0        κρητικος νικολαου παναγιωτης  ...   Παρακαλείται ο Γραμματέας κ. Βουλγαράκης να σ...\n",
       "1        κρητικος νικολαου παναγιωτης  ...   Παρακαλείται ο κύριος Γραμματέας να συνοδεύσε...\n",
       "2        κρητικος νικολαου παναγιωτης  ...   Κύριοι συνάδελφοι, παρακαλώ τη Βουλή να εξουσ...\n",
       "4        κρητικος νικολαου παναγιωτης  ...   Η Βουλή παρέσχε τη ζητηθείσα εξουσιοδότηση. Μ...\n",
       "5        κρητικος νικολαου παναγιωτης  ...   Υπάρχει κανείς εκ των κυρίων συναδέλφων, ο οπ...\n",
       "...                               ...  ...                                                ...\n",
       "1194401     κακλαμανης μιχαηλ νικητας  ...   Τα υπόλοιπα στη δευτερολογία σας.Κύριε Συντυχ...\n",
       "1194402   συντυχακης δανιηλ εμμανουηλ  ...   Κύριε Πρόεδρε, οι καταστροφές προφανώς δεν ήτ...\n",
       "1194403     κακλαμανης μιχαηλ νικητας  ...             Ορίστε, κύριε Υπουργέ, έχετε τον λόγο.\n",
       "1194404     κακλαμανης μιχαηλ νικητας  ...   Αρκεί και το κεντρικό κράτος, κύριε Υπουργέ, ...\n",
       "1194406     κακλαμανης μιχαηλ νικητας  ...   Με τη συναίνεση του Σώματος και ώρα 11.25΄ λύ...\n",
       "\n",
       "[1148520 rows x 8 columns]"
      ]
     },
     "execution_count": 12,
     "metadata": {
      "tags": []
     },
     "output_type": "execute_result"
    }
   ],
   "source": [
    "df = df[~df['political_party'].isin(['βουλη','αντιπολιτευση'])]\n",
    "df"
   ]
  },
  {
   "cell_type": "markdown",
   "metadata": {
    "id": "dgXMvge74nDz"
   },
   "source": [
    "It is a consious choice not to merge 'συνασπισμός ριζοσπαστικης αριστεράς' with 'συνασπισμος της αριστερας των κινηματων και της οικολογιας\t'\n",
    "<br> That is, since the latter one was included in the former, when it consisted of a political coalition, but was actually dissolved before SYRIZA was turned into a unified political party\n",
    "<br> The same goes for 'πανελληνιο σοσιαλιστικο κινημα' and 'δημοκρατικη συμπαραταξη (πανελληνιο σοσιαλιστικο κινημα - δημοκρατικη αριστερα)', since the latter one was consisted mainly of the former, but also include another small party 'δημοκρατικη αριστερα')"
   ]
  },
  {
   "cell_type": "markdown",
   "metadata": {
    "id": "ycXWkSo6iVXj"
   },
   "source": [
    "We'll also turn date data into date type"
   ]
  },
  {
   "cell_type": "code",
   "execution_count": 13,
   "metadata": {
    "colab": {
     "base_uri": "https://localhost:8080/"
    },
    "id": "Gax3ftG84nD5",
    "outputId": "9f69684d-5c03-49c2-a4d3-ebc8abd213a5"
   },
   "outputs": [
    {
     "data": {
      "text/plain": [
       "member_name                      object\n",
       "sitting_date             datetime64[ns]\n",
       "parliamentary_period             object\n",
       "parliamentary_session            object\n",
       "parliamentary_sitting            object\n",
       "political_party                  object\n",
       "speaker_info                     object\n",
       "speech                           object\n",
       "dtype: object"
      ]
     },
     "execution_count": 13,
     "metadata": {
      "tags": []
     },
     "output_type": "execute_result"
    }
   ],
   "source": [
    "df['sitting_date'] = pd.to_datetime(df['sitting_date'], format=\"%Y-%m-%d\")\n",
    "df['sitting_date'][9500]\n",
    "df.dtypes"
   ]
  },
  {
   "cell_type": "markdown",
   "metadata": {
    "id": "sPXbm8ql4nD0"
   },
   "source": [
    "Checking for null in political_party column"
   ]
  },
  {
   "cell_type": "code",
   "execution_count": 14,
   "metadata": {
    "colab": {
     "base_uri": "https://localhost:8080/"
    },
    "id": "wRs8Pqxx4nD0",
    "outputId": "1ac47ed3-a9fa-4610-b17e-247fb1bb414a"
   },
   "outputs": [
    {
     "data": {
      "text/plain": [
       "1296"
      ]
     },
     "execution_count": 14,
     "metadata": {
      "tags": []
     },
     "output_type": "execute_result"
    }
   ],
   "source": [
    "df3 = df[df['political_party'].isnull()]\n",
    "df3.size"
   ]
  },
  {
   "cell_type": "code",
   "execution_count": 15,
   "metadata": {
    "colab": {
     "base_uri": "https://localhost:8080/"
    },
    "id": "T-a4fFnv4nD1",
    "outputId": "6d724ddf-775c-45df-f6f7-fb8b627d17c0"
   },
   "outputs": [
    {
     "data": {
      "text/plain": [
       "9188160"
      ]
     },
     "execution_count": 15,
     "metadata": {
      "tags": []
     },
     "output_type": "execute_result"
    }
   ],
   "source": [
    "df.size"
   ]
  },
  {
   "cell_type": "markdown",
   "metadata": {
    "id": "mSbK4Fdm4nD1"
   },
   "source": [
    "These data represent about 0.01% of the dataset, so we won't get into the trouble to fix them. We will remove them accordingly when the party variable is of importance to our analyses."
   ]
  },
  {
   "cell_type": "markdown",
   "metadata": {
    "id": "vqvZNN8Q4nD1"
   },
   "source": [
    "Let's take a look at what the speaker_info can give us"
   ]
  },
  {
   "cell_type": "code",
   "execution_count": 16,
   "metadata": {
    "colab": {
     "base_uri": "https://localhost:8080/"
    },
    "id": "B6vZgoyh4nD2",
    "outputId": "e0848259-e592-4a6f-ce9d-b3941ac35203"
   },
   "outputs": [
    {
     "name": "stdout",
     "output_type": "stream",
     "text": [
      "1272\n",
      "['προεδρευων' 'προεδρος' nan\n",
      " 'προεδρος της κυβερνησης και υπουργος των εξωτερικων' 'βουλευτης/ες'\n",
      " 'υπουργος υγειας, προνοιας και κοινωνικων ασφαλισεων'\n",
      " 'αρχηγος της νεας δημοκρατιας'\n",
      " 'προεδρος της κυβερνησης και υπουργος εξωτερικων'\n",
      " 'προεδρος του συνασπισμου της αριστερας και της προοδου'\n",
      " 'υπουργος δημοσιας ταξης' 'υπουργος προεδριας της κυβερνησης'\n",
      " 'προεδρος της δημοκρατικης ανανεωσης' 'υπουργος οικονομικων'\n",
      " 'υπουργος εθνικης αμυνας' 'δημοσιας ταξης']\n"
     ]
    }
   ],
   "source": [
    "print(df['speaker_info'].unique().size)\n",
    "print(df['speaker_info'].unique()[0:15])\n"
   ]
  },
  {
   "cell_type": "markdown",
   "metadata": {
    "id": "No76Spwc4nD3"
   },
   "source": [
    "## Data Exploration\n",
    "\n",
    "* Expore the dataset to get an overall idea of what it is about. Think about:\n",
    "\n",
    "  * Speeches per party.\n",
    "  \n",
    "  * Speeches over time.\n",
    "  \n",
    "  * Speeches per party and time.\n",
    "  \n",
    "  * Speakers per party.\n",
    "  \n",
    "  * Etc.\n",
    "  \n",
    "* Your analysis can (and should) include tables and diagrams."
   ]
  },
  {
   "cell_type": "markdown",
   "metadata": {
    "id": "TG3sMKYw4nD3"
   },
   "source": [
    "Let's see speeches per party"
   ]
  },
  {
   "cell_type": "code",
   "execution_count": 17,
   "metadata": {
    "colab": {
     "base_uri": "https://localhost:8080/",
     "height": 700
    },
    "id": "SC3HtWJ14nD3",
    "outputId": "d718a5f5-de96-4c9b-d577-d1323bfef700",
    "scrolled": false
   },
   "outputs": [
    {
     "data": {
      "text/html": [
       "<div>\n",
       "<style scoped>\n",
       "    .dataframe tbody tr th:only-of-type {\n",
       "        vertical-align: middle;\n",
       "    }\n",
       "\n",
       "    .dataframe tbody tr th {\n",
       "        vertical-align: top;\n",
       "    }\n",
       "\n",
       "    .dataframe thead th {\n",
       "        text-align: right;\n",
       "    }\n",
       "</style>\n",
       "<table border=\"1\" class=\"dataframe\">\n",
       "  <thead>\n",
       "    <tr style=\"text-align: right;\">\n",
       "      <th></th>\n",
       "      <th>speech</th>\n",
       "    </tr>\n",
       "    <tr>\n",
       "      <th>political_party</th>\n",
       "      <th></th>\n",
       "    </tr>\n",
       "  </thead>\n",
       "  <tbody>\n",
       "    <tr>\n",
       "      <th>νεα δημοκρατια</th>\n",
       "      <td>385634</td>\n",
       "    </tr>\n",
       "    <tr>\n",
       "      <th>πανελληνιο σοσιαλιστικο κινημα</th>\n",
       "      <td>377680</td>\n",
       "    </tr>\n",
       "    <tr>\n",
       "      <th>συνασπισμος ριζοσπαστικης αριστερας</th>\n",
       "      <td>126572</td>\n",
       "    </tr>\n",
       "    <tr>\n",
       "      <th>κομμουνιστικο κομμα ελλαδας</th>\n",
       "      <td>78631</td>\n",
       "    </tr>\n",
       "    <tr>\n",
       "      <th>συνασπισμος της αριστερας των κινηματων και της οικολογιας</th>\n",
       "      <td>35891</td>\n",
       "    </tr>\n",
       "    <tr>\n",
       "      <th>ανεξαρτητοι (εκτος κομματος)</th>\n",
       "      <td>29951</td>\n",
       "    </tr>\n",
       "    <tr>\n",
       "      <th>λαικος ορθοδοξος συναγερμος</th>\n",
       "      <td>23686</td>\n",
       "    </tr>\n",
       "    <tr>\n",
       "      <th>δημοκρατικη συμπαραταξη (πανελληνιο σοσιαλιστικο κινημα - δημοκρατικη αριστερα)</th>\n",
       "      <td>22991</td>\n",
       "    </tr>\n",
       "    <tr>\n",
       "      <th>ανεξαρτητοι ελληνες εθνικη πατριωτικη δημοκρατικη συμμαχια</th>\n",
       "      <td>19306</td>\n",
       "    </tr>\n",
       "    <tr>\n",
       "      <th>λαικος συνδεσος - χρυση αυγη</th>\n",
       "      <td>14172</td>\n",
       "    </tr>\n",
       "    <tr>\n",
       "      <th>ενωση κεντρωων</th>\n",
       "      <td>9888</td>\n",
       "    </tr>\n",
       "    <tr>\n",
       "      <th>το ποταμι</th>\n",
       "      <td>7672</td>\n",
       "    </tr>\n",
       "    <tr>\n",
       "      <th>δημοκρατικο κοινωνικο κινημα</th>\n",
       "      <td>6056</td>\n",
       "    </tr>\n",
       "    <tr>\n",
       "      <th>δημοκρατικη αριστερα</th>\n",
       "      <td>4204</td>\n",
       "    </tr>\n",
       "    <tr>\n",
       "      <th>πολιτικη ανοιξη</th>\n",
       "      <td>3384</td>\n",
       "    </tr>\n",
       "    <tr>\n",
       "      <th>ανεξαρτητοι δημοκρατικοι βουλευτες</th>\n",
       "      <td>1769</td>\n",
       "    </tr>\n",
       "    <tr>\n",
       "      <th>λαικη ενοτητα</th>\n",
       "      <td>346</td>\n",
       "    </tr>\n",
       "    <tr>\n",
       "      <th>οικολογοι εναλλακτικοι (ομοσπονδια οικολογικων εναλλακτικων οργανωσεων)</th>\n",
       "      <td>307</td>\n",
       "    </tr>\n",
       "    <tr>\n",
       "      <th>κομμουνιστικο κομμα ελλαδας εσωτερικου</th>\n",
       "      <td>202</td>\n",
       "    </tr>\n",
       "    <tr>\n",
       "      <th>δημοκρατικη ανανεωση</th>\n",
       "      <td>6</td>\n",
       "    </tr>\n",
       "  </tbody>\n",
       "</table>\n",
       "</div>"
      ],
      "text/plain": [
       "                                                    speech\n",
       "political_party                                           \n",
       "νεα δημοκρατια                                      385634\n",
       "πανελληνιο σοσιαλιστικο κινημα                      377680\n",
       "συνασπισμος ριζοσπαστικης αριστερας                 126572\n",
       "κομμουνιστικο κομμα ελλαδας                          78631\n",
       "συνασπισμος της αριστερας των κινηματων και της...   35891\n",
       "ανεξαρτητοι (εκτος κομματος)                         29951\n",
       "λαικος ορθοδοξος συναγερμος                          23686\n",
       "δημοκρατικη συμπαραταξη (πανελληνιο σοσιαλιστικ...   22991\n",
       "ανεξαρτητοι ελληνες εθνικη πατριωτικη δημοκρατι...   19306\n",
       "λαικος συνδεσος - χρυση αυγη                         14172\n",
       "ενωση κεντρωων                                        9888\n",
       "το ποταμι                                             7672\n",
       "δημοκρατικο κοινωνικο κινημα                          6056\n",
       "δημοκρατικη αριστερα                                  4204\n",
       "πολιτικη ανοιξη                                       3384\n",
       "ανεξαρτητοι δημοκρατικοι βουλευτες                    1769\n",
       "λαικη ενοτητα                                          346\n",
       "οικολογοι εναλλακτικοι (ομοσπονδια οικολογικων ...     307\n",
       "κομμουνιστικο κομμα ελλαδας εσωτερικου                 202\n",
       "δημοκρατικη ανανεωση                                     6"
      ]
     },
     "execution_count": 17,
     "metadata": {
      "tags": []
     },
     "output_type": "execute_result"
    }
   ],
   "source": [
    "spp = df[['political_party','speech']].groupby('political_party').count().sort_values(by='speech', ascending=False)\n",
    "spp"
   ]
  },
  {
   "cell_type": "code",
   "execution_count": 18,
   "metadata": {
    "colab": {
     "base_uri": "https://localhost:8080/",
     "height": 1000
    },
    "id": "gXs8BRx3iVXm",
    "outputId": "f82a6edb-4520-49f2-b3c4-9ce846a286b0"
   },
   "outputs": [
    {
     "data": {
      "image/png": "[encoded data removed]",
      "text/plain": [
       "<Figure size 1440x720 with 1 Axes>"
      ]
     },
     "metadata": {
      "needs_background": "light",
      "tags": []
     },
     "output_type": "display_data"
    }
   ],
   "source": [
    "fig = plt.figure(figsize=(20,10))\n",
    "b = sns.barplot(x=df['political_party'][~df['political_party'].isna()].unique(), y=df['political_party'].value_counts())\n",
    "b.tick_params( width=3000, length=2)\n",
    "plt.xticks(rotation = 90)\n",
    "plt.show()"
   ]
  },
  {
   "cell_type": "markdown",
   "metadata": {
    "id": "4SbSYlrUvGAa"
   },
   "source": [
    "These are heavily imbalanced. Maybe we'll need to find a way to deal with this later on"
   ]
  },
  {
   "cell_type": "markdown",
   "metadata": {
    "id": "T9jCeYm64nD4"
   },
   "source": [
    "<br> We know some parties have been in the parliament for more time than others. Let's see the \"intensity\" of their speaches,that being how many speeches they have per parliamentary period"
   ]
  },
  {
   "cell_type": "code",
   "execution_count": 19,
   "metadata": {
    "colab": {
     "base_uri": "https://localhost:8080/",
     "height": 669
    },
    "id": "vBTfdlEC4nD4",
    "outputId": "2ac1b70e-d3c8-4e4d-9e37-9906c3178164"
   },
   "outputs": [
    {
     "data": {
      "text/html": [
       "<div>\n",
       "<style scoped>\n",
       "    .dataframe tbody tr th:only-of-type {\n",
       "        vertical-align: middle;\n",
       "    }\n",
       "\n",
       "    .dataframe tbody tr th {\n",
       "        vertical-align: top;\n",
       "    }\n",
       "\n",
       "    .dataframe thead th {\n",
       "        text-align: right;\n",
       "    }\n",
       "</style>\n",
       "<table border=\"1\" class=\"dataframe\">\n",
       "  <thead>\n",
       "    <tr style=\"text-align: right;\">\n",
       "      <th></th>\n",
       "      <th>political_party</th>\n",
       "      <th>speech</th>\n",
       "    </tr>\n",
       "  </thead>\n",
       "  <tbody>\n",
       "    <tr>\n",
       "      <th>0</th>\n",
       "      <td>πανελληνιο σοσιαλιστικο κινημα</td>\n",
       "      <td>31473.333333</td>\n",
       "    </tr>\n",
       "    <tr>\n",
       "      <th>1</th>\n",
       "      <td>νεα δημοκρατια</td>\n",
       "      <td>29664.153846</td>\n",
       "    </tr>\n",
       "    <tr>\n",
       "      <th>2</th>\n",
       "      <td>συνασπισμος ριζοσπαστικης αριστερας</td>\n",
       "      <td>15821.500000</td>\n",
       "    </tr>\n",
       "    <tr>\n",
       "      <th>3</th>\n",
       "      <td>δημοκρατικη συμπαραταξη (πανελληνιο σοσιαλιστι...</td>\n",
       "      <td>11495.500000</td>\n",
       "    </tr>\n",
       "    <tr>\n",
       "      <th>4</th>\n",
       "      <td>ενωση κεντρωων</td>\n",
       "      <td>9888.000000</td>\n",
       "    </tr>\n",
       "    <tr>\n",
       "      <th>5</th>\n",
       "      <td>κομμουνιστικο κομμα ελλαδας</td>\n",
       "      <td>6552.583333</td>\n",
       "    </tr>\n",
       "    <tr>\n",
       "      <th>6</th>\n",
       "      <td>δημοκρατικο κοινωνικο κινημα</td>\n",
       "      <td>6056.000000</td>\n",
       "    </tr>\n",
       "    <tr>\n",
       "      <th>7</th>\n",
       "      <td>λαικος συνδεσος - χρυση αυγη</td>\n",
       "      <td>4724.000000</td>\n",
       "    </tr>\n",
       "    <tr>\n",
       "      <th>8</th>\n",
       "      <td>συνασπισμος της αριστερας των κινηματων και τη...</td>\n",
       "      <td>3987.888889</td>\n",
       "    </tr>\n",
       "    <tr>\n",
       "      <th>9</th>\n",
       "      <td>ανεξαρτητοι ελληνες εθνικη πατριωτικη δημοκρατ...</td>\n",
       "      <td>3861.200000</td>\n",
       "    </tr>\n",
       "    <tr>\n",
       "      <th>10</th>\n",
       "      <td>το ποταμι</td>\n",
       "      <td>3836.000000</td>\n",
       "    </tr>\n",
       "    <tr>\n",
       "      <th>11</th>\n",
       "      <td>ανεξαρτητοι (εκτος κομματος)</td>\n",
       "      <td>2722.818182</td>\n",
       "    </tr>\n",
       "    <tr>\n",
       "      <th>12</th>\n",
       "      <td>λαικος ορθοδοξος συναγερμος</td>\n",
       "      <td>2153.272727</td>\n",
       "    </tr>\n",
       "    <tr>\n",
       "      <th>13</th>\n",
       "      <td>πολιτικη ανοιξη</td>\n",
       "      <td>1692.000000</td>\n",
       "    </tr>\n",
       "    <tr>\n",
       "      <th>14</th>\n",
       "      <td>δημοκρατικη αριστερα</td>\n",
       "      <td>1401.333333</td>\n",
       "    </tr>\n",
       "    <tr>\n",
       "      <th>15</th>\n",
       "      <td>ανεξαρτητοι δημοκρατικοι βουλευτες</td>\n",
       "      <td>884.500000</td>\n",
       "    </tr>\n",
       "    <tr>\n",
       "      <th>16</th>\n",
       "      <td>λαικη ενοτητα</td>\n",
       "      <td>346.000000</td>\n",
       "    </tr>\n",
       "    <tr>\n",
       "      <th>17</th>\n",
       "      <td>οικολογοι εναλλακτικοι (ομοσπονδια οικολογικων...</td>\n",
       "      <td>153.500000</td>\n",
       "    </tr>\n",
       "    <tr>\n",
       "      <th>18</th>\n",
       "      <td>κομμουνιστικο κομμα ελλαδας εσωτερικου</td>\n",
       "      <td>101.000000</td>\n",
       "    </tr>\n",
       "    <tr>\n",
       "      <th>19</th>\n",
       "      <td>δημοκρατικη ανανεωση</td>\n",
       "      <td>6.000000</td>\n",
       "    </tr>\n",
       "  </tbody>\n",
       "</table>\n",
       "</div>"
      ],
      "text/plain": [
       "                                      political_party        speech\n",
       "0                      πανελληνιο σοσιαλιστικο κινημα  31473.333333\n",
       "1                                      νεα δημοκρατια  29664.153846\n",
       "2                 συνασπισμος ριζοσπαστικης αριστερας  15821.500000\n",
       "3   δημοκρατικη συμπαραταξη (πανελληνιο σοσιαλιστι...  11495.500000\n",
       "4                                      ενωση κεντρωων   9888.000000\n",
       "5                         κομμουνιστικο κομμα ελλαδας   6552.583333\n",
       "6                        δημοκρατικο κοινωνικο κινημα   6056.000000\n",
       "7                        λαικος συνδεσος - χρυση αυγη   4724.000000\n",
       "8   συνασπισμος της αριστερας των κινηματων και τη...   3987.888889\n",
       "9   ανεξαρτητοι ελληνες εθνικη πατριωτικη δημοκρατ...   3861.200000\n",
       "10                                          το ποταμι   3836.000000\n",
       "11                       ανεξαρτητοι (εκτος κομματος)   2722.818182\n",
       "12                        λαικος ορθοδοξος συναγερμος   2153.272727\n",
       "13                                    πολιτικη ανοιξη   1692.000000\n",
       "14                               δημοκρατικη αριστερα   1401.333333\n",
       "15                 ανεξαρτητοι δημοκρατικοι βουλευτες    884.500000\n",
       "16                                      λαικη ενοτητα    346.000000\n",
       "17  οικολογοι εναλλακτικοι (ομοσπονδια οικολογικων...    153.500000\n",
       "18             κομμουνιστικο κομμα ελλαδας εσωτερικου    101.000000\n",
       "19                               δημοκρατικη ανανεωση      6.000000"
      ]
     },
     "execution_count": 19,
     "metadata": {
      "tags": []
     },
     "output_type": "execute_result"
    }
   ],
   "source": [
    "sppi1 = df[['political_party', 'parliamentary_period','speech']].groupby(['political_party','parliamentary_period']).count().sort_values(by='speech', ascending= False).reset_index()\n",
    "sppi1 = sppi1[['political_party','speech']].groupby('political_party').mean().sort_values(by='speech', ascending = False).reset_index()\n",
    "sppi1"
   ]
  },
  {
   "cell_type": "markdown",
   "metadata": {
    "id": "5wVj8lum4nD4"
   },
   "source": [
    "We see that PASOK and NEA DIMOKRATIA have the bigger values here as well. This is to be expected, since thhey have been interchengably the governing parties, until 2015.\n"
   ]
  },
  {
   "cell_type": "markdown",
   "metadata": {
    "id": "R-noe9OW4nD5"
   },
   "source": [
    "Let's see now, how speeches correlate with time, to see if there were specific points in time with intensive discussions"
   ]
  },
  {
   "cell_type": "code",
   "execution_count": 20,
   "metadata": {
    "id": "JL6F5gsg4nD6"
   },
   "outputs": [],
   "source": [
    "dfts = df[['sitting_date', 'speech']].groupby('sitting_date').count()"
   ]
  },
  {
   "cell_type": "code",
   "execution_count": 21,
   "metadata": {
    "id": "JBG0KETY4nD7"
   },
   "outputs": [],
   "source": [
    "dfts2 = dfts.reset_index()"
   ]
  },
  {
   "cell_type": "code",
   "execution_count": 22,
   "metadata": {
    "colab": {
     "base_uri": "https://localhost:8080/",
     "height": 419
    },
    "id": "SdPNlELE4nD7",
    "outputId": "d93793fa-53c0-40d4-fb25-459420e3fdbf"
   },
   "outputs": [
    {
     "data": {
      "text/html": [
       "<div>\n",
       "<style scoped>\n",
       "    .dataframe tbody tr th:only-of-type {\n",
       "        vertical-align: middle;\n",
       "    }\n",
       "\n",
       "    .dataframe tbody tr th {\n",
       "        vertical-align: top;\n",
       "    }\n",
       "\n",
       "    .dataframe thead th {\n",
       "        text-align: right;\n",
       "    }\n",
       "</style>\n",
       "<table border=\"1\" class=\"dataframe\">\n",
       "  <thead>\n",
       "    <tr style=\"text-align: right;\">\n",
       "      <th></th>\n",
       "      <th>sitting_date</th>\n",
       "      <th>member_name</th>\n",
       "    </tr>\n",
       "  </thead>\n",
       "  <tbody>\n",
       "    <tr>\n",
       "      <th>0</th>\n",
       "      <td>1989-07-03</td>\n",
       "      <td>4</td>\n",
       "    </tr>\n",
       "    <tr>\n",
       "      <th>1</th>\n",
       "      <td>1989-07-04</td>\n",
       "      <td>6</td>\n",
       "    </tr>\n",
       "    <tr>\n",
       "      <th>2</th>\n",
       "      <td>1989-07-05</td>\n",
       "      <td>47</td>\n",
       "    </tr>\n",
       "    <tr>\n",
       "      <th>3</th>\n",
       "      <td>1989-07-06</td>\n",
       "      <td>31</td>\n",
       "    </tr>\n",
       "    <tr>\n",
       "      <th>4</th>\n",
       "      <td>1989-07-07</td>\n",
       "      <td>343</td>\n",
       "    </tr>\n",
       "    <tr>\n",
       "      <th>...</th>\n",
       "      <td>...</td>\n",
       "      <td>...</td>\n",
       "    </tr>\n",
       "    <tr>\n",
       "      <th>4769</th>\n",
       "      <td>2019-02-18</td>\n",
       "      <td>3</td>\n",
       "    </tr>\n",
       "    <tr>\n",
       "      <th>4770</th>\n",
       "      <td>2019-02-19</td>\n",
       "      <td>206</td>\n",
       "    </tr>\n",
       "    <tr>\n",
       "      <th>4771</th>\n",
       "      <td>2019-02-20</td>\n",
       "      <td>235</td>\n",
       "    </tr>\n",
       "    <tr>\n",
       "      <th>4772</th>\n",
       "      <td>2019-02-21</td>\n",
       "      <td>377</td>\n",
       "    </tr>\n",
       "    <tr>\n",
       "      <th>4773</th>\n",
       "      <td>2019-02-22</td>\n",
       "      <td>62</td>\n",
       "    </tr>\n",
       "  </tbody>\n",
       "</table>\n",
       "<p>4774 rows × 2 columns</p>\n",
       "</div>"
      ],
      "text/plain": [
       "     sitting_date  member_name\n",
       "0      1989-07-03            4\n",
       "1      1989-07-04            6\n",
       "2      1989-07-05           47\n",
       "3      1989-07-06           31\n",
       "4      1989-07-07          343\n",
       "...           ...          ...\n",
       "4769   2019-02-18            3\n",
       "4770   2019-02-19          206\n",
       "4771   2019-02-20          235\n",
       "4772   2019-02-21          377\n",
       "4773   2019-02-22           62\n",
       "\n",
       "[4774 rows x 2 columns]"
      ]
     },
     "execution_count": 22,
     "metadata": {
      "tags": []
     },
     "output_type": "execute_result"
    }
   ],
   "source": [
    "dfts3 = df[['sitting_date', 'member_name']][~df.duplicated()].groupby('sitting_date').count().reset_index()\n",
    "dfts3"
   ]
  },
  {
   "cell_type": "code",
   "execution_count": 23,
   "metadata": {
    "colab": {
     "base_uri": "https://localhost:8080/",
     "height": 609
    },
    "id": "1RJ99m6N4nD7",
    "outputId": "850a2f1b-305f-4cb5-c145-f7624f64f3d4",
    "scrolled": false
   },
   "outputs": [
    {
     "data": {
      "text/plain": [
       "<matplotlib.legend.Legend at 0x7ff8cc4b9588>"
      ]
     },
     "execution_count": 23,
     "metadata": {
      "tags": []
     },
     "output_type": "execute_result"
    },
    {
     "data": {
      "image/png": "[encoded data removed]",
      "text/plain": [
       "<Figure size 1296x720 with 1 Axes>"
      ]
     },
     "metadata": {
      "needs_background": "light",
      "tags": []
     },
     "output_type": "display_data"
    }
   ],
   "source": [
    "import matplotlib.pyplot as plt\n",
    "fig, ax = plt.subplots(figsize=(18, 10))\n",
    "ax.plot(dfts['speech'], marker='.', linestyle='-', linewidth = 0.5, label='Daily', color='black')\n",
    "ax.set_ylabel(\"Open\")\n",
    "ax.legend()"
   ]
  },
  {
   "cell_type": "markdown",
   "metadata": {
    "id": "chTYW-Q84nD8"
   },
   "source": [
    "That's something, but the range is so big that the data is very cluttered. Let's use bokeh to interactively go through specific parts. <br> We'll also plot the number of speakers. That way we can see if large conversations were a result of a large participation, or a conversation between specific members of the parliament (hover tool has been disabled, since it couldn't read correctly the actual date, despite multiple attempts for re-formatting, and no obvious troubleshooting as for the data type)"
   ]
  },
  {
   "cell_type": "code",
   "execution_count": 24,
   "metadata": {
    "colab": {
     "base_uri": "https://localhost:8080/",
     "height": 567
    },
    "id": "BJP11-4q4nD8",
    "outputId": "1e99bddd-4961-4b3c-a5a6-1974e22e6688"
   },
   "outputs": [
    {
     "data": {
      "application/javascript": [
       "\n",
       "(function(root) {\n",
       "  function now() {\n",
       "    return new Date();\n",
       "  }\n",
       "\n",
       "  var force = true;\n",
       "\n",
       "  if (typeof root._bokeh_onload_callbacks === \"undefined\" || force === true) {\n",
       "    root._bokeh_onload_callbacks = [];\n",
       "    root._bokeh_is_loading = undefined;\n",
       "  }\n",
       "\n",
       "  var JS_MIME_TYPE = 'application/javascript';\n",
       "  var HTML_MIME_TYPE = 'text/html';\n",
       "  var EXEC_MIME_TYPE = 'application/vnd.bokehjs_exec.v0+json';\n",
       "  var CLASS_NAME = 'output_bokeh rendered_html';\n",
       "\n",
       "  /**\n",
       "   * Render data to the DOM node\n",
       "   */\n",
       "  function render(props, node) {\n",
       "    var script = document.createElement(\"script\");\n",
       "    node.appendChild(script);\n",
       "  }\n",
       "\n",
       "  /**\n",
       "   * Handle when an output is cleared or removed\n",
       "   */\n",
       "  function handleClearOutput(event, handle) {\n",
       "    var cell = handle.cell;\n",
       "\n",
       "    var id = cell.output_area._bokeh_element_id;\n",
       "    var server_id = cell.output_area._bokeh_server_id;\n",
       "    // Clean up Bokeh references\n",
       "    if (id != null && id in Bokeh.index) {\n",
       "      Bokeh.index[id].model.document.clear();\n",
       "      delete Bokeh.index[id];\n",
       "    }\n",
       "\n",
       "    if (server_id !== undefined) {\n",
       "      // Clean up Bokeh references\n",
       "      var cmd = \"from bokeh.io.state import curstate; print(curstate().uuid_to_server['\" + server_id + \"'].get_sessions()[0].document.roots[0]._id)\";\n",
       "      cell.notebook.kernel.execute(cmd, {\n",
       "        iopub: {\n",
       "          output: function(msg) {\n",
       "            var id = msg.content.text.trim();\n",
       "            if (id in Bokeh.index) {\n",
       "              Bokeh.index[id].model.document.clear();\n",
       "              delete Bokeh.index[id];\n",
       "            }\n",
       "          }\n",
       "        }\n",
       "      });\n",
       "      // Destroy server and session\n",
       "      var cmd = \"import bokeh.io.notebook as ion; ion.destroy_server('\" + server_id + \"')\";\n",
       "      cell.notebook.kernel.execute(cmd);\n",
       "    }\n",
       "  }\n",
       "\n",
       "  /**\n",
       "   * Handle when a new output is added\n",
       "   */\n",
       "  function handleAddOutput(event, handle) {\n",
       "    var output_area = handle.output_area;\n",
       "    var output = handle.output;\n",
       "\n",
       "    // limit handleAddOutput to display_data with EXEC_MIME_TYPE content only\n",
       "    if ((output.output_type != \"display_data\") || (!output.data.hasOwnProperty(EXEC_MIME_TYPE))) {\n",
       "      return\n",
       "    }\n",
       "\n",
       "    var toinsert = output_area.element.find(\".\" + CLASS_NAME.split(' ')[0]);\n",
       "\n",
       "    if (output.metadata[EXEC_MIME_TYPE][\"id\"] !== undefined) {\n",
       "      toinsert[toinsert.length - 1].firstChild.textContent = output.data[JS_MIME_TYPE];\n",
       "      // store reference to embed id on output_area\n",
       "      output_area._bokeh_element_id = output.metadata[EXEC_MIME_TYPE][\"id\"];\n",
       "    }\n",
       "    if (output.metadata[EXEC_MIME_TYPE][\"server_id\"] !== undefined) {\n",
       "      var bk_div = document.createElement(\"div\");\n",
       "      bk_div.innerHTML = output.data[HTML_MIME_TYPE];\n",
       "      var script_attrs = bk_div.children[0].attributes;\n",
       "      for (var i = 0; i < script_attrs.length; i++) {\n",
       "        toinsert[toinsert.length - 1].firstChild.setAttribute(script_attrs[i].name, script_attrs[i].value);\n",
       "        toinsert[toinsert.length - 1].firstChild.textContent = bk_div.children[0].textContent\n",
       "      }\n",
       "      // store reference to server id on output_area\n",
       "      output_area._bokeh_server_id = output.metadata[EXEC_MIME_TYPE][\"server_id\"];\n",
       "    }\n",
       "  }\n",
       "\n",
       "  function register_renderer(events, OutputArea) {\n",
       "\n",
       "    function append_mime(data, metadata, element) {\n",
       "      // create a DOM node to render to\n",
       "      var toinsert = this.create_output_subarea(\n",
       "        metadata,\n",
       "        CLASS_NAME,\n",
       "        EXEC_MIME_TYPE\n",
       "      );\n",
       "      this.keyboard_manager.register_events(toinsert);\n",
       "      // Render to node\n",
       "      var props = {data: data, metadata: metadata[EXEC_MIME_TYPE]};\n",
       "      render(props, toinsert[toinsert.length - 1]);\n",
       "      element.append(toinsert);\n",
       "      return toinsert\n",
       "    }\n",
       "\n",
       "    /* Handle when an output is cleared or removed */\n",
       "    events.on('clear_output.CodeCell', handleClearOutput);\n",
       "    events.on('delete.Cell', handleClearOutput);\n",
       "\n",
       "    /* Handle when a new output is added */\n",
       "    events.on('output_added.OutputArea', handleAddOutput);\n",
       "\n",
       "    /**\n",
       "     * Register the mime type and append_mime function with output_area\n",
       "     */\n",
       "    OutputArea.prototype.register_mime_type(EXEC_MIME_TYPE, append_mime, {\n",
       "      /* Is output safe? */\n",
       "      safe: true,\n",
       "      /* Index of renderer in `output_area.display_order` */\n",
       "      index: 0\n",
       "    });\n",
       "  }\n",
       "\n",
       "  // register the mime type if in Jupyter Notebook environment and previously unregistered\n",
       "  if (root.Jupyter !== undefined) {\n",
       "    var events = require('base/js/events');\n",
       "    var OutputArea = require('notebook/js/outputarea').OutputArea;\n",
       "\n",
       "    if (OutputArea.prototype.mime_types().indexOf(EXEC_MIME_TYPE) == -1) {\n",
       "      register_renderer(events, OutputArea);\n",
       "    }\n",
       "  }\n",
       "\n",
       "  \n",
       "  if (typeof (root._bokeh_timeout) === \"undefined\" || force === true) {\n",
       "    root._bokeh_timeout = Date.now() + 5000;\n",
       "    root._bokeh_failed_load = false;\n",
       "  }\n",
       "\n",
       "  var NB_LOAD_WARNING = {'data': {'text/html':\n",
       "     \"<div style='background-color: #fdd'>\\n\"+\n",
       "     \"<p>\\n\"+\n",
       "     \"BokehJS does not appear to have successfully loaded. If loading BokehJS from CDN, this \\n\"+\n",
       "     \"may be due to a slow or bad network connection. Possible fixes:\\n\"+\n",
       "     \"</p>\\n\"+\n",
       "     \"<ul>\\n\"+\n",
       "     \"<li>re-rerun `output_notebook()` to attempt to load from CDN again, or</li>\\n\"+\n",
       "     \"<li>use INLINE resources instead, as so:</li>\\n\"+\n",
       "     \"</ul>\\n\"+\n",
       "     \"<code>\\n\"+\n",
       "     \"from bokeh.resources import INLINE\\n\"+\n",
       "     \"output_notebook(resources=INLINE)\\n\"+\n",
       "     \"</code>\\n\"+\n",
       "     \"</div>\"}};\n",
       "\n",
       "  function display_loaded() {\n",
       "    var el = document.getElementById(null);\n",
       "    if (el != null) {\n",
       "      el.textContent = \"BokehJS is loading...\";\n",
       "    }\n",
       "    if (root.Bokeh !== undefined) {\n",
       "      if (el != null) {\n",
       "        el.textContent = \"BokehJS \" + root.Bokeh.version + \" successfully loaded.\";\n",
       "      }\n",
       "    } else if (Date.now() < root._bokeh_timeout) {\n",
       "      setTimeout(display_loaded, 100)\n",
       "    }\n",
       "  }\n",
       "\n",
       "\n",
       "  function run_callbacks() {\n",
       "    try {\n",
       "      root._bokeh_onload_callbacks.forEach(function(callback) {\n",
       "        if (callback != null)\n",
       "          callback();\n",
       "      });\n",
       "    } finally {\n",
       "      delete root._bokeh_onload_callbacks\n",
       "    }\n",
       "    console.debug(\"Bokeh: all callbacks have finished\");\n",
       "  }\n",
       "\n",
       "  function load_libs(css_urls, js_urls, callback) {\n",
       "    if (css_urls == null) css_urls = [];\n",
       "    if (js_urls == null) js_urls = [];\n",
       "\n",
       "    root._bokeh_onload_callbacks.push(callback);\n",
       "    if (root._bokeh_is_loading > 0) {\n",
       "      console.debug(\"Bokeh: BokehJS is being loaded, scheduling callback at\", now());\n",
       "      return null;\n",
       "    }\n",
       "    if (js_urls == null || js_urls.length === 0) {\n",
       "      run_callbacks();\n",
       "      return null;\n",
       "    }\n",
       "    console.debug(\"Bokeh: BokehJS not loaded, scheduling load and callback at\", now());\n",
       "    root._bokeh_is_loading = css_urls.length + js_urls.length;\n",
       "\n",
       "    function on_load() {\n",
       "      root._bokeh_is_loading--;\n",
       "      if (root._bokeh_is_loading === 0) {\n",
       "        console.debug(\"Bokeh: all BokehJS libraries/stylesheets loaded\");\n",
       "        run_callbacks()\n",
       "      }\n",
       "    }\n",
       "\n",
       "    function on_error() {\n",
       "      console.error(\"failed to load \" + url);\n",
       "    }\n",
       "\n",
       "    for (var i = 0; i < css_urls.length; i++) {\n",
       "      var url = css_urls[i];\n",
       "      const element = document.createElement(\"link\");\n",
       "      element.onload = on_load;\n",
       "      element.onerror = on_error;\n",
       "      element.rel = \"stylesheet\";\n",
       "      element.type = \"text/css\";\n",
       "      element.href = url;\n",
       "      console.debug(\"Bokeh: injecting link tag for BokehJS stylesheet: \", url);\n",
       "      document.body.appendChild(element);\n",
       "    }\n",
       "\n",
       "    const hashes = {\"https://cdn.bokeh.org/bokeh/release/bokeh-2.1.1.min.js\": \"kLr4fYcqcSpbuI95brIH3vnnYCquzzSxHPU6XGQCIkQRGJwhg0StNbj1eegrHs12\", \"https://cdn.bokeh.org/bokeh/release/bokeh-widgets-2.1.1.min.js\": \"xIGPmVtaOm+z0BqfSOMn4lOR6ciex448GIKG4eE61LsAvmGj48XcMQZtKcE/UXZe\", \"https://cdn.bokeh.org/bokeh/release/bokeh-tables-2.1.1.min.js\": \"Dc9u1wF/0zApGIWoBbH77iWEHtdmkuYWG839Uzmv8y8yBLXebjO9ZnERsde5Ln/P\", \"https://cdn.bokeh.org/bokeh/release/bokeh-gl-2.1.1.min.js\": \"cT9JaBz7GiRXdENrJLZNSC6eMNF3nh3fa5fTF51Svp+ukxPdwcU5kGXGPBgDCa2j\"};\n",
       "\n",
       "    for (var i = 0; i < js_urls.length; i++) {\n",
       "      var url = js_urls[i];\n",
       "      var element = document.createElement('script');\n",
       "      element.onload = on_load;\n",
       "      element.onerror = on_error;\n",
       "      element.async = false;\n",
       "      element.src = url;\n",
       "      if (url in hashes) {\n",
       "        element.crossOrigin = \"anonymous\";\n",
       "        element.integrity = \"sha384-\" + hashes[url];\n",
       "      }\n",
       "      console.debug(\"Bokeh: injecting script tag for BokehJS library: \", url);\n",
       "      document.head.appendChild(element);\n",
       "    }\n",
       "  };\n",
       "\n",
       "  function inject_raw_css(css) {\n",
       "    const element = document.createElement(\"style\");\n",
       "    element.appendChild(document.createTextNode(css));\n",
       "    document.body.appendChild(element);\n",
       "  }\n",
       "\n",
       "  \n",
       "  var js_urls = [\"https://cdn.bokeh.org/bokeh/release/bokeh-2.1.1.min.js\", \"https://cdn.bokeh.org/bokeh/release/bokeh-widgets-2.1.1.min.js\", \"https://cdn.bokeh.org/bokeh/release/bokeh-tables-2.1.1.min.js\", \"https://cdn.bokeh.org/bokeh/release/bokeh-gl-2.1.1.min.js\"];\n",
       "  var css_urls = [];\n",
       "  \n",
       "\n",
       "  var inline_js = [\n",
       "    function(Bokeh) {\n",
       "      Bokeh.set_log_level(\"info\");\n",
       "    },\n",
       "    function(Bokeh) {\n",
       "    \n",
       "    \n",
       "    }\n",
       "  ];\n",
       "\n",
       "  function run_inline_js() {\n",
       "    \n",
       "    if (root.Bokeh !== undefined || force === true) {\n",
       "      \n",
       "    for (var i = 0; i < inline_js.length; i++) {\n",
       "      inline_js[i].call(root, root.Bokeh);\n",
       "    }\n",
       "    } else if (Date.now() < root._bokeh_timeout) {\n",
       "      setTimeout(run_inline_js, 100);\n",
       "    } else if (!root._bokeh_failed_load) {\n",
       "      console.log(\"Bokeh: BokehJS failed to load within specified timeout.\");\n",
       "      root._bokeh_failed_load = true;\n",
       "    } else if (force !== true) {\n",
       "      var cell = $(document.getElementById(null)).parents('.cell').data().cell;\n",
       "      cell.output_area.append_execute_result(NB_LOAD_WARNING)\n",
       "    }\n",
       "\n",
       "  }\n",
       "\n",
       "  if (root._bokeh_is_loading === 0) {\n",
       "    console.debug(\"Bokeh: BokehJS loaded, going straight to plotting\");\n",
       "    run_inline_js();\n",
       "  } else {\n",
       "    load_libs(css_urls, js_urls, function() {\n",
       "      console.debug(\"Bokeh: BokehJS plotting callback run at\", now());\n",
       "      run_inline_js();\n",
       "    });\n",
       "  }\n",
       "}(window));"
      ],
      "application/vnd.bokehjs_load.v0+json": "\n(function(root) {\n  function now() {\n    return new Date();\n  }\n\n  var force = true;\n\n  if (typeof root._bokeh_onload_callbacks === \"undefined\" || force === true) {\n    root._bokeh_onload_callbacks = [];\n    root._bokeh_is_loading = undefined;\n  }\n\n  \n\n  \n  if (typeof (root._bokeh_timeout) === \"undefined\" || force === true) {\n    root._bokeh_timeout = Date.now() + 5000;\n    root._bokeh_failed_load = false;\n  }\n\n  var NB_LOAD_WARNING = {'data': {'text/html':\n     \"<div style='background-color: #fdd'>\\n\"+\n     \"<p>\\n\"+\n     \"BokehJS does not appear to have successfully loaded. If loading BokehJS from CDN, this \\n\"+\n     \"may be due to a slow or bad network connection. Possible fixes:\\n\"+\n     \"</p>\\n\"+\n     \"<ul>\\n\"+\n     \"<li>re-rerun `output_notebook()` to attempt to load from CDN again, or</li>\\n\"+\n     \"<li>use INLINE resources instead, as so:</li>\\n\"+\n     \"</ul>\\n\"+\n     \"<code>\\n\"+\n     \"from bokeh.resources import INLINE\\n\"+\n     \"output_notebook(resources=INLINE)\\n\"+\n     \"</code>\\n\"+\n     \"</div>\"}};\n\n  function display_loaded() {\n    var el = document.getElementById(null);\n    if (el != null) {\n      el.textContent = \"BokehJS is loading...\";\n    }\n    if (root.Bokeh !== undefined) {\n      if (el != null) {\n        el.textContent = \"BokehJS \" + root.Bokeh.version + \" successfully loaded.\";\n      }\n    } else if (Date.now() < root._bokeh_timeout) {\n      setTimeout(display_loaded, 100)\n    }\n  }\n\n\n  function run_callbacks() {\n    try {\n      root._bokeh_onload_callbacks.forEach(function(callback) {\n        if (callback != null)\n          callback();\n      });\n    } finally {\n      delete root._bokeh_onload_callbacks\n    }\n    console.debug(\"Bokeh: all callbacks have finished\");\n  }\n\n  function load_libs(css_urls, js_urls, callback) {\n    if (css_urls == null) css_urls = [];\n    if (js_urls == null) js_urls = [];\n\n    root._bokeh_onload_callbacks.push(callback);\n    if (root._bokeh_is_loading > 0) {\n      console.debug(\"Bokeh: BokehJS is being loaded, scheduling callback at\", now());\n      return null;\n    }\n    if (js_urls == null || js_urls.length === 0) {\n      run_callbacks();\n      return null;\n    }\n    console.debug(\"Bokeh: BokehJS not loaded, scheduling load and callback at\", now());\n    root._bokeh_is_loading = css_urls.length + js_urls.length;\n\n    function on_load() {\n      root._bokeh_is_loading--;\n      if (root._bokeh_is_loading === 0) {\n        console.debug(\"Bokeh: all BokehJS libraries/stylesheets loaded\");\n        run_callbacks()\n      }\n    }\n\n    function on_error() {\n      console.error(\"failed to load \" + url);\n    }\n\n    for (var i = 0; i < css_urls.length; i++) {\n      var url = css_urls[i];\n      const element = document.createElement(\"link\");\n      element.onload = on_load;\n      element.onerror = on_error;\n      element.rel = \"stylesheet\";\n      element.type = \"text/css\";\n      element.href = url;\n      console.debug(\"Bokeh: injecting link tag for BokehJS stylesheet: \", url);\n      document.body.appendChild(element);\n    }\n\n    const hashes = {\"https://cdn.bokeh.org/bokeh/release/bokeh-2.1.1.min.js\": \"kLr4fYcqcSpbuI95brIH3vnnYCquzzSxHPU6XGQCIkQRGJwhg0StNbj1eegrHs12\", \"https://cdn.bokeh.org/bokeh/release/bokeh-widgets-2.1.1.min.js\": \"xIGPmVtaOm+z0BqfSOMn4lOR6ciex448GIKG4eE61LsAvmGj48XcMQZtKcE/UXZe\", \"https://cdn.bokeh.org/bokeh/release/bokeh-tables-2.1.1.min.js\": \"Dc9u1wF/0zApGIWoBbH77iWEHtdmkuYWG839Uzmv8y8yBLXebjO9ZnERsde5Ln/P\", \"https://cdn.bokeh.org/bokeh/release/bokeh-gl-2.1.1.min.js\": \"cT9JaBz7GiRXdENrJLZNSC6eMNF3nh3fa5fTF51Svp+ukxPdwcU5kGXGPBgDCa2j\"};\n\n    for (var i = 0; i < js_urls.length; i++) {\n      var url = js_urls[i];\n      var element = document.createElement('script');\n      element.onload = on_load;\n      element.onerror = on_error;\n      element.async = false;\n      element.src = url;\n      if (url in hashes) {\n        element.crossOrigin = \"anonymous\";\n        element.integrity = \"sha384-\" + hashes[url];\n      }\n      console.debug(\"Bokeh: injecting script tag for BokehJS library: \", url);\n      document.head.appendChild(element);\n    }\n  };\n\n  function inject_raw_css(css) {\n    const element = document.createElement(\"style\");\n    element.appendChild(document.createTextNode(css));\n    document.body.appendChild(element);\n  }\n\n  \n  var js_urls = [\"https://cdn.bokeh.org/bokeh/release/bokeh-2.1.1.min.js\", \"https://cdn.bokeh.org/bokeh/release/bokeh-widgets-2.1.1.min.js\", \"https://cdn.bokeh.org/bokeh/release/bokeh-tables-2.1.1.min.js\", \"https://cdn.bokeh.org/bokeh/release/bokeh-gl-2.1.1.min.js\"];\n  var css_urls = [];\n  \n\n  var inline_js = [\n    function(Bokeh) {\n      Bokeh.set_log_level(\"info\");\n    },\n    function(Bokeh) {\n    \n    \n    }\n  ];\n\n  function run_inline_js() {\n    \n    if (root.Bokeh !== undefined || force === true) {\n      \n    for (var i = 0; i < inline_js.length; i++) {\n      inline_js[i].call(root, root.Bokeh);\n    }\n    } else if (Date.now() < root._bokeh_timeout) {\n      setTimeout(run_inline_js, 100);\n    } else if (!root._bokeh_failed_load) {\n      console.log(\"Bokeh: BokehJS failed to load within specified timeout.\");\n      root._bokeh_failed_load = true;\n    } else if (force !== true) {\n      var cell = $(document.getElementById(null)).parents('.cell').data().cell;\n      cell.output_area.append_execute_result(NB_LOAD_WARNING)\n    }\n\n  }\n\n  if (root._bokeh_is_loading === 0) {\n    console.debug(\"Bokeh: BokehJS loaded, going straight to plotting\");\n    run_inline_js();\n  } else {\n    load_libs(css_urls, js_urls, function() {\n      console.debug(\"Bokeh: BokehJS plotting callback run at\", now());\n      run_inline_js();\n    });\n  }\n}(window));"
     },
     "metadata": {
      "tags": []
     },
     "output_type": "display_data"
    },
    {
     "data": {
      "text/html": [
       "\n",
       "\n",
       "\n",
       "\n",
       "\n",
       "\n",
       "  <div class=\"bk-root\" id=\"5356d0ed-ea8d-4765-ac95-a53f872d3af0\" data-root-id=\"1003\"></div>\n"
      ]
     },
     "metadata": {
      "tags": []
     },
     "output_type": "display_data"
    },
    {
     "data": {
      "application/javascript": [
       "(function(root) {\n",
       "  function embed_document(root) {\n",
       "    \n",
       "  var docs_json = {\"a551b4b6-59db-4bfa-bdf5-044c731f0fd3\":{\"roots\":{\"references\":[{\"attributes\":{\"below\":[{\"id\":\"1012\"}],\"center\":[{\"id\":\"1015\"},{\"id\":\"1019\"},{\"id\":\"1060\"}],\"left\":[{\"id\":\"1016\"}],\"plot_height\":550,\"plot_width\":900,\"renderers\":[{\"id\":\"1037\"},{\"id\":\"1065\"}],\"title\":{\"id\":\"1040\"},\"toolbar\":{\"id\":\"1027\"},\"x_range\":{\"id\":\"1004\"},\"x_scale\":{\"id\":\"1008\"},\"y_range\":{\"id\":\"1006\"},\"y_scale\":{\"id\":\"1010\"}},\"id\":\"1003\",\"subtype\":\"Figure\",\"type\":\"Plot\"},{\"attributes\":{\"axis\":{\"id\":\"1016\"},\"dimension\":1,\"ticker\":null},\"id\":\"1019\",\"type\":\"Grid\"},{\"attributes\":{},\"id\":\"1075\",\"type\":\"Selection\"},{\"attributes\":{\"line_alpha\":0.1,\"line_color\":\"olive\",\"x\":{\"field\":\"dates\"},\"y\":{\"field\":\"member_name\"}},\"id\":\"1064\",\"type\":\"Line\"},{\"attributes\":{\"data_source\":{\"id\":\"1001\"},\"glyph\":{\"id\":\"1035\"},\"hover_glyph\":null,\"muted_glyph\":null,\"nonselection_glyph\":{\"id\":\"1036\"},\"selection_glyph\":null,\"view\":{\"id\":\"1038\"}},\"id\":\"1037\",\"type\":\"GlyphRenderer\"},{\"attributes\":{\"text\":\"Speeches per date\"},\"id\":\"1040\",\"type\":\"Title\"},{\"attributes\":{\"data_source\":{\"id\":\"1002\"},\"glyph\":{\"id\":\"1063\"},\"hover_glyph\":null,\"muted_glyph\":null,\"nonselection_glyph\":{\"id\":\"1064\"},\"selection_glyph\":null,\"view\":{\"id\":\"1066\"}},\"id\":\"1065\",\"type\":\"GlyphRenderer\"},{\"attributes\":{\"source\":{\"id\":\"1001\"}},\"id\":\"1038\",\"type\":\"CDSView\"},{\"attributes\":{\"line_color\":\"olive\",\"x\":{\"field\":\"dates\"},\"y\":{\"field\":\"member_name\"}},\"id\":\"1063\",\"type\":\"Line\"},{\"attributes\":{},\"id\":\"1042\",\"type\":\"BasicTickFormatter\"},{\"attributes\":{},\"id\":\"1020\",\"type\":\"PanTool\"},{\"attributes\":{\"source\":{\"id\":\"1002\"}},\"id\":\"1066\",\"type\":\"CDSView\"},{\"attributes\":{},\"id\":\"1044\",\"type\":\"DatetimeTickFormatter\"},{\"attributes\":{},\"id\":\"1021\",\"type\":\"WheelZoomTool\"},{\"attributes\":{},\"id\":\"1076\",\"type\":\"UnionRenderers\"},{\"attributes\":{},\"id\":\"1045\",\"type\":\"Selection\"},{\"attributes\":{\"overlay\":{\"id\":\"1026\"}},\"id\":\"1022\",\"type\":\"BoxZoomTool\"},{\"attributes\":{\"days\":[1,15]},\"id\":\"1053\",\"type\":\"DaysTicker\"},{\"attributes\":{\"line_color\":\"navy\",\"x\":{\"field\":\"dates\"},\"y\":{\"field\":\"speeches\"}},\"id\":\"1035\",\"type\":\"Line\"},{\"attributes\":{},\"id\":\"1046\",\"type\":\"UnionRenderers\"},{\"attributes\":{},\"id\":\"1023\",\"type\":\"SaveTool\"},{\"attributes\":{\"mantissas\":[1,2,5],\"max_interval\":500.0,\"num_minor_ticks\":0},\"id\":\"1047\",\"type\":\"AdaptiveTicker\"},{\"attributes\":{},\"id\":\"1024\",\"type\":\"ResetTool\"},{\"attributes\":{},\"id\":\"1025\",\"type\":\"HelpTool\"},{\"attributes\":{\"data\":{\"dates\":{\"__ndarray__\":\"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\",\"dtype\":\"float64\",\"order\":\"little\",\"shape\":[4774]},\"speeches\":[4,6,48,31,356,143,246,240,350,300,263,211,143,119,171,354,137,160,540,333,120,174,48,307,121,175,246,206,381,384,511,314,147,293,326,734,488,86,3,2,5,1,108,129,8,53,172,53,254,131,123,278,120,41,66,61,289,119,33,135,124,78,7,84,172,237,74,90,137,616,382,45,1,97,4,92,199,150,217,11,123,229,144,13,135,90,237,388,150,4,6,10,10,115,323,4,18,33,119,101,176,120,61,66,156,57,387,313,363,364,150,30,181,198,72,82,186,51,137,83,60,135,187,165,166,156,59,6,63,130,119,184,217,318,391,272,81,215,209,212,211,330,311,751,134,174,110,460,118,242,237,137,360,74,185,347,220,348,66,171,83,167,221,317,188,118,174,216,294,597,606,609,133,264,109,278,112,253,392,250,217,171,273,191,106,340,286,168,270,264,370,304,151,129,127,280,497,199,189,344,454,335,151,356,119,429,162,184,201,403,252,195,521,364,183,457,332,364,113,197,106,213,481,205,268,191,146,331,180,23,71,250,128,185,202,471,338,17,510,188,148,322,136,192,261,516,369,74,139,183,366,295,157,276,300,491,230,321,565,558,219,206,181,358,419,420,277,189,288,391,167,311,208,530,228,331,123,139,232,264,114,419,162,93,322,558,376,254,339,210,141,256,225,275,140,186,246,118,478,136,146,232,42,127,272,161,322,136,204,228,285,352,426,130,253,266,165,147,89,67,4,216,490,38,187,159,104,261,342,10,27,282,352,84,369,534,372,173,97,288,314,134,670,266,531,113,238,260,280,285,81,384,213,316,8,25,40,179,582,215,267,374,181,574,591,127,391,292,185,345,144,507,505,104,468,283,204,151,404,354,114,321,191,194,217,137,308,412,107,371,248,267,255,261,311,71,294,286,411,631,126,152,115,155,406,350,466,222,123,266,325,144,48,109,313,404,488,405,401,188,321,154,181,400,152,330,92,87,439,402,112,390,263,103,796,174,365,287,26,209,283,114,170,292,516,692,258,297,164,305,220,286,382,305,123,154,256,189,480,265,187,82,353,217,93,410,25,161,144,92,11,97,268,211,312,138,134,380,112,219,21,185,323,337,283,146,215,481,419,192,431,427,417,376,236,129,497,180,338,178,241,314,455,177,65,418,229,428,249,342,63,176,375,106,119,207,35,96,148,206,181,243,428,352,253,234,408,321,944,332,454,916,228,169,160,208,163,230,249,191,340,436,316,153,152,223,218,216,347,173,233,192,293,57,9,120,187,447,128,225,289,357,180,237,364,11,519,326,75,239,137,320,308,138,101,131,263,221,390,91,265,275,250,464,380,344,203,26,309,333,73,393,445,119,225,293,459,233,630,105,170,223,335,477,319,194,96,113,128,159,199,356,473,251,111,271,354,310,266,150,418,257,331,373,189,187,139,161,165,250,373,308,221,203,115,206,15,77,200,179,158,433,326,182,178,161,286,200,174,238,306,162,413,280,491,539,371,288,415,624,243,594,138,230,226,359,105,205,109,489,401,122,161,243,443,730,392,140,389,367,435,338,282,222,141,345,404,142,174,144,130,84,249,139,415,363,502,127,201,612,435,229,257,222,227,470,358,216,381,134,282,333,658,130,357,442,236,440,288,318,471,54,383,381,271,472,130,138,34,6,3,170,367,26,288,158,168,65,11,249,356,280,231,136,544,972,128,532,61,296,371,163,44,204,189,422,324,188,206,291,309,179,190,204,330,221,97,213,378,473,316,95,317,515,494,63,101,466,276,95,110,489,476,337,111,226,192,285,399,191,27,552,174,244,388,70,190,622,99,173,180,196,343,262,415,11,119,85,24,66,100,576,94,195,103,83,241,235,204,111,105,448,273,119,400,680,577,515,12,13,61,140,298,131,64,481,282,339,150,137,226,331,464,249,369,151,232,163,47,275,399,80,107,84,248,418,260,119,104,167,274,203,369,179,361,239,484,332,412,331,152,276,424,181,346,240,120,75,188,393,200,211,228,4,18,13,23,80,365,61,207,119,100,54,306,293,77,471,202,63,217,217,126,186,263,452,161,255,160,172,284,222,134,146,295,185,210,273,142,244,540,230,172,76,651,156,443,200,161,55,274,360,326,62,181,154,188,181,310,268,367,124,143,485,296,237,397,470,368,654,296,202,161,235,493,261,315,246,264,307,309,346,165,634,192,476,201,371,373,533,322,313,72,222,125,169,245,246,138,172,356,229,127,370,192,147,205,89,201,341,163,183,420,86,150,248,115,170,114,383,153,178,290,231,370,209,129,347,297,705,103,50,199,308,476,267,170,186,396,174,183,262,207,496,332,238,188,68,304,414,305,149,254,251,350,168,179,159,268,407,431,469,428,98,411,103,161,694,465,217,174,388,375,276,264,250,245,271,90,99,131,208,522,273,81,113,211,307,306,149,178,170,192,277,291,14,11,340,367,308,176,440,485,600,240,231,158,223,191,278,364,201,328,259,534,463,166,372,251,379,345,202,68,94,185,206,389,144,257,268,248,139,226,198,436,240,295,159,111,143,388,475,455,481,509,76,10,232,663,317,91,260,251,229,534,368,275,232,396,216,419,192,358,314,293,105,241,627,75,364,292,168,442,297,361,201,115,173,295,115,191,291,28,54,172,239,496,7,166,233,28,135,167,202,84,104,171,115,346,124,371,381,203,403,187,251,187,179,311,179,167,163,209,511,687,299,415,198,445,183,204,222,259,294,239,334,108,173,626,358,831,176,183,385,467,189,142,151,594,386,178,160,151,330,92,214,118,152,122,335,275,82,365,461,195,248,189,105,159,197,163,315,126,336,170,248,165,176,209,283,182,117,145,149,458,198,314,189,432,149,192,73,168,743,470,142,116,95,112,201,319,140,201,341,106,139,81,77,210,607,324,120,766,264,531,319,59,123,325,62,262,118,218,26,402,292,104,141,148,188,129,148,346,67,218,164,42,164,45,148,169,293,101,329,180,245,674,173,165,325,133,240,441,315,49,232,307,250,12,290,286,444,230,242,315,6,422,572,216,66,280,209,393,158,302,145,107,557,261,194,308,182,202,144,147,355,490,194,185,185,100,166,135,174,267,294,177,339,105,172,319,153,90,120,309,136,250,172,124,239,238,71,473,533,122,209,61,252,472,115,187,155,159,184,175,206,206,383,213,231,274,158,170,219,441,197,197,5,355,281,459,217,176,80,213,401,157,129,251,103,193,117,491,329,359,55,138,215,73,19,57,6,7,14,7,126,265,53,62,74,88,45,61,139,234,97,303,220,191,199,137,169,151,126,421,95,330,43,114,80,76,156,308,56,247,114,82,157,222,98,104,363,131,133,292,418,226,109,160,151,103,131,67,187,83,264,178,178,25,59,131,13,106,118,174,193,223,101,214,142,228,301,383,142,117,220,124,107,244,211,132,147,197,237,305,166,269,95,297,114,122,94,133,132,233,135,288,237,345,80,159,271,223,348,165,101,137,187,216,358,127,305,210,182,101,83,72,98,269,110,131,188,157,234,127,271,85,240,140,247,102,418,257,222,177,127,186,205,310,191,325,695,344,192,147,492,558,155,167,363,226,826,380,308,611,553,165,115,272,642,320,207,223,443,430,225,136,199,595,414,129,310,546,254,124,350,180,564,190,132,79,154,321,67,162,74,156,295,127,406,328,91,41,151,196,247,139,124,200,194,394,199,134,148,259,168,316,68,95,297,247,241,173,71,333,390,427,221,267,352,262,200,109,283,160,366,186,574,406,397,122,98,153,53,265,308,161,295,133,99,63,204,223,116,15,542,376,192,276,469,122,169,141,267,7,200,166,240,196,174,252,396,117,178,217,278,211,239,196,97,528,232,498,283,68,220,462,236,338,283,171,183,273,454,210,146,380,175,202,237,154,299,185,265,203,156,165,201,406,174,311,167,150,341,111,98,129,142,279,312,126,147,329,382,200,222,303,59,207,234,128,61,104,71,161,56,151,356,130,122,109,95,76,236,191,178,29,124,139,188,256,162,52,254,133,470,95,179,176,85,173,127,284,185,132,39,143,148,28,244,259,195,142,252,71,113,111,148,358,63,79,167,101,197,105,144,52,179,195,195,156,206,73,193,89,120,139,346,164,111,262,276,91,204,55,163,174,331,102,36,51,51,101,185,188,110,125,56,201,279,382,255,290,523,83,231,496,546,227,201,59,102,165,321,337,7,214,103,196,143,121,215,69,209,142,288,236,536,132,98,142,280,180,203,154,281,31,130,149,175,125,202,37,120,222,77,48,102,108,157,224,210,179,432,34,108,169,353,190,169,167,112,155,117,103,488,81,83,255,170,124,342,199,171,115,109,148,287,102,133,164,158,294,311,370,104,148,157,145,109,327,172,290,18,160,127,334,169,121,107,234,193,2,35,169,153,301,126,138,151,202,298,109,217,139,191,196,175,195,196,174,155,217,112,126,107,144,152,184,260,435,178,59,132,219,118,198,314,438,155,142,333,154,145,132,86,175,104,141,321,227,287,88,227,164,136,226,173,93,123,234,128,188,184,177,187,432,102,193,190,204,96,314,126,130,84,288,36,168,2,10,102,235,157,276,102,62,185,124,205,33,124,121,10,200,369,126,309,153,172,58,190,240,107,117,129,275,234,180,267,219,168,55,137,150,69,479,163,96,101,94,93,163,154,198,410,384,93,165,174,226,223,331,313,165,123,154,201,132,170,210,134,127,163,120,84,301,303,275,98,277,266,172,30,3,14,9,111,143,43,58,43,72,98,47,46,36,36,47,131,280,204,253,80,83,77,186,43,237,145,226,168,138,139,35,79,152,145,182,115,216,155,148,136,173,143,485,115,200,70,65,76,44,210,427,378,554,19,200,283,626,173,182,310,308,183,189,207,225,366,62,113,181,220,546,180,220,83,332,280,438,529,158,131,109,169,170,172,27,104,116,345,127,434,102,405,81,131,207,370,49,134,191,104,224,86,89,143,353,206,252,164,208,131,256,355,64,250,139,458,260,65,128,91,160,310,127,184,233,742,227,149,125,327,230,330,612,118,378,178,7,390,402,129,95,124,202,107,64,358,195,276,249,338,70,131,162,215,403,104,104,148,169,7,190,340,56,208,240,320,193,227,401,553,281,127,218,227,367,75,151,118,316,230,117,81,122,379,354,272,128,208,64,173,141,271,671,212,196,163,185,257,292,331,158,947,310,357,141,29,188,688,671,262,188,228,376,282,74,498,181,329,79,664,784,261,312,429,417,108,151,102,138,115,238,328,481,75,354,381,277,120,384,432,133,56,194,121,129,321,183,330,277,242,463,467,186,273,258,315,341,297,143,3,7,227,407,276,113,446,147,862,263,135,216,407,283,184,102,132,47,148,169,436,235,207,169,134,142,237,206,212,213,206,401,198,141,367,312,108,174,240,388,173,252,385,206,171,229,182,279,287,478,290,235,84,190,265,398,332,118,246,204,259,218,94,279,240,233,63,121,292,251,212,94,109,175,181,242,207,319,168,198,209,269,169,56,97,324,132,370,210,219,255,156,48,522,211,303,529,11,142,172,196,297,265,136,279,221,85,10,247,348,315,627,347,309,181,242,177,197,300,186,169,73,207,56,156,87,310,83,542,172,369,129,178,89,204,202,295,74,124,350,75,105,184,143,110,137,162,400,87,24,255,92,148,363,214,72,243,88,252,154,154,267,72,238,260,164,108,535,238,170,569,530,87,425,181,98,90,75,254,194,140,83,296,229,162,223,128,174,407,182,116,302,67,154,15,232,99,114,363,123,132,171,49,97,126,356,26,240,120,263,78,200,131,205,167,203,126,223,158,109,192,83,50,138,252,260,247,143,318,241,397,140,277,238,283,377,190,188,87,254,238,379,284,129,64,132,123,231,118,423,136,412,323,182,245,110,197,165,70,209,329,134,400,218,494,164,123,174,147,201,83,379,134,156,231,115,11,176,106,163,133,134,372,350,355,424,362,160,158,99,316,508,443,217,143,186,36,219,268,9,183,89,184,259,143,513,147,162,175,227,258,231,137,97,200,135,148,97,348,164,121,162,339,134,139,92,177,183,51,140,339,574,159,178,169,249,129,72,156,227,416,187,221,264,110,198,170,278,227,301,217,99,165,147,72,139,145,254,313,415,124,122,80,202,279,163,65,295,107,81,172,71,540,7,14,16,115,299,59,48,76,94,60,43,58,58,57,137,339,165,220,106,70,66,68,449,83,162,64,55,114,217,164,160,63,201,197,403,201,143,205,262,386,165,139,190,171,191,181,128,383,212,473,204,108,308,120,392,350,229,174,212,230,276,132,205,106,431,104,164,271,257,221,223,15,380,407,327,222,472,198,232,141,146,380,260,337,106,157,149,146,376,248,339,406,249,422,109,200,197,142,278,436,207,167,363,317,970,1171,134,480,280,461,189,247,334,287,141,198,160,73,42,155,129,315,158,66,143,166,302,271,234,244,235,176,320,114,202,119,83,170,261,137,265,14,275,361,253,157,193,342,178,139,137,184,330,231,121,159,582,305,204,237,182,534,554,73,361,166,184,230,161,471,352,300,760,278,49,253,596,199,459,159,285,189,423,150,308,304,564,399,176,101,490,391,296,214,218,269,783,885,137,3,11,129,417,227,135,311,335,326,152,238,151,692,339,240,326,47,148,318,149,223,143,166,278,61,85,135,139,180,252,308,150,176,209,446,238,297,178,179,402,353,41,159,276,299,475,166,155,343,55,254,390,333,218,96,170,206,377,292,179,229,280,182,372,62,152,400,185,164,323,232,185,236,257,235,160,242,362,37,344,44,257,399,329,223,128,248,132,465,108,147,275,134,213,137,403,43,82,142,333,383,380,193,165,200,610,277,270,211,194,353,476,90,275,170,296,336,143,212,509,192,56,306,275,289,210,148,433,117,305,303,486,81,310,305,268,124,248,192,313,230,234,301,272,167,188,572,191,248,303,70,10,9,9,108,417,71,56,35,160,57,69,91,222,201,80,17,83,121,80,190,181,240,78,161,154,330,212,169,135,226,279,469,137,106,215,357,319,191,157,76,271,535,205,127,297,119,259,206,210,230,196,282,105,62,188,8,210,117,139,207,129,340,225,113,170,153,172,134,166,148,417,253,131,52,182,327,140,310,346,455,7,141,374,172,337,106,168,244,243,67,398,468,903,73,103,141,349,271,158,204,167,376,169,73,98,312,417,409,296,271,181,326,173,163,144,162,211,126,67,234,474,678,1660,148,173,397,161,147,80,201,101,221,120,162,114,190,74,147,83,154,27,46,156,134,160,203,174,265,282,202,395,526,118,274,219,341,239,190,196,405,554,77,136,316,443,219,129,336,470,124,180,301,126,304,170,164,292,172,142,144,164,184,119,316,75,433,229,4,12,166,460,173,132,83,94,175,280,44,54,76,182,189,335,203,225,300,121,406,190,89,196,223,298,160,71,224,180,143,225,147,25,231,211,217,171,592,137,253,266,65,176,284,239,215,223,129,332,191,137,82,146,143,261,225,75,180,360,326,155,56,229,465,378,113,111,415,1156,345,243,182,480,230,562,176,300,436,224,142,186,172,146,276,138,165,555,579,230,162,212,369,407,134,283,653,144,119,256,126,246,226,105,214,159,516,129,163,172,148,147,278,232,90,260,422,600,312,156,324,436,196,437,117,140,93,746,162,182,256,654,221,231,154,170,467,252,71,146,161,206,220,181,185,333,4,54,306,357,53,276,92,335,232,1215,838,198,92,54,31,174,75,68,130,226,187,123,194,149,516,177,151,78,214,76,913,62,66,264,258,768,164,436,693,138,194,164,131,159,476,82,48,442,229,556,261,43,281,161,311,332,157,193,353,451,212,77,82,242,69,226,3,71,306,117,145,47,148,185,596,249,60,265,339,622,239,55,208,131,54,365,202,162,150,224,550,9,67,445,199,27,221,82,83,92,55,79,79,148,40,171,133,297,170,184,95,245,97,63,377,240,247,67,47,157,108,297,278,234,118,185,629,341,180,75,365,254,131,258,88,240,131,587,249,65,127,61,287,139,643,53,227,347,237,177,379,474,223,200,282,1008,707,118,201,146,149,485,136,52,264,416,295,112,145,225,282,435,253,62,262,607,136,325,1336,1593,833,153,631,998,7,19,7,16,33,108,463,96,85,66,127,415,147,48,137,131,349,335,53,305,90,83,256,126,325,362,364,93,73,365,528,595,220,39,10,142,545,315,88,103,101,794,253,36,2,145,102,198,59,3,148,131,197,75,273,471,344,105,480,67,96,205,62,122,657,107,383,530,303,20,41,54,76,141,37,147,68,90,201,37,341,32,217,74,356,75,111,51,21,74,146,67,257,768,22,77,364,145,271,690,559,517,683,295,419,614,133,73,250,98,352,61,114,141,524,52,35,300,382,67,45,79,53,458,264,154,202,259,83,204,108,146,82,418,75,68,223,459,399,64,71,26,50,66,241,344,149,65,157,146,216,295,183,72,567,175,517,83,155,201,528,295,16,56,198,660,361,114,95,230,249,387,191,540,220,169,531,266,87,68,89,72,79,45,172,101,91,60,23,265,593,56,381,3,226,351,237,24,200,226,458,136,118,498,179,10,26,29,69,706,70,195,93,51,399,710,699,570,443,150,244,350,228,274,436,184,47,197,609,206,57,169,475,75,579,1041,470,93,179,827,58,107,14,3,10,24,82,111,34,165,23,364,76,63,286,293,364,311,250,587,211,478,508,212,502,294,697,615,40,242,225,100,130,95,23,487,306,35,57,19,499,392,57,123,91,177,373,249,200,327,332,303,369,30,56,236,442,444,663,371,284,222,54,190,16,25,259,96,151,27,31,205,474,78,718,245,251,713,363,156,424,409,804,188,49,225,321,179,134,1,140,103,174,178,134,23,178,593,117,117,219,1108,229,183,331,295,522,92,19,274,394,1171,67,184,69,50,605,412,277,598,371,266,253,628,393,758,305,151,236,807,214,1265,167,691,250,251,311,512,122,111,26,568,37,62,344,1134,223,117,292,543,173,598,719,689,289,352,135,508,380,181,339,200,557,551,1367,234,360,419,493,629,152,320,420,117,501,291,113,469,266,700,12,110,4,9,178,523,517,71,460,384,429,40,85,282,537,463,637,73,195,187,58,13,166,90,37,308,505,1056,90,29,20,78,377,30,100,251,520,864,126,43,26,90,120,508,421,387,82,713,354,848,56,85,8,706,175,609,1095,7,6,8,38,8,284,355,8,280,26,246,8,283,1181,141,697,72,10,294,81,50,330,492,479,170,34,933,387,948,146,201,725,630,514,300,126,549,379,247,58,40,9,124,123,36,193,478,308,134,399,280,123,160,175,235,100,325,164,410,121,50,869,286,974,10,362,460,232,236,18,277,1,58,497,3,151,86,60,21,18,912,52,5,7,13,67,7,26,16,388,563,557,802,199,658,6,1138,107,90,373,67,375,1458,91,130,202,41,112,87,55,137,561,188,69,203,38,111,405,401,641,504,322,537,73,63,99,255,280,687,332,82,357,713,31,59,71,26,142,158,247,21,131,273,106,391,196,555,1631,237,148,314,156,1190,894,91,123,1058,859,187,260,1224,149,166,47,651,98,51,42,171,91,12,541,134,251,237,24,189,554,192,242,737,84,446,8,63,129,782,206,364,100,12,398,998,149,43,502,1046,968,1600,37,29,312,35,211,286,160,628,1269,11,121,122,158,38,551,981,19,22,108,35,152,212,477,1114,227,275,72,114,122,682,651,612,246,168,255,49,209,216,70,164,224,383,1391,659,237,519,836,668,113,229,3677,1281,898,123,107,174,1030,349,30,12,58,567,63,35,188,179,111,73,127,419,753,284,58,846,215,750,230,4,14,23,1182,76,476,27,128,39,181,549,188,1060,186,273,219,212,6,646,260,24,379,50,74,161,38,37,114,881,672,756,41,685,727,1410,136,11,108,509,618,482,261,26,421,1257,286,1556,121,875,74,392,52,128,127,844,49,20,33,65,26,202,29,715,50,79,145,500,886,258,63,123,392,159,21,32,1059,206,38,258,65,324,181,30,252,46,188,1803,185,152,142,162,366,26,68,523,816,471,30,83,173,180,200,395,491,60,68,72,290,460,192,168,53,304,237,85,90,48,537,646,133,28,503,115,77,142,554,62,194,478,176,98,70,112,1198,378,116,417,330,73,42,308,210,458,96,161,43,146,477,2,130,608,69,25,205,416,229,733,456,685,1458,1696,615,14,124,33,126,323,1498,3,77,34,151,299,228,594,101,241,415,70,125,11,239,62,6,368,272,695,3,42,98,127,133,76,59,676,160,15,186,612,57,124,64,1296,657,25,205,174,89,400,94,1851,25,645,541,152,22,169,257,15,45,31,124,312,519,470,291,920,1370,35,35,176,68,446,3908,664,25,21,58,98,1383,174,30,34,362,47,24,2,644,88,112,866,25,885,415,64,586,244,518,11,147,234,263,43,114,339,138,24,144,494,39,45,503,16,634,84,325,276,111,11,132,337,106,77,12,98,25,66,121,283,358,40,38,74,301,64,97,505,20,99,163,35,184,126,58,261,75,183,378,72,194,645,553,1056,673,66,240,130,62,93,384,84,274,80,226,234,29,239,361,559,67,22,34,64,14,1001,12,469,37,18,37,335,12,25,253,38,536,120,11,32,246,261,15,5,49,66,33,53,55,267,103,215,8,52,426,21,289,62,3,397,145,21,330,328,17,22,116,306,50,7,190,98,118,5,348,11,17,471,209,433,234,527,359,259,603,497,18,303,45,107,13,495,425,596,3,82,989,480,310,46,396,226,6,59,144,101,188,102,389,4,456,612,293,99,3,208,236,383,64]},\"selected\":{\"id\":\"1045\"},\"selection_policy\":{\"id\":\"1046\"}},\"id\":\"1001\",\"type\":\"ColumnDataSource\"},{\"attributes\":{\"base\":60,\"mantissas\":[1,2,5,10,15,20,30],\"max_interval\":1800000.0,\"min_interval\":1000.0,\"num_minor_ticks\":0},\"id\":\"1048\",\"type\":\"AdaptiveTicker\"},{\"attributes\":{},\"id\":\"1004\",\"type\":\"DataRange1d\"},{\"attributes\":{\"months\":[0,6]},\"id\":\"1057\",\"type\":\"MonthsTicker\"},{\"attributes\":{\"base\":24,\"mantissas\":[1,2,4,6,8,12],\"max_interval\":43200000.0,\"min_interval\":3600000.0,\"num_minor_ticks\":0},\"id\":\"1049\",\"type\":\"AdaptiveTicker\"},{\"attributes\":{\"active_drag\":\"auto\",\"active_inspect\":\"auto\",\"active_multi\":null,\"active_scroll\":\"auto\",\"active_tap\":\"auto\",\"tools\":[{\"id\":\"1020\"},{\"id\":\"1021\"},{\"id\":\"1022\"},{\"id\":\"1023\"},{\"id\":\"1024\"},{\"id\":\"1025\"}]},\"id\":\"1027\",\"type\":\"Toolbar\"},{\"attributes\":{\"line_alpha\":0.1,\"line_color\":\"navy\",\"x\":{\"field\":\"dates\"},\"y\":{\"field\":\"speeches\"}},\"id\":\"1036\",\"type\":\"Line\"},{\"attributes\":{},\"id\":\"1006\",\"type\":\"DataRange1d\"},{\"attributes\":{\"days\":[1,2,3,4,5,6,7,8,9,10,11,12,13,14,15,16,17,18,19,20,21,22,23,24,25,26,27,28,29,30,31]},\"id\":\"1050\",\"type\":\"DaysTicker\"},{\"attributes\":{},\"id\":\"1008\",\"type\":\"LinearScale\"},{\"attributes\":{\"months\":[0,2,4,6,8,10]},\"id\":\"1055\",\"type\":\"MonthsTicker\"},{\"attributes\":{\"days\":[1,4,7,10,13,16,19,22,25,28]},\"id\":\"1051\",\"type\":\"DaysTicker\"},{\"attributes\":{},\"id\":\"1010\",\"type\":\"LinearScale\"},{\"attributes\":{\"data\":{\"dates\":{\"__ndarray__\":\"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\",\"dtype\":\"float64\",\"order\":\"little\",\"shape\":[4774]},\"member_name\":[4,6,47,31,343,139,242,236,345,293,258,204,141,118,162,349,128,156,529,329,118,168,46,305,117,172,243,205,367,376,494,304,145,292,318,700,478,86,3,2,4,1,108,126,8,51,165,52,254,130,123,277,119,40,64,52,281,118,32,134,120,75,7,82,171,234,74,90,136,599,369,45,1,92,4,90,196,148,215,11,120,224,136,12,134,83,234,381,149,4,6,10,10,113,320,3,18,32,117,98,169,120,60,66,154,54,379,307,322,357,147,29,181,195,71,81,186,51,134,83,60,132,184,164,161,152,58,6,57,126,118,184,215,312,385,254,80,214,208,212,205,330,303,735,131,173,110,450,118,236,230,136,354,74,184,341,217,344,66,169,78,165,221,314,187,118,165,216,292,592,569,570,125,260,108,271,110,252,383,243,215,157,272,189,106,328,285,167,268,258,360,300,150,127,127,280,479,198,187,329,436,328,150,348,116,410,157,184,199,399,249,195,513,361,182,448,311,362,113,194,106,210,477,198,264,191,144,303,175,23,71,246,122,180,198,470,335,17,493,182,145,321,133,190,249,513,356,73,130,179,351,295,151,275,298,486,227,320,558,544,218,203,180,345,413,410,275,188,280,382,164,308,197,516,220,323,119,136,223,263,114,397,154,90,319,539,365,254,338,201,139,255,224,274,121,185,239,117,452,136,146,228,41,127,269,160,313,130,203,224,282,337,416,129,203,236,148,147,88,67,4,210,459,38,185,157,102,249,306,10,27,280,337,83,367,520,369,169,97,288,312,133,663,259,496,113,238,247,270,280,80,380,200,303,8,24,40,178,576,213,259,350,180,570,548,123,384,289,183,341,143,496,478,99,465,282,203,146,391,349,112,314,189,188,213,134,288,392,102,362,240,267,253,256,308,70,293,284,397,623,126,152,115,155,404,315,451,222,121,260,320,139,47,103,311,384,477,396,358,178,301,152,178,394,150,312,87,83,436,393,112,365,262,99,770,170,340,285,26,200,272,111,170,292,489,670,251,289,158,301,218,283,372,302,119,151,254,185,468,257,182,76,345,211,93,395,25,160,144,87,10,95,267,207,309,138,129,371,112,210,21,184,317,318,277,146,214,470,398,191,407,393,415,370,234,124,490,176,300,168,238,307,432,176,65,384,213,407,240,330,63,157,346,105,119,206,35,96,148,206,181,242,400,342,251,233,403,311,911,330,453,835,227,167,160,205,160,229,249,191,308,354,270,128,144,219,217,215,335,151,231,192,292,57,8,117,181,443,126,224,269,348,178,235,358,11,500,325,75,239,132,310,304,135,101,131,247,221,384,91,258,268,247,447,360,331,194,24,306,324,71,389,410,119,221,283,439,217,586,104,168,222,334,474,315,184,96,107,126,158,199,352,463,250,109,268,331,310,263,150,378,255,326,366,179,184,137,159,161,242,368,301,217,198,115,199,14,76,198,179,158,376,288,181,173,160,286,199,174,235,306,150,407,276,474,524,367,287,414,621,239,578,135,228,222,355,97,201,98,411,390,117,161,237,422,718,378,138,387,343,406,322,279,219,137,342,376,140,173,139,127,84,248,139,410,286,486,127,200,597,417,227,234,217,211,445,346,212,377,134,266,329,637,127,340,432,231,436,278,279,448,52,378,311,239,432,128,96,32,6,3,170,363,24,287,157,167,65,10,246,344,272,228,134,543,940,127,510,61,290,358,163,44,200,189,411,324,188,206,287,308,177,188,204,319,221,96,212,367,457,310,95,315,502,484,63,101,454,275,94,108,427,442,326,109,224,191,275,394,189,27,528,171,242,385,69,189,601,95,170,180,196,330,259,410,11,117,84,24,66,98,554,93,188,101,83,239,228,197,109,103,432,264,116,395,674,507,440,11,13,57,136,297,131,63,427,273,336,150,133,225,306,458,248,356,146,225,162,47,269,381,80,106,84,248,408,252,118,103,165,252,201,364,170,338,236,466,326,407,324,139,259,413,177,334,224,117,74,186,387,190,210,219,4,18,13,23,79,363,61,207,118,96,54,297,284,76,457,198,58,215,215,125,186,262,445,159,252,159,171,274,222,131,146,294,182,207,271,136,243,512,222,172,76,604,154,418,195,159,55,274,358,316,58,177,139,185,179,307,266,353,124,139,470,291,237,397,461,349,629,288,197,160,230,470,256,314,242,260,298,309,344,163,615,189,461,198,369,357,527,277,312,70,218,121,167,235,236,138,172,354,201,127,341,191,147,204,88,201,338,163,181,402,84,135,247,115,160,110,364,150,174,282,226,361,209,127,331,296,671,101,50,199,284,453,266,168,186,389,170,180,259,207,474,320,232,188,66,304,401,303,148,249,237,337,167,166,153,263,397,411,447,397,97,405,103,144,684,460,186,174,380,356,275,238,241,238,258,88,92,131,208,508,263,80,110,211,307,292,145,166,170,189,247,277,14,11,333,343,307,173,381,472,575,236,227,158,214,183,276,360,197,325,255,516,457,163,369,248,359,325,199,62,92,178,202,364,143,248,262,246,138,225,197,399,237,282,155,105,142,384,442,440,471,492,72,10,231,658,301,89,259,248,229,529,365,272,232,394,215,413,191,351,306,291,103,235,596,73,364,286,167,432,294,344,197,111,169,262,113,190,285,28,54,170,239,433,7,163,205,28,135,167,201,83,104,169,115,343,124,342,381,202,381,182,224,186,176,293,175,135,160,209,506,675,299,410,195,441,183,194,221,255,289,238,330,108,172,560,345,787,176,182,381,464,186,137,131,585,378,176,158,151,314,90,214,117,151,122,326,271,82,342,431,190,240,189,105,157,193,160,308,126,325,167,246,165,174,207,272,172,116,142,145,445,192,313,189,403,139,190,72,164,731,466,126,116,94,110,172,307,140,198,330,101,139,81,76,204,515,278,119,680,259,522,310,58,123,322,61,250,118,218,24,386,277,101,139,121,180,112,133,325,66,168,159,42,141,45,147,157,261,98,276,178,231,648,173,165,304,111,236,421,307,48,230,286,235,12,277,284,438,229,190,314,6,404,554,213,66,272,205,381,154,298,143,107,512,256,193,307,176,200,144,147,327,455,191,184,184,94,150,132,172,261,259,173,323,105,169,298,150,90,120,288,128,223,172,123,202,232,67,456,514,121,208,59,252,446,114,186,152,156,162,174,204,204,369,210,230,274,157,161,197,409,192,193,5,301,262,452,216,174,79,190,388,152,128,229,103,191,117,469,324,333,55,137,205,71,19,56,6,6,14,7,122,265,53,60,74,88,43,61,139,233,97,265,212,191,189,114,166,149,125,406,94,319,43,114,80,76,131,286,53,240,112,82,152,216,96,104,356,131,133,286,418,222,109,153,151,103,122,65,186,83,256,151,151,25,59,102,13,106,117,171,183,222,101,212,136,227,293,373,141,114,220,123,106,242,209,130,146,194,224,302,165,266,95,290,112,122,89,133,112,224,134,286,235,304,80,158,258,207,332,162,101,136,186,216,355,124,284,204,180,101,83,72,97,266,110,124,184,156,229,127,258,85,237,139,246,102,416,257,221,175,127,186,201,309,191,314,692,335,192,145,472,555,149,167,355,213,822,379,307,590,546,163,114,271,638,299,206,223,440,423,225,134,193,549,412,129,264,531,241,124,349,179,553,153,132,79,152,315,66,160,74,155,231,127,389,321,91,41,150,193,233,139,124,199,193,364,199,129,148,259,168,302,68,94,295,242,233,173,67,329,355,387,220,263,351,211,199,108,270,147,354,180,562,387,345,119,97,125,52,264,290,154,289,129,95,63,203,162,112,15,524,350,191,267,449,95,164,141,250,7,198,150,232,180,173,251,338,114,174,181,242,206,238,195,93,343,231,461,282,66,217,447,222,302,262,171,181,272,451,209,144,348,172,197,234,150,298,182,249,190,151,163,201,393,173,308,164,150,331,110,98,127,141,276,298,126,147,325,381,199,219,302,59,201,234,126,55,102,69,161,56,150,356,130,121,108,90,76,233,189,177,29,124,137,182,255,162,51,247,128,467,94,179,176,84,165,126,283,185,132,37,143,147,28,211,256,194,136,232,71,112,110,148,355,61,79,166,100,197,102,144,52,175,194,194,155,187,73,193,89,120,133,321,164,102,249,153,91,185,55,163,168,314,97,36,45,51,101,173,175,108,120,56,199,248,381,243,287,493,83,231,445,510,224,180,59,102,162,295,318,7,209,103,179,143,120,204,69,205,139,285,234,526,126,98,142,280,176,196,150,279,28,129,147,174,125,201,37,119,218,77,48,101,107,157,213,204,177,423,34,108,168,329,189,167,166,106,152,117,101,479,80,83,245,170,124,341,197,169,114,96,144,285,100,132,160,146,283,307,365,101,144,150,144,88,324,170,288,18,155,126,333,169,119,106,233,191,2,35,169,150,301,126,138,149,181,284,108,213,139,191,180,175,194,194,170,153,212,111,126,106,142,152,183,240,227,177,58,129,216,114,175,307,419,150,136,319,153,145,123,86,151,104,123,311,227,252,88,219,159,135,226,164,93,122,231,122,147,183,177,142,410,102,188,138,201,96,285,116,128,82,266,36,166,2,10,101,217,154,269,102,61,185,123,204,33,124,121,10,199,367,126,308,152,170,58,190,238,103,117,129,207,229,179,262,219,166,54,133,150,69,478,161,94,98,93,93,155,152,196,409,383,93,165,171,223,220,270,284,164,121,152,178,130,164,198,134,126,158,115,83,288,302,269,97,267,266,170,27,3,14,9,111,143,42,58,43,36,97,47,46,36,36,47,129,183,198,242,80,81,73,185,42,230,143,220,159,138,129,35,79,151,145,143,107,216,117,146,135,163,142,457,112,191,70,65,76,42,208,405,324,529,19,199,267,605,172,170,303,307,181,183,203,223,330,62,112,181,219,535,180,220,81,282,268,408,520,156,130,106,168,169,172,27,103,115,309,126,423,102,399,78,130,207,310,49,134,188,104,193,85,88,143,351,189,252,162,184,131,249,354,64,250,138,458,259,64,102,91,153,306,126,184,233,681,227,147,124,308,230,323,575,94,373,176,7,379,339,129,95,116,189,107,63,357,193,231,249,334,70,129,159,214,399,104,100,142,169,7,189,215,56,207,236,293,192,223,360,548,279,127,217,206,364,74,151,118,311,227,115,81,122,346,351,272,128,207,64,170,141,270,545,211,196,163,184,257,290,310,158,912,308,352,134,28,186,681,664,262,172,226,360,278,74,484,176,326,79,552,777,260,278,427,410,108,150,90,133,106,236,309,437,75,350,378,277,119,280,354,130,56,155,121,120,280,183,283,247,240,459,427,185,254,247,311,338,265,143,3,7,227,402,270,113,434,147,831,263,135,214,321,283,184,101,118,47,147,143,411,230,206,169,133,142,236,205,211,206,196,394,197,141,347,309,105,173,240,384,172,248,383,205,147,181,181,279,285,477,269,234,83,190,263,395,331,118,244,193,225,217,94,274,240,232,63,120,290,249,207,94,109,174,174,235,206,313,161,198,209,268,167,56,97,305,132,368,202,202,255,155,48,512,204,302,490,11,141,172,196,277,264,127,277,221,85,10,215,347,313,546,337,307,181,226,174,197,300,184,131,73,206,56,69,87,306,83,524,140,367,129,177,89,193,200,294,74,123,342,75,105,159,123,110,137,161,398,87,24,254,92,119,362,214,72,225,87,245,154,153,218,72,236,252,162,108,533,235,169,565,510,87,409,180,98,89,67,252,185,140,83,296,216,162,221,127,172,391,160,115,213,67,153,15,229,91,114,363,122,131,157,46,95,122,328,26,239,119,257,78,200,131,203,167,186,126,222,158,109,191,79,50,135,252,258,246,143,314,212,331,120,276,233,281,373,189,186,87,252,238,376,283,129,64,113,121,230,117,417,136,408,323,181,245,107,195,165,70,204,281,134,399,218,492,162,122,127,144,200,83,376,134,156,231,115,11,174,106,159,115,127,371,345,345,419,361,159,157,96,315,486,440,215,139,182,36,219,267,9,183,89,184,257,143,437,147,158,175,227,250,229,134,97,199,134,147,75,337,161,120,160,305,132,139,92,173,129,50,140,338,528,159,177,168,247,107,71,154,225,414,186,211,263,110,195,168,255,225,300,216,82,164,147,72,137,123,240,312,373,124,119,80,200,187,151,65,213,107,81,162,66,451,7,14,15,114,298,58,48,76,94,59,43,58,58,57,136,269,165,155,106,70,64,68,387,83,162,63,55,113,157,163,160,63,200,194,397,200,142,204,199,379,165,138,187,171,190,179,128,352,208,469,201,108,302,119,387,348,225,173,191,223,274,130,199,106,300,102,163,268,245,219,223,15,373,376,327,220,433,196,193,139,146,376,256,315,106,155,148,146,297,248,336,323,247,372,105,197,195,141,276,432,203,166,361,295,963,1147,134,475,280,456,187,246,326,250,140,196,159,62,42,155,128,307,155,65,139,165,301,271,234,244,173,175,235,114,202,118,83,141,261,137,256,14,272,321,252,154,191,318,178,139,136,184,327,205,120,159,571,302,200,236,181,518,534,71,344,152,182,222,159,410,296,298,600,258,49,249,484,199,383,159,285,188,350,148,242,295,519,344,171,79,488,387,271,208,216,207,704,844,135,3,11,128,369,223,134,309,315,317,150,236,151,688,321,240,318,45,147,261,147,223,142,165,264,61,84,133,139,179,251,291,149,175,208,394,236,297,176,178,385,319,40,159,275,258,439,165,153,336,55,247,389,332,216,96,160,204,326,268,178,227,250,181,266,61,149,300,175,164,321,229,178,187,231,233,160,239,353,35,334,43,247,397,325,221,127,246,132,441,106,147,258,134,213,137,383,43,80,141,284,383,375,192,162,159,602,271,266,210,194,340,471,89,267,168,261,326,140,210,431,181,55,302,266,254,206,146,368,116,303,241,457,81,255,223,265,118,222,190,214,229,225,294,231,167,187,526,168,209,280,69,10,8,9,108,416,71,56,34,158,57,68,91,222,199,78,17,82,119,79,189,181,235,78,161,153,314,211,168,134,225,278,443,136,106,214,356,318,190,156,72,271,514,204,127,289,118,257,206,209,206,195,281,105,62,184,8,204,116,137,201,129,337,223,111,169,145,171,130,165,147,353,250,129,49,180,301,140,308,346,436,7,140,370,170,332,106,167,242,194,66,394,467,622,72,102,140,230,234,157,204,165,320,167,72,98,311,394,398,292,270,181,314,173,163,143,161,193,120,66,233,473,668,531,147,172,345,159,145,78,175,101,179,119,160,113,109,74,146,83,154,26,45,153,133,159,195,163,262,189,200,393,433,117,272,171,341,226,174,194,343,485,76,133,269,324,164,129,324,400,99,178,226,123,256,131,162,165,138,142,113,162,136,101,310,58,388,228,4,12,166,347,172,131,83,94,174,280,43,54,76,167,188,202,202,199,298,121,351,190,88,195,203,263,159,68,221,125,142,223,146,24,156,195,216,170,565,137,252,238,65,176,283,237,212,218,128,202,190,137,81,144,143,235,223,75,179,288,282,155,55,225,432,263,112,109,414,966,281,240,182,413,229,525,174,297,360,201,134,185,171,145,272,136,163,475,536,230,161,193,367,378,134,281,561,115,118,246,126,220,222,102,210,159,376,127,161,170,146,143,277,230,89,251,374,583,311,154,322,343,187,422,109,138,93,574,161,180,255,370,219,228,152,128,399,249,70,144,135,205,219,179,181,323,4,53,304,355,52,270,91,334,231,1200,828,190,92,53,30,174,75,67,130,134,183,123,193,147,283,176,150,78,210,76,429,61,65,261,255,559,163,433,507,136,194,163,129,109,473,81,48,375,229,509,260,43,233,160,266,329,156,189,214,449,211,77,82,221,69,224,3,70,263,116,144,46,148,185,494,249,59,264,338,560,237,53,205,97,53,361,201,161,110,131,442,9,65,442,199,26,219,81,83,92,54,78,79,143,39,171,133,292,169,183,94,242,95,63,289,239,241,65,47,154,107,183,278,233,116,172,628,291,178,75,356,220,130,256,87,231,131,451,248,64,124,61,274,139,638,52,226,283,193,176,307,468,217,196,276,781,499,117,201,124,147,451,135,51,261,331,271,111,143,224,269,382,249,60,259,463,134,321,901,820,711,153,545,863,7,19,7,15,33,108,454,95,85,66,127,370,146,47,137,130,348,325,52,299,88,82,255,125,325,347,361,93,73,364,509,583,219,39,10,142,540,314,85,100,97,771,250,34,1,142,98,196,58,2,140,128,195,74,259,471,342,105,475,67,95,204,62,118,646,105,378,515,303,20,40,54,74,139,37,140,67,89,200,36,340,31,211,71,348,75,111,50,21,73,144,66,252,420,22,76,350,144,269,658,551,490,651,290,374,611,133,71,242,91,339,61,112,137,487,48,35,294,353,67,43,76,50,454,260,153,201,257,79,202,107,146,82,412,74,65,221,358,389,63,70,25,49,66,239,341,149,64,157,146,208,294,180,68,365,175,406,83,151,198,502,283,16,54,198,541,356,110,93,227,247,366,184,538,214,169,349,257,87,67,89,69,78,44,159,95,91,59,23,260,582,55,311,2,220,339,236,23,199,226,454,135,116,339,175,8,25,29,65,580,68,186,92,48,396,703,596,565,441,147,208,280,224,246,378,171,46,196,285,204,54,169,366,74,562,653,457,89,178,428,57,104,13,3,10,24,81,111,34,163,23,359,72,62,261,293,357,307,247,534,209,437,261,210,494,294,684,610,40,192,225,100,128,95,22,459,296,33,57,18,492,389,56,117,91,175,368,249,199,326,328,300,355,29,54,232,426,443,614,353,282,177,53,189,16,24,251,96,149,26,30,203,468,75,518,241,250,693,358,152,413,405,682,184,47,223,306,175,132,1,139,95,172,176,132,21,156,582,116,117,219,977,228,181,320,293,475,85,19,269,375,772,63,182,67,49,598,409,273,544,363,262,239,460,357,641,294,150,233,411,213,1072,162,546,248,249,307,486,122,109,24,563,36,56,218,442,179,116,210,536,173,570,667,642,285,300,135,387,301,179,212,200,395,547,722,146,354,376,475,617,150,315,369,114,448,279,111,405,262,618,11,109,4,9,177,521,512,66,455,345,408,40,83,275,530,460,435,72,193,186,58,13,157,88,37,305,502,892,88,29,20,77,298,29,100,248,512,718,126,41,24,89,120,502,415,383,80,667,350,571,56,84,8,400,175,520,935,7,6,8,38,8,284,354,8,277,26,246,8,282,1053,141,659,71,10,291,80,49,329,491,437,169,33,910,385,876,146,200,718,571,428,299,126,488,354,247,56,40,9,118,112,36,193,441,303,131,394,279,122,157,172,186,100,324,162,408,118,49,860,282,550,10,362,350,219,234,18,273,1,56,487,3,150,79,59,21,18,903,52,5,7,13,67,7,26,16,386,557,557,797,199,656,6,1007,106,85,344,66,373,1315,91,129,201,41,111,87,55,131,557,188,67,174,36,108,399,399,536,502,319,527,73,61,98,254,279,548,305,82,345,605,31,58,71,26,141,157,242,17,128,273,105,380,161,477,1060,231,144,311,155,1164,857,88,122,1053,586,187,259,893,148,164,47,499,98,51,42,164,91,12,439,131,251,207,23,182,529,176,211,525,80,428,8,63,102,707,203,362,100,12,391,669,147,43,496,747,961,1030,37,28,297,35,203,273,159,625,817,11,118,117,157,38,420,887,19,22,107,35,151,210,474,448,227,228,71,113,121,284,234,485,241,163,208,49,198,211,66,155,223,381,894,212,231,506,373,456,111,229,646,561,402,119,105,172,621,118,29,12,52,332,62,34,142,175,109,71,74,383,293,281,57,699,211,737,230,4,14,23,617,76,460,26,128,39,180,350,188,501,178,270,185,211,6,578,259,24,301,50,73,147,38,37,108,398,457,369,41,403,261,888,126,11,108,502,618,477,258,26,418,690,285,567,121,431,71,275,52,124,127,347,49,20,33,63,26,202,29,700,50,79,143,348,592,251,63,113,262,154,21,32,583,204,37,254,65,322,150,27,246,46,145,925,183,152,142,160,237,26,68,516,371,454,30,83,172,176,198,264,480,59,67,72,164,456,190,168,51,301,236,85,85,47,534,640,133,27,438,112,76,141,273,59,191,442,174,97,69,108,488,170,114,414,267,71,42,292,159,455,89,160,42,145,472,1,130,287,64,25,56,414,225,197,454,682,676,917,211,14,120,33,123,322,518,2,75,33,149,296,225,228,101,241,413,70,125,11,139,62,6,367,271,530,3,42,98,127,130,76,59,626,95,15,180,364,57,124,63,402,486,24,204,122,81,399,94,705,25,636,391,152,22,168,185,15,44,31,114,312,514,465,285,516,811,33,35,152,68,443,734,439,25,21,58,98,387,171,30,34,297,47,24,2,398,87,110,375,24,875,313,64,575,123,470,10,142,217,261,43,112,169,133,24,144,488,39,44,500,15,398,84,280,207,110,10,132,232,103,77,12,97,24,66,119,283,355,40,38,73,301,64,97,500,20,99,160,35,183,125,57,260,71,181,376,72,193,633,549,1044,665,66,240,124,60,92,383,79,267,77,225,230,29,238,361,556,66,21,34,64,13,420,12,349,37,18,37,192,12,25,223,37,333,119,10,32,243,259,15,5,48,63,32,53,54,266,103,214,8,50,425,21,287,61,3,394,140,21,330,319,17,21,115,304,48,7,189,95,118,5,346,11,17,469,208,429,231,523,354,259,595,496,17,299,44,107,13,491,421,590,3,82,982,474,308,46,393,223,6,59,144,101,188,101,386,4,452,602,293,99,3,206,235,377,62]},\"selected\":{\"id\":\"1075\"},\"selection_policy\":{\"id\":\"1076\"}},\"id\":\"1002\",\"type\":\"ColumnDataSource\"},{\"attributes\":{\"days\":[1,8,15,22]},\"id\":\"1052\",\"type\":\"DaysTicker\"},{\"attributes\":{\"axis_label\":\"Date\",\"formatter\":{\"id\":\"1044\"},\"ticker\":{\"id\":\"1013\"}},\"id\":\"1012\",\"type\":\"DatetimeAxis\"},{\"attributes\":{\"months\":[0,4,8]},\"id\":\"1056\",\"type\":\"MonthsTicker\"},{\"attributes\":{\"num_minor_ticks\":5,\"tickers\":[{\"id\":\"1047\"},{\"id\":\"1048\"},{\"id\":\"1049\"},{\"id\":\"1050\"},{\"id\":\"1051\"},{\"id\":\"1052\"},{\"id\":\"1053\"},{\"id\":\"1054\"},{\"id\":\"1055\"},{\"id\":\"1056\"},{\"id\":\"1057\"},{\"id\":\"1058\"}]},\"id\":\"1013\",\"type\":\"DatetimeTicker\"},{\"attributes\":{\"months\":[0,1,2,3,4,5,6,7,8,9,10,11]},\"id\":\"1054\",\"type\":\"MonthsTicker\"},{\"attributes\":{},\"id\":\"1058\",\"type\":\"YearsTicker\"},{\"attributes\":{\"axis\":{\"id\":\"1012\"},\"ticker\":null},\"id\":\"1015\",\"type\":\"Grid\"},{\"attributes\":{\"items\":[{\"id\":\"1061\"}],\"location\":\"top_left\"},\"id\":\"1060\",\"type\":\"Legend\"},{\"attributes\":{\"bottom_units\":\"screen\",\"fill_alpha\":0.5,\"fill_color\":\"lightgrey\",\"left_units\":\"screen\",\"level\":\"overlay\",\"line_alpha\":1.0,\"line_color\":\"black\",\"line_dash\":[4,4],\"line_width\":2,\"right_units\":\"screen\",\"top_units\":\"screen\"},\"id\":\"1026\",\"type\":\"BoxAnnotation\"},{\"attributes\":{\"label\":{\"value\":\"avg\"},\"renderers\":[{\"id\":\"1037\"},{\"id\":\"1065\"}]},\"id\":\"1061\",\"type\":\"LegendItem\"},{\"attributes\":{\"axis_label\":\"No of Speeches\",\"formatter\":{\"id\":\"1042\"},\"ticker\":{\"id\":\"1017\"}},\"id\":\"1016\",\"type\":\"LinearAxis\"},{\"attributes\":{},\"id\":\"1017\",\"type\":\"BasicTicker\"}],\"root_ids\":[\"1003\"]},\"title\":\"Bokeh Application\",\"version\":\"2.1.1\"}};\n",
       "  var render_items = [{\"docid\":\"a551b4b6-59db-4bfa-bdf5-044c731f0fd3\",\"root_ids\":[\"1003\"],\"roots\":{\"1003\":\"5356d0ed-ea8d-4765-ac95-a53f872d3af0\"}}];\n",
       "  root.Bokeh.embed.embed_items_notebook(docs_json, render_items);\n",
       "\n",
       "  }\n",
       "  if (root.Bokeh !== undefined) {\n",
       "    embed_document(root);\n",
       "  } else {\n",
       "    var attempts = 0;\n",
       "    var timer = setInterval(function(root) {\n",
       "      if (root.Bokeh !== undefined) {\n",
       "        clearInterval(timer);\n",
       "        embed_document(root);\n",
       "      } else {\n",
       "        attempts++;\n",
       "        if (attempts > 100) {\n",
       "          clearInterval(timer);\n",
       "          console.log(\"Bokeh: ERROR: Unable to run BokehJS code because BokehJS library is missing\");\n",
       "        }\n",
       "      }\n",
       "    }, 10, root)\n",
       "  }\n",
       "})(window);"
      ],
      "application/vnd.bokehjs_exec.v0+json": ""
     },
     "metadata": {
      "application/vnd.bokehjs_exec.v0+json": {
       "id": "1003"
      },
      "tags": []
     },
     "output_type": "display_data"
    }
   ],
   "source": [
    "from bokeh.plotting import figure, output_notebook, show\n",
    "from bokeh.models import ColumnDataSource, HoverTool\n",
    "\n",
    "source = ColumnDataSource(data = {'dates' : dfts2['sitting_date'], 'speeches' : dfts2['speech'] })\n",
    "source2 = ColumnDataSource(data = {'dates' : dfts3['sitting_date'], 'member_name' : dfts3['member_name'] })\n",
    "p = figure(plot_width=900, plot_height=550, x_axis_type=\"datetime\")\n",
    "\n",
    "p.line('dates', 'speeches', color='navy', legend_label='avg', source = source)\n",
    "p.line('dates', 'member_name', color='olive', legend_label='avg', source = source2)\n",
    "\n",
    "p.title.text = \"Speeches per date\"\n",
    "p.legend.location = \"top_left\"\n",
    "p.grid.grid_line_alpha = 1\n",
    "p.xaxis.axis_label = 'Date'\n",
    "p.yaxis.axis_label = 'No of Speeches'\n",
    "\n",
    "#hover = HoverTool(mode = 'vline')\n",
    "#hover.tooltips = [('date', '@dates')]\n",
    "#hover.formatters = {'date': 'datetime'}\n",
    "#p.add_tools(hover)\n",
    "# show the results\n",
    "output_notebook()\n",
    "show(p)"
   ]
  },
  {
   "cell_type": "markdown",
   "metadata": {
    "id": "lyUtnVMhr71t"
   },
   "source": [
    "Now, let's see which parties were active during each year"
   ]
  },
  {
   "cell_type": "code",
   "execution_count": 25,
   "metadata": {
    "colab": {
     "base_uri": "https://localhost:8080/",
     "height": 772
    },
    "id": "PtwdGD3Dr6s5",
    "outputId": "3602ed50-37ac-45d2-a010-9808761b9a2b"
   },
   "outputs": [
    {
     "name": "stderr",
     "output_type": "stream",
     "text": [
      "/usr/local/lib/python3.6/dist-packages/ipykernel_launcher.py:2: SettingWithCopyWarning: \n",
      "A value is trying to be set on a copy of a slice from a DataFrame.\n",
      "Try using .loc[row_indexer,col_indexer] = value instead\n",
      "\n",
      "See the caveats in the documentation: https://pandas.pydata.org/pandas-docs/stable/user_guide/indexing.html#returning-a-view-versus-a-copy\n",
      "  \n"
     ]
    },
    {
     "data": {
      "image/png": "[encoded data removed]",
      "text/plain": [
       "<Figure size 1440x720 with 2 Axes>"
      ]
     },
     "metadata": {
      "needs_background": "light",
      "tags": []
     },
     "output_type": "display_data"
    }
   ],
   "source": [
    "ppy = df[['political_party','sitting_date']]\n",
    "ppy['sitting_year'] = ppy['sitting_date'].dt.year\n",
    "ppy = ppy[['political_party','sitting_year']]\n",
    "ppy = ppy[~ppy.duplicated()]\n",
    "ppy['exists'] = 1\n",
    "#ppy.groupby('sitting_year')\n",
    "ppy = ppy.pivot(index=\"political_party\", columns=\"sitting_year\").fillna(0).reset_index().dropna()\n",
    "ppy = ppy.set_index('political_party')\n",
    "\n",
    "\n",
    "fig, ax = plt.subplots(figsize=(20,10))\n",
    "seaborn.heatmap(ppy, linewidths=.05)\n",
    "ax.set_title('Political parties yearly participation')\n",
    "ax.set_xlabel('Year')\n",
    "ax.set_ylabel('Party')\n",
    "plt.show()"
   ]
  },
  {
   "cell_type": "markdown",
   "metadata": {
    "id": "p6gqG1Zh-1bH"
   },
   "source": [
    "We'll proceed to some changes. We see 'δημοκρατική συμπαράταξη' seems active till today. However, we know it was dissolved in 2018, when PASOK once again ran independently on the elections. As such, and since it was a significantly larger party, we will unify the two. It is not 100% accurate, but it makes more sense <br>\n",
    "Also, given the large size of the df, we will focus on the speeches from 2004 and later on. That way, since Syriza, an important party of the current parliament was present. We also immediately get rid of parties with minor prior participation, and we will go on and remove the parties that for the remaining dates have less than 0.5% of the speeches"
   ]
  },
  {
   "cell_type": "code",
   "execution_count": 26,
   "metadata": {
    "colab": {
     "base_uri": "https://localhost:8080/"
    },
    "id": "CjiD729c_Rv0",
    "outputId": "e6aa0a78-70b1-4912-e876-89a99ff176dc"
   },
   "outputs": [
    {
     "data": {
      "text/plain": [
       "array(['πανελληνιο σοσιαλιστικο κινημα', 'νεα δημοκρατια',\n",
       "       'κομμουνιστικο κομμα ελλαδας εσωτερικου',\n",
       "       'κομμουνιστικο κομμα ελλαδας',\n",
       "       'συνασπισμος της αριστερας των κινηματων και της οικολογιας', nan,\n",
       "       'λαικος ορθοδοξος συναγερμος',\n",
       "       'οικολογοι εναλλακτικοι (ομοσπονδια οικολογικων εναλλακτικων οργανωσεων)',\n",
       "       'ανεξαρτητοι (εκτος κομματος)', 'δημοκρατικη ανανεωση',\n",
       "       'πολιτικη ανοιξη', 'δημοκρατικο κοινωνικο κινημα',\n",
       "       'συνασπισμος ριζοσπαστικης αριστερας', 'δημοκρατικη αριστερα',\n",
       "       'ανεξαρτητοι ελληνες εθνικη πατριωτικη δημοκρατικη συμμαχια',\n",
       "       'ανεξαρτητοι δημοκρατικοι βουλευτες',\n",
       "       'λαικος συνδεσος - χρυση αυγη', 'το ποταμι', 'λαικη ενοτητα',\n",
       "       'ενωση κεντρωων'], dtype=object)"
      ]
     },
     "execution_count": 26,
     "metadata": {
      "tags": []
     },
     "output_type": "execute_result"
    }
   ],
   "source": [
    "df['political_party'] = df['political_party'].replace( 'δημοκρατικη συμπαραταξη (πανελληνιο σοσιαλιστικο κινημα - δημοκρατικη αριστερα)','πανελληνιο σοσιαλιστικο κινημα')\n",
    "df['political_party'].unique()"
   ]
  },
  {
   "cell_type": "code",
   "execution_count": 27,
   "metadata": {
    "id": "YbjSLL2VApZk"
   },
   "outputs": [],
   "source": [
    "df = df[df['sitting_date'].dt.year >= 2004]"
   ]
  },
  {
   "cell_type": "code",
   "execution_count": 28,
   "metadata": {
    "colab": {
     "base_uri": "https://localhost:8080/"
    },
    "id": "J5dzgXv5_-yC",
    "outputId": "3107d82e-928b-4b6b-ef70-7e4d97296e72"
   },
   "outputs": [
    {
     "data": {
      "text/plain": [
       "14"
      ]
     },
     "execution_count": 28,
     "metadata": {
      "tags": []
     },
     "output_type": "execute_result"
    }
   ],
   "source": [
    "partygroup = df[['political_party','speech']].groupby('political_party').count().reset_index()\n",
    "partygroup.shape[0]"
   ]
  },
  {
   "cell_type": "code",
   "execution_count": 29,
   "metadata": {
    "colab": {
     "base_uri": "https://localhost:8080/"
    },
    "id": "XlE90TGHBaOz",
    "outputId": "e761f964-209a-4f3a-a171-2118532f964d"
   },
   "outputs": [
    {
     "data": {
      "text/plain": [
       "11"
      ]
     },
     "execution_count": 29,
     "metadata": {
      "tags": []
     },
     "output_type": "execute_result"
    }
   ],
   "source": [
    "partygroup = partygroup[partygroup['speech'] > df.shape[0]*0.5/100]\n",
    "partygroup.shape[0]"
   ]
  },
  {
   "cell_type": "code",
   "execution_count": 30,
   "metadata": {
    "id": "OOm5cyeZBexj"
   },
   "outputs": [],
   "source": [
    "df = df[df['political_party'].isin(partygroup['political_party'])]"
   ]
  },
  {
   "cell_type": "markdown",
   "metadata": {
    "id": "u9zY2X3MyLTH"
   },
   "source": [
    "Let's see which parties we have left, and how their speeches are spread"
   ]
  },
  {
   "cell_type": "code",
   "execution_count": 31,
   "metadata": {
    "colab": {
     "base_uri": "https://localhost:8080/"
    },
    "id": "PnngM2SGyY4W",
    "outputId": "8490feaa-c757-4dc3-9817-33ea23ff3159"
   },
   "outputs": [
    {
     "data": {
      "text/plain": [
       "array(['κομμουνιστικο κομμα ελλαδας', 'πανελληνιο σοσιαλιστικο κινημα',\n",
       "       'νεα δημοκρατια', 'συνασπισμος ριζοσπαστικης αριστερας',\n",
       "       'ανεξαρτητοι (εκτος κομματος)', 'λαικος ορθοδοξος συναγερμος',\n",
       "       'δημοκρατικη αριστερα',\n",
       "       'ανεξαρτητοι ελληνες εθνικη πατριωτικη δημοκρατικη συμμαχια',\n",
       "       'λαικος συνδεσος - χρυση αυγη', 'το ποταμι', 'ενωση κεντρωων'],\n",
       "      dtype=object)"
      ]
     },
     "execution_count": 31,
     "metadata": {
      "tags": []
     },
     "output_type": "execute_result"
    }
   ],
   "source": [
    "df['political_party'].unique()"
   ]
  },
  {
   "cell_type": "code",
   "execution_count": 32,
   "metadata": {
    "colab": {
     "base_uri": "https://localhost:8080/",
     "height": 903
    },
    "id": "PKxO93UDyRAq",
    "outputId": "c786380c-e1cf-46a2-be6f-35f05af3968a"
   },
   "outputs": [
    {
     "data": {
      "image/png": "[encoded data removed]",
      "text/plain": [
       "<Figure size 1440x720 with 1 Axes>"
      ]
     },
     "metadata": {
      "needs_background": "light",
      "tags": []
     },
     "output_type": "display_data"
    }
   ],
   "source": [
    "fig = plt.figure(figsize=(20,10))\n",
    "b = sns.barplot(x=df['political_party'][~df['political_party'].isna()].unique(), y=df['political_party'].value_counts())\n",
    "b.tick_params( width=3000, length=2)\n",
    "plt.xticks(rotation = 90)\n",
    "plt.show()"
   ]
  },
  {
   "cell_type": "markdown",
   "metadata": {
    "id": "LAdV955syiaR"
   },
   "source": [
    "Our over-representation of the bigger parties is way better than before. We have reduced over-proportionately speeches of the larger parties, since many of the currently represented are newer to the political scene.\n",
    "<br><br> Our last party removal step, will be of the independent representatives. That is, since they are mostly people who were erased by or resigned from their party. As such, they do not offer much knowledge, since they originally come from different parties. "
   ]
  },
  {
   "cell_type": "code",
   "execution_count": 33,
   "metadata": {
    "colab": {
     "base_uri": "https://localhost:8080/"
    },
    "id": "CPFkMo-W1QGP",
    "outputId": "d67af651-a5cd-448e-f0a4-fc77c73a4acf"
   },
   "outputs": [
    {
     "data": {
      "text/plain": [
       "array(['κομμουνιστικο κομμα ελλαδας', 'πανελληνιο σοσιαλιστικο κινημα',\n",
       "       'νεα δημοκρατια', 'συνασπισμος ριζοσπαστικης αριστερας',\n",
       "       'λαικος ορθοδοξος συναγερμος', 'δημοκρατικη αριστερα',\n",
       "       'ανεξαρτητοι ελληνες εθνικη πατριωτικη δημοκρατικη συμμαχια',\n",
       "       'λαικος συνδεσος - χρυση αυγη', 'το ποταμι', 'ενωση κεντρωων'],\n",
       "      dtype=object)"
      ]
     },
     "execution_count": 33,
     "metadata": {
      "tags": []
     },
     "output_type": "execute_result"
    }
   ],
   "source": [
    "df = df[~df['political_party'].isin([\"ανεξαρτητοι (εκτος κομματος)\"])]\n",
    "df['political_party'].unique()"
   ]
  },
  {
   "cell_type": "markdown",
   "metadata": {
    "id": "xo2kj5QlOe0c"
   },
   "source": [
    "Now that we've cleared our parties, let's map them to integers to improve our analyses speed"
   ]
  },
  {
   "cell_type": "code",
   "execution_count": 34,
   "metadata": {
    "id": "lWKmPZPHOeAK"
   },
   "outputs": [],
   "source": [
    "partylist = df['political_party'].unique()\n",
    "partylist = partylist.tolist()\n",
    "df['political_id'] = df['political_party'].apply(lambda x: partylist.index(x))\n",
    "df = df.reset_index(drop=True)"
   ]
  },
  {
   "cell_type": "code",
   "execution_count": 35,
   "metadata": {
    "colab": {
     "base_uri": "https://localhost:8080/"
    },
    "id": "2qDReBR_QN1s",
    "outputId": "c92936f8-353f-43f1-850e-7259e9fb43e1"
   },
   "outputs": [
    {
     "name": "stdout",
     "output_type": "stream",
     "text": [
      "0\n",
      "κομμουνιστικο κομμα ελλαδας\n",
      "κομμουνιστικο κομμα ελλαδας\n"
     ]
    }
   ],
   "source": [
    "print(df['political_id'][0])\n",
    "print(df['political_party'][0])\n",
    "print(partylist[0])"
   ]
  },
  {
   "cell_type": "markdown",
   "metadata": {
    "id": "qGrHNMitdGU3"
   },
   "source": [
    "Let's get a bit deeper to our words' analytics. <br>NOTE: This analysis is written after running initial classification models and while approaching the neural network models' implementation<br><br> (The cli module is imported, because google colab couldn't locate the el_core_news_sm model if it was downloaded through bash commands)"
   ]
  },
  {
   "cell_type": "code",
   "execution_count": 36,
   "metadata": {
    "colab": {
     "base_uri": "https://localhost:8080/"
    },
    "id": "oReWD_yjdGU3",
    "outputId": "325e72f6-e470-469e-aa8c-850cc8ceecf2",
    "scrolled": true
   },
   "outputs": [
    {
     "name": "stdout",
     "output_type": "stream",
     "text": [
      "[nltk_data] Downloading package punkt to /root/nltk_data...\n",
      "[nltk_data]   Package punkt is already up-to-date!\n",
      "\u001b[38;5;2m✔ Download and installation successful\u001b[0m\n",
      "You can now load the package via spacy.load('el_core_news_sm')\n"
     ]
    }
   ],
   "source": [
    "import spacy\n",
    "import nltk\n",
    "nltk.download('punkt')\n",
    "import spacy.cli\n",
    "spacy.cli.download(\"el_core_news_sm\")\n",
    "sp = spacy.load('el_core_news_sm')\n",
    "from nltk.tokenize import word_tokenize\n",
    "import string\n",
    "\n",
    "all_stopwords = sp.Defaults.stop_words"
   ]
  },
  {
   "cell_type": "code",
   "execution_count": 37,
   "metadata": {
    "colab": {
     "base_uri": "https://localhost:8080/"
    },
    "id": "9Ja-o89HNzVP",
    "outputId": "392086f1-401e-4768-9289-ba9b157e1b9e"
   },
   "outputs": [
    {
     "name": "stdout",
     "output_type": "stream",
     "text": [
      " Σε δύο ενότητες πότε, κύριε Υπουργέ; Σήμερα;\n"
     ]
    },
    {
     "data": {
      "text/plain": [
       "['δύο', 'ενότητες', 'κύριε', 'υπουργέ', 'σήμερα']"
      ]
     },
     "execution_count": 37,
     "metadata": {
      "tags": []
     },
     "output_type": "execute_result"
    }
   ],
   "source": [
    "def tokstoprem(text):\n",
    "    text_tokens = word_tokenize(text)\n",
    "    tokens_without_sw = []\n",
    "    for word in text_tokens:\n",
    "        word = word.lower()\n",
    "        if ((not word in all_stopwords) & (not word in string.punctuation) & (not word.isnumeric()) & ( word.isalnum())):\n",
    "            tokens_without_sw.append(word)\n",
    "    #tokens_without_sw= [word.lower() for word in text_tokens if ((not word in all_stopwords) & (not word in string.punctuation) & (not word.isnumeric()))]\n",
    "    return tokens_without_sw\n",
    "tester0 = tokstoprem(df['speech'][0])\n",
    "print(df['speech'][0])\n",
    "tester0"
   ]
  },
  {
   "cell_type": "code",
   "execution_count": 38,
   "metadata": {
    "id": "BHygM_tndGU4"
   },
   "outputs": [],
   "source": [
    "df = df.dropna(subset=['speech'])\n",
    "df['speech_tokened'] = df['speech'].apply(lambda x: tokstoprem(x))"
   ]
  },
  {
   "cell_type": "markdown",
   "metadata": {
    "id": "eMcv0OM5dGU4"
   },
   "source": [
    "Now let's go a bit further, and see the length of each sentence. This will help us decide the max length of each sentence before we encode them to numerical and import our padding, when we classify with neural networks"
   ]
  },
  {
   "cell_type": "code",
   "execution_count": 39,
   "metadata": {
    "colab": {
     "base_uri": "https://localhost:8080/"
    },
    "id": "7DBIznv8dGU5",
    "outputId": "21d995f6-ccbf-406e-ff45-10d480cec115",
    "scrolled": true
   },
   "outputs": [
    {
     "data": {
      "text/plain": [
       "count    645193.000000\n",
       "mean         64.620822\n",
       "std         161.743587\n",
       "min           0.000000\n",
       "20%           2.000000\n",
       "25%           2.000000\n",
       "50%           6.000000\n",
       "75%          30.000000\n",
       "90%         208.000000\n",
       "95%         404.000000\n",
       "max        9054.000000\n",
       "Name: speech_tokened, dtype: float64"
      ]
     },
     "execution_count": 39,
     "metadata": {
      "tags": []
     },
     "output_type": "execute_result"
    }
   ],
   "source": [
    "df['speech_tokened'].apply(lambda x: len(x)).describe(percentiles=[0.2, 0.25,0.5,0.75,0.9, .95])"
   ]
  },
  {
   "cell_type": "markdown",
   "metadata": {
    "id": "dz70Ol8ydGU5"
   },
   "source": [
    "<br>An important result we get from this statistical analysis, is the fact that at least 20% of our speeches are up to 2 words long.\n",
    "<br> It is thought that no much meaning can be received from such speeches. Let's print some"
   ]
  },
  {
   "cell_type": "code",
   "execution_count": 40,
   "metadata": {
    "colab": {
     "base_uri": "https://localhost:8080/"
    },
    "id": "SGkWORqudGU5",
    "outputId": "3a91fb37-233c-4215-b0b2-b4da67bd7ef9"
   },
   "outputs": [
    {
     "data": {
      "text/plain": [
       "7         [νικολόπουλος, λόγο]\n",
       "9                 [ετερόκλητα]\n",
       "15              [τζέκης, λόγο]\n",
       "17        [αλογοσκούφης, λόγο]\n",
       "33                 [κυβέρνηση]\n",
       "35       [θεσμοί, εκδικούνται]\n",
       "37        [νικολόπουλος, λόγο]\n",
       "39                 [διαγραφεί]\n",
       "51             [διακυβέρνησης]\n",
       "52                     [άποψή]\n",
       "53                     [ναούς]\n",
       "58            [βρέντζος, λόγο]\n",
       "62     [νομοσχεδίου, παρακαλώ]\n",
       "66         [κουρουμπλής, λόγο]\n",
       "82              [τζέκης, λόγο]\n",
       "84           [λαφαζάνης, λόγο]\n",
       "85        [νικολόπουλος, λόγο]\n",
       "88            [κυρία, πρόεδρε]\n",
       "91        [αλογοσκούφης, λόγο]\n",
       "96                [πλειοψηφία]\n",
       "97                [πλειοψηφία]\n",
       "99                [πλειοψηφία]\n",
       "100               [πλειοψηφία]\n",
       "102               [πλειοψηφία]\n",
       "103               [πλειοψηφία]\n",
       "105               [πλειοψηφία]\n",
       "106               [πλειοψηφία]\n",
       "108               [πλειοψηφία]\n",
       "109               [πλειοψηφία]\n",
       "111               [πλειοψηφία]\n",
       "112               [πλειοψηφία]\n",
       "114               [πλειοψηφία]\n",
       "115               [πλειοψηφία]\n",
       "117               [πλειοψηφία]\n",
       "118               [πλειοψηφία]\n",
       "120               [πλειοψηφία]\n",
       "121               [πλειοψηφία]\n",
       "123               [πλειοψηφία]\n",
       "124               [πλειοψηφία]\n",
       "126               [πλειοψηφία]\n",
       "127               [πλειοψηφία]\n",
       "129               [πλειοψηφία]\n",
       "130               [πλειοψηφία]\n",
       "132               [πλειοψηφία]\n",
       "133               [πλειοψηφία]\n",
       "135               [πλειοψηφία]\n",
       "136               [πλειοψηφία]\n",
       "138               [πλειοψηφία]\n",
       "139               [πλειοψηφία]\n",
       "141               [πλειοψηφία]\n",
       "142               [πλειοψηφία]\n",
       "144               [πλειοψηφία]\n",
       "145               [πλειοψηφία]\n",
       "147               [πλειοψηφία]\n",
       "148               [πλειοψηφία]\n",
       "150               [πλειοψηφία]\n",
       "151               [πλειοψηφία]\n",
       "153               [πλειοψηφία]\n",
       "154               [πλειοψηφία]\n",
       "156               [πλειοψηφία]\n",
       "Name: speech_tokened, dtype: object"
      ]
     },
     "execution_count": 40,
     "metadata": {
      "tags": []
     },
     "output_type": "execute_result"
    }
   ],
   "source": [
    "df['speech_tokened'][df['speech_tokened'].apply(lambda x: len(x)) <= 2].head(60)"
   ]
  },
  {
   "cell_type": "markdown",
   "metadata": {
    "id": "NLBKjYfpdGU6"
   },
   "source": [
    "Indeed, most of these entries are common words, or maybe even speech seperation mistakes. Let's see what we can get on the 3-4 tokens' speeches"
   ]
  },
  {
   "cell_type": "code",
   "execution_count": 41,
   "metadata": {
    "colab": {
     "base_uri": "https://localhost:8080/",
     "height": 1000
    },
    "id": "VD5YWieldGU6",
    "outputId": "fb636a44-8b83-4999-9a80-f3dc6e9d2eae"
   },
   "outputs": [
    {
     "data": {
      "text/html": [
       "<div>\n",
       "<style scoped>\n",
       "    .dataframe tbody tr th:only-of-type {\n",
       "        vertical-align: middle;\n",
       "    }\n",
       "\n",
       "    .dataframe tbody tr th {\n",
       "        vertical-align: top;\n",
       "    }\n",
       "\n",
       "    .dataframe thead th {\n",
       "        text-align: right;\n",
       "    }\n",
       "</style>\n",
       "<table border=\"1\" class=\"dataframe\">\n",
       "  <thead>\n",
       "    <tr style=\"text-align: right;\">\n",
       "      <th></th>\n",
       "      <th>member_name</th>\n",
       "      <th>political_party</th>\n",
       "      <th>speech_tokened</th>\n",
       "      <th>speaker_info</th>\n",
       "    </tr>\n",
       "  </thead>\n",
       "  <tbody>\n",
       "    <tr>\n",
       "      <th>3</th>\n",
       "      <td>σγουριδης σγουρη παναγιωτης</td>\n",
       "      <td>πανελληνιο σοσιαλιστικο κινημα</td>\n",
       "      <td>[ορίστε, κύριε, βλαχόπουλε, λόγο]</td>\n",
       "      <td>προεδρευων</td>\n",
       "    </tr>\n",
       "    <tr>\n",
       "      <th>5</th>\n",
       "      <td>σγουριδης σγουρη παναγιωτης</td>\n",
       "      <td>πανελληνιο σοσιαλιστικο κινημα</td>\n",
       "      <td>[ανεξάρτητο, εργασιών, κοινοβουλίου]</td>\n",
       "      <td>προεδρευων</td>\n",
       "    </tr>\n",
       "    <tr>\n",
       "      <th>14</th>\n",
       "      <td>νικολοπουλος ιωαννου νικολαος</td>\n",
       "      <td>νεα δημοκρατια</td>\n",
       "      <td>[ακούσουμε, άποψη, κομμουνιστικού, κόμματος]</td>\n",
       "      <td>NaN</td>\n",
       "    </tr>\n",
       "    <tr>\n",
       "      <th>22</th>\n",
       "      <td>αλογοσκουφης σπυριψων γεωργιος</td>\n",
       "      <td>νεα δημοκρατια</td>\n",
       "      <td>[σύμφωνοι, συζητηθεί, κεφάλαιο, σήμερα]</td>\n",
       "      <td>NaN</td>\n",
       "    </tr>\n",
       "    <tr>\n",
       "      <th>27</th>\n",
       "      <td>σγουριδης σγουρη παναγιωτης</td>\n",
       "      <td>πανελληνιο σοσιαλιστικο κινημα</td>\n",
       "      <td>[ορίστε, κύριε, υπουργέ, λόγο]</td>\n",
       "      <td>προεδρευων</td>\n",
       "    </tr>\n",
       "    <tr>\n",
       "      <th>40</th>\n",
       "      <td>νικολοπουλος ιωαννου νικολαος</td>\n",
       "      <td>νεα δημοκρατια</td>\n",
       "      <td>[ευχαριστώ, κύριε, πρόεδρε]</td>\n",
       "      <td>NaN</td>\n",
       "    </tr>\n",
       "    <tr>\n",
       "      <th>41</th>\n",
       "      <td>σγουριδης σγουρη παναγιωτης</td>\n",
       "      <td>πανελληνιο σοσιαλιστικο κινημα</td>\n",
       "      <td>[διαγράφηκε, λόγο, τζέκης]</td>\n",
       "      <td>προεδρευων</td>\n",
       "    </tr>\n",
       "    <tr>\n",
       "      <th>43</th>\n",
       "      <td>σγουριδης σγουρη παναγιωτης</td>\n",
       "      <td>πανελληνιο σοσιαλιστικο κινημα</td>\n",
       "      <td>[κανονικά, οκτώ, λεπτά, χρόνος]</td>\n",
       "      <td>προεδρευων</td>\n",
       "    </tr>\n",
       "    <tr>\n",
       "      <th>44</th>\n",
       "      <td>τζεκης κωνσταντινου αγγελος</td>\n",
       "      <td>κομμουνιστικο κομμα ελλαδας</td>\n",
       "      <td>[οκτώ, λεπτά, κύριε, πρόεδρε]</td>\n",
       "      <td>NaN</td>\n",
       "    </tr>\n",
       "    <tr>\n",
       "      <th>45</th>\n",
       "      <td>σγουριδης σγουρη παναγιωτης</td>\n",
       "      <td>πανελληνιο σοσιαλιστικο κινημα</td>\n",
       "      <td>[οκτώ, λεπτά, βάσει, κανονισμού]</td>\n",
       "      <td>προεδρευων</td>\n",
       "    </tr>\n",
       "    <tr>\n",
       "      <th>56</th>\n",
       "      <td>κεδικογλου συμεων βασιλειος</td>\n",
       "      <td>πανελληνιο σοσιαλιστικο κινημα</td>\n",
       "      <td>[κάνει, ακολουθούμε, ορισμένους, κώδικες]</td>\n",
       "      <td>NaN</td>\n",
       "    </tr>\n",
       "    <tr>\n",
       "      <th>60</th>\n",
       "      <td>σγουριδης σγουρη παναγιωτης</td>\n",
       "      <td>πανελληνιο σοσιαλιστικο κινημα</td>\n",
       "      <td>[ορίστε, κύριε, κεδίκογλου]</td>\n",
       "      <td>προεδρευων</td>\n",
       "    </tr>\n",
       "    <tr>\n",
       "      <th>68</th>\n",
       "      <td>σγουριδης σγουρη παναγιωτης</td>\n",
       "      <td>πανελληνιο σοσιαλιστικο κινημα</td>\n",
       "      <td>[κι, αντευχόμαστε, κύριε, κουρουμπλή]</td>\n",
       "      <td>προεδρευων</td>\n",
       "    </tr>\n",
       "    <tr>\n",
       "      <th>87</th>\n",
       "      <td>μπενακη-ψαρουδα ευαγγελου αννα</td>\n",
       "      <td>νεα δημοκρατια</td>\n",
       "      <td>[κύριε, υφυπουργέ, θέλετε, λόγο]</td>\n",
       "      <td>προεδρευων</td>\n",
       "    </tr>\n",
       "    <tr>\n",
       "      <th>89</th>\n",
       "      <td>μπενακη-ψαρουδα ευαγγελου αννα</td>\n",
       "      <td>νεα δημοκρατια</td>\n",
       "      <td>[ορίστε, κύριε, υφυπουργέ]</td>\n",
       "      <td>προεδρευων</td>\n",
       "    </tr>\n",
       "    <tr>\n",
       "      <th>93</th>\n",
       "      <td>γειτονας ιωαννη κωνσταντινος</td>\n",
       "      <td>πανελληνιο σοσιαλιστικο κινημα</td>\n",
       "      <td>[λόγο, τζέκης, δύο, λεπτά]</td>\n",
       "      <td>προεδρευων</td>\n",
       "    </tr>\n",
       "    <tr>\n",
       "      <th>188</th>\n",
       "      <td>γειτονας ιωαννη κωνσταντινος</td>\n",
       "      <td>πανελληνιο σοσιαλιστικο κινημα</td>\n",
       "      <td>[άρθρων, κύριε, κεδίκογλου]</td>\n",
       "      <td>προεδρευων</td>\n",
       "    </tr>\n",
       "    <tr>\n",
       "      <th>190</th>\n",
       "      <td>γειτονας ιωαννη κωνσταντινος</td>\n",
       "      <td>πανελληνιο σοσιαλιστικο κινημα</td>\n",
       "      <td>[λόγο, κύριος, υφυπουργός]</td>\n",
       "      <td>προεδρευων</td>\n",
       "    </tr>\n",
       "    <tr>\n",
       "      <th>192</th>\n",
       "      <td>γειτονας ιωαννη κωνσταντινος</td>\n",
       "      <td>πανελληνιο σοσιαλιστικο κινημα</td>\n",
       "      <td>[μπορείτε, σύντομα, κύριε, υπουργέ]</td>\n",
       "      <td>προεδρευων</td>\n",
       "    </tr>\n",
       "    <tr>\n",
       "      <th>214</th>\n",
       "      <td>κεδικογλου συμεων βασιλειος</td>\n",
       "      <td>πανελληνιο σοσιαλιστικο κινημα</td>\n",
       "      <td>[πόσο, είπατε, κύριε, συνάδελφε]</td>\n",
       "      <td>NaN</td>\n",
       "    </tr>\n",
       "    <tr>\n",
       "      <th>216</th>\n",
       "      <td>κεδικογλου συμεων βασιλειος</td>\n",
       "      <td>πανελληνιο σοσιαλιστικο κινημα</td>\n",
       "      <td>[κύριε, πρόεδρε, δώστε, χρόνο]</td>\n",
       "      <td>NaN</td>\n",
       "    </tr>\n",
       "    <tr>\n",
       "      <th>230</th>\n",
       "      <td>τζεκης κωνσταντινου αγγελος</td>\n",
       "      <td>κομμουνιστικο κομμα ελλαδας</td>\n",
       "      <td>[ξέρετε, νομοσχέδιο, μιλάμε]</td>\n",
       "      <td>NaN</td>\n",
       "    </tr>\n",
       "    <tr>\n",
       "      <th>236</th>\n",
       "      <td>φωτιαδης δημοσθενη αποστολος</td>\n",
       "      <td>πανελληνιο σοσιαλιστικο κινημα</td>\n",
       "      <td>[πρόβλημα, προσωπικό, κύριε, συνάδελφε]</td>\n",
       "      <td>υφυπουργος οικονομιας και οικονομικων</td>\n",
       "    </tr>\n",
       "    <tr>\n",
       "      <th>239</th>\n",
       "      <td>κεδικογλου συμεων βασιλειος</td>\n",
       "      <td>πανελληνιο σοσιαλιστικο κινημα</td>\n",
       "      <td>[δύο, λεπτά, πήρε]</td>\n",
       "      <td>NaN</td>\n",
       "    </tr>\n",
       "    <tr>\n",
       "      <th>240</th>\n",
       "      <td>βρεττος σπυριδωνος κωνσταντινος (ντινος)</td>\n",
       "      <td>πανελληνιο σοσιαλιστικο κινημα</td>\n",
       "      <td>[λεπτό, πήρε, τζέκης, λόγο]</td>\n",
       "      <td>προεδρευων</td>\n",
       "    </tr>\n",
       "    <tr>\n",
       "      <th>244</th>\n",
       "      <td>βρεττος σπυριδωνος κωνσταντινος (ντινος)</td>\n",
       "      <td>πανελληνιο σοσιαλιστικο κινημα</td>\n",
       "      <td>[παναγιώτης, λαφαζάνης, λόγο]</td>\n",
       "      <td>προεδρευων</td>\n",
       "    </tr>\n",
       "    <tr>\n",
       "      <th>245</th>\n",
       "      <td>κεδικογλου συμεων βασιλειος</td>\n",
       "      <td>πανελληνιο σοσιαλιστικο κινημα</td>\n",
       "      <td>[χρειαζόμαστε, μετρητά, κύριε, συνάδελφε]</td>\n",
       "      <td>NaN</td>\n",
       "    </tr>\n",
       "    <tr>\n",
       "      <th>246</th>\n",
       "      <td>ρεγκουζας παναγιωτη αδαμ</td>\n",
       "      <td>νεα δημοκρατια</td>\n",
       "      <td>[τροπολογία, κύριε, συνάδελφε, άρθρο]</td>\n",
       "      <td>NaN</td>\n",
       "    </tr>\n",
       "    <tr>\n",
       "      <th>260</th>\n",
       "      <td>μπενακη-ψαρουδα ευαγγελου αννα</td>\n",
       "      <td>νεα δημοκρατια</td>\n",
       "      <td>[ορίστε, κύριε, σπυριούνη, λόγο]</td>\n",
       "      <td>προεδρευων</td>\n",
       "    </tr>\n",
       "    <tr>\n",
       "      <th>266</th>\n",
       "      <td>μητσοτακης κυριακου κωνσταντινος</td>\n",
       "      <td>νεα δημοκρατια</td>\n",
       "      <td>[κυρία, πρόεδρε, παρακαλώ, λόγο]</td>\n",
       "      <td>NaN</td>\n",
       "    </tr>\n",
       "    <tr>\n",
       "      <th>269</th>\n",
       "      <td>μπενακη-ψαρουδα ευαγγελου αννα</td>\n",
       "      <td>νεα δημοκρατια</td>\n",
       "      <td>[λόγο, κύριος, υπουργός]</td>\n",
       "      <td>προεδρευων</td>\n",
       "    </tr>\n",
       "    <tr>\n",
       "      <th>270</th>\n",
       "      <td>κωνσταντινου φωτιου φλωρος</td>\n",
       "      <td>πανελληνιο σοσιαλιστικο κινημα</td>\n",
       "      <td>[κυρία, πρόεδρε, παρακαλώ, λόγο]</td>\n",
       "      <td>NaN</td>\n",
       "    </tr>\n",
       "    <tr>\n",
       "      <th>281</th>\n",
       "      <td>μπενακη-ψαρουδα ευαγγελου αννα</td>\n",
       "      <td>νεα δημοκρατια</td>\n",
       "      <td>[τελειώνετε, παρακαλώ, κύριε, τζέκη]</td>\n",
       "      <td>προεδρευων</td>\n",
       "    </tr>\n",
       "    <tr>\n",
       "      <th>283</th>\n",
       "      <td>μπενακη-ψαρουδα ευαγγελου αννα</td>\n",
       "      <td>νεα δημοκρατια</td>\n",
       "      <td>[λόγο, βλαχόπουλος, δευτερολογήσει]</td>\n",
       "      <td>προεδρευων</td>\n",
       "    </tr>\n",
       "    <tr>\n",
       "      <th>290</th>\n",
       "      <td>βρεττος σπυριδωνος κωνσταντινος (ντινος)</td>\n",
       "      <td>πανελληνιο σοσιαλιστικο κινημα</td>\n",
       "      <td>[τελειώνετε, κύριε, λαφαζάνη]</td>\n",
       "      <td>προεδρευων</td>\n",
       "    </tr>\n",
       "    <tr>\n",
       "      <th>291</th>\n",
       "      <td>βρεττος σπυριδωνος κωνσταντινος (ντινος)</td>\n",
       "      <td>πανελληνιο σοσιαλιστικο κινημα</td>\n",
       "      <td>[λόγο, κύριος, υπουργός]</td>\n",
       "      <td>προεδρευων</td>\n",
       "    </tr>\n",
       "    <tr>\n",
       "      <th>295</th>\n",
       "      <td>βλαχοπουλος δημητριου ηλιας</td>\n",
       "      <td>πανελληνιο σοσιαλιστικο κινημα</td>\n",
       "      <td>[ευθέως, είπε, φοροδιαφυγή]</td>\n",
       "      <td>NaN</td>\n",
       "    </tr>\n",
       "    <tr>\n",
       "      <th>297</th>\n",
       "      <td>βλαχοπουλος δημητριου ηλιας</td>\n",
       "      <td>πανελληνιο σοσιαλιστικο κινημα</td>\n",
       "      <td>[κύριε, πρόεδρε, λόγο, προσωπικού]</td>\n",
       "      <td>NaN</td>\n",
       "    </tr>\n",
       "    <tr>\n",
       "      <th>300</th>\n",
       "      <td>αλογοσκουφης σπυριψων γεωργιος</td>\n",
       "      <td>νεα δημοκρατια</td>\n",
       "      <td>[προσωπικά, κύριε, πρόεδρε]</td>\n",
       "      <td>NaN</td>\n",
       "    </tr>\n",
       "    <tr>\n",
       "      <th>303</th>\n",
       "      <td>βλαχοπουλος δημητριου ηλιας</td>\n",
       "      <td>πανελληνιο σοσιαλιστικο κινημα</td>\n",
       "      <td>[προσωπικό, κύριε, πρόεδρε, λέγεται]</td>\n",
       "      <td>NaN</td>\n",
       "    </tr>\n",
       "    <tr>\n",
       "      <th>308</th>\n",
       "      <td>βρεττος σπυριδωνος κωνσταντινος (ντινος)</td>\n",
       "      <td>πανελληνιο σοσιαλιστικο κινημα</td>\n",
       "      <td>[κύριος, υπουργός, λόγο]</td>\n",
       "      <td>προεδρευων</td>\n",
       "    </tr>\n",
       "    <tr>\n",
       "      <th>325</th>\n",
       "      <td>φωτιαδης δημοσθενη αποστολος</td>\n",
       "      <td>πανελληνιο σοσιαλιστικο κινημα</td>\n",
       "      <td>[αποδεχθεί, κύριε, πρόεδρε]</td>\n",
       "      <td>υφυπουργος οικονομιας και οικονομικων</td>\n",
       "    </tr>\n",
       "    <tr>\n",
       "      <th>329</th>\n",
       "      <td>γειτονας ιωαννη κωνσταντινος</td>\n",
       "      <td>πανελληνιο σοσιαλιστικο κινημα</td>\n",
       "      <td>[λεπτά, φτάνουν, κύριε, συνάδελφε]</td>\n",
       "      <td>προεδρευων</td>\n",
       "    </tr>\n",
       "    <tr>\n",
       "      <th>330</th>\n",
       "      <td>νικολοπουλος ιωαννου νικολαος</td>\n",
       "      <td>νεα δημοκρατια</td>\n",
       "      <td>[θέλω, πέντε, λεπτά]</td>\n",
       "      <td>NaN</td>\n",
       "    </tr>\n",
       "    <tr>\n",
       "      <th>331</th>\n",
       "      <td>γειτονας ιωαννη κωνσταντινος</td>\n",
       "      <td>πανελληνιο σοσιαλιστικο κινημα</td>\n",
       "      <td>[ωραία, πέντε, λεπτά]</td>\n",
       "      <td>προεδρευων</td>\n",
       "    </tr>\n",
       "    <tr>\n",
       "      <th>337</th>\n",
       "      <td>νικολοπουλος ιωαννου νικολαος</td>\n",
       "      <td>νεα δημοκρατια</td>\n",
       "      <td>[τοποθετηθήκαμε, σ, θέμα]</td>\n",
       "      <td>NaN</td>\n",
       "    </tr>\n",
       "    <tr>\n",
       "      <th>340</th>\n",
       "      <td>τζεκης κωνσταντινου αγγελος</td>\n",
       "      <td>κομμουνιστικο κομμα ελλαδας</td>\n",
       "      <td>[κύριε, πρόεδρε, επισήμανση]</td>\n",
       "      <td>NaN</td>\n",
       "    </tr>\n",
       "    <tr>\n",
       "      <th>341</th>\n",
       "      <td>γειτονας ιωαννη κωνσταντινος</td>\n",
       "      <td>πανελληνιο σοσιαλιστικο κινημα</td>\n",
       "      <td>[πρωτιά, επισήμανσης, λέω]</td>\n",
       "      <td>προεδρευων</td>\n",
       "    </tr>\n",
       "    <tr>\n",
       "      <th>343</th>\n",
       "      <td>γειτονας ιωαννη κωνσταντινος</td>\n",
       "      <td>πανελληνιο σοσιαλιστικο κινημα</td>\n",
       "      <td>[παρακαλώ, κύριε, τζέκη, ολοκληρώστε]</td>\n",
       "      <td>προεδρευων</td>\n",
       "    </tr>\n",
       "    <tr>\n",
       "      <th>350</th>\n",
       "      <td>γειτονας ιωαννη κωνσταντινος</td>\n",
       "      <td>πανελληνιο σοσιαλιστικο κινημα</td>\n",
       "      <td>[ολοκληρώστε, κύριε, λαφαζάνη]</td>\n",
       "      <td>προεδρευων</td>\n",
       "    </tr>\n",
       "    <tr>\n",
       "      <th>355</th>\n",
       "      <td>γειτονας ιωαννη κωνσταντινος</td>\n",
       "      <td>πανελληνιο σοσιαλιστικο κινημα</td>\n",
       "      <td>[παρακολουθεί, προεδρείο, άρθρων]</td>\n",
       "      <td>προεδρευων</td>\n",
       "    </tr>\n",
       "    <tr>\n",
       "      <th>356</th>\n",
       "      <td>γειτονας ιωαννη κωνσταντινος</td>\n",
       "      <td>πανελληνιο σοσιαλιστικο κινημα</td>\n",
       "      <td>[κύριε, λαφαζάνη, ολοκληρώστε, χρόνο]</td>\n",
       "      <td>προεδρευων</td>\n",
       "    </tr>\n",
       "    <tr>\n",
       "      <th>360</th>\n",
       "      <td>φωτιαδης δημοσθενη αποστολος</td>\n",
       "      <td>πανελληνιο σοσιαλιστικο κινημα</td>\n",
       "      <td>[μιλήσουν, συνάδελφοι, κύριε, πρόεδρε]</td>\n",
       "      <td>υφυπουργος οικονομιας και οικονομικων</td>\n",
       "    </tr>\n",
       "    <tr>\n",
       "      <th>377</th>\n",
       "      <td>μπενακη-ψαρουδα ευαγγελου αννα</td>\n",
       "      <td>νεα δημοκρατια</td>\n",
       "      <td>[λόγο, συνάδελφος, δαϊλάκης]</td>\n",
       "      <td>προεδρευων</td>\n",
       "    </tr>\n",
       "    <tr>\n",
       "      <th>380</th>\n",
       "      <td>δαιλακης αποστολου σταυρος</td>\n",
       "      <td>νεα δημοκρατια</td>\n",
       "      <td>[βιαζόμαστε, 7η, μάρτη]</td>\n",
       "      <td>NaN</td>\n",
       "    </tr>\n",
       "    <tr>\n",
       "      <th>381</th>\n",
       "      <td>νικολοπουλος ιωαννου νικολαος</td>\n",
       "      <td>νεα δημοκρατια</td>\n",
       "      <td>[βιαστήκατε, μήνα, νωρίτερα]</td>\n",
       "      <td>NaN</td>\n",
       "    </tr>\n",
       "    <tr>\n",
       "      <th>383</th>\n",
       "      <td>μπενακη-ψαρουδα ευαγγελου αννα</td>\n",
       "      <td>νεα δημοκρατια</td>\n",
       "      <td>[λόγο, συνάδελφος, πάππας]</td>\n",
       "      <td>προεδρευων</td>\n",
       "    </tr>\n",
       "    <tr>\n",
       "      <th>386</th>\n",
       "      <td>μπενακη-ψαρουδα ευαγγελου αννα</td>\n",
       "      <td>νεα δημοκρατια</td>\n",
       "      <td>[λόγο, συνάδελφος, σαλαγκούδης]</td>\n",
       "      <td>προεδρευων</td>\n",
       "    </tr>\n",
       "    <tr>\n",
       "      <th>388</th>\n",
       "      <td>μητσοτακης κυριακου κωνσταντινος</td>\n",
       "      <td>νεα δημοκρατια</td>\n",
       "      <td>[κυρία, πρόεδρε, ήθελα, λόγο]</td>\n",
       "      <td>NaN</td>\n",
       "    </tr>\n",
       "    <tr>\n",
       "      <th>390</th>\n",
       "      <td>ξηροτυρη-αικατεριναρη γεωργιου ασημινα</td>\n",
       "      <td>συνασπισμος ριζοσπαστικης αριστερας</td>\n",
       "      <td>[μιλήσει, κύριος, πρόεδρος]</td>\n",
       "      <td>NaN</td>\n",
       "    </tr>\n",
       "  </tbody>\n",
       "</table>\n",
       "</div>"
      ],
      "text/plain": [
       "                                  member_name  ...                           speaker_info\n",
       "3                 σγουριδης σγουρη παναγιωτης  ...                             προεδρευων\n",
       "5                 σγουριδης σγουρη παναγιωτης  ...                             προεδρευων\n",
       "14              νικολοπουλος ιωαννου νικολαος  ...                                    NaN\n",
       "22             αλογοσκουφης σπυριψων γεωργιος  ...                                    NaN\n",
       "27                σγουριδης σγουρη παναγιωτης  ...                             προεδρευων\n",
       "40              νικολοπουλος ιωαννου νικολαος  ...                                    NaN\n",
       "41                σγουριδης σγουρη παναγιωτης  ...                             προεδρευων\n",
       "43                σγουριδης σγουρη παναγιωτης  ...                             προεδρευων\n",
       "44                τζεκης κωνσταντινου αγγελος  ...                                    NaN\n",
       "45                σγουριδης σγουρη παναγιωτης  ...                             προεδρευων\n",
       "56                κεδικογλου συμεων βασιλειος  ...                                    NaN\n",
       "60                σγουριδης σγουρη παναγιωτης  ...                             προεδρευων\n",
       "68                σγουριδης σγουρη παναγιωτης  ...                             προεδρευων\n",
       "87             μπενακη-ψαρουδα ευαγγελου αννα  ...                             προεδρευων\n",
       "89             μπενακη-ψαρουδα ευαγγελου αννα  ...                             προεδρευων\n",
       "93               γειτονας ιωαννη κωνσταντινος  ...                             προεδρευων\n",
       "188              γειτονας ιωαννη κωνσταντινος  ...                             προεδρευων\n",
       "190              γειτονας ιωαννη κωνσταντινος  ...                             προεδρευων\n",
       "192              γειτονας ιωαννη κωνσταντινος  ...                             προεδρευων\n",
       "214               κεδικογλου συμεων βασιλειος  ...                                    NaN\n",
       "216               κεδικογλου συμεων βασιλειος  ...                                    NaN\n",
       "230               τζεκης κωνσταντινου αγγελος  ...                                    NaN\n",
       "236              φωτιαδης δημοσθενη αποστολος  ...  υφυπουργος οικονομιας και οικονομικων\n",
       "239               κεδικογλου συμεων βασιλειος  ...                                    NaN\n",
       "240  βρεττος σπυριδωνος κωνσταντινος (ντινος)  ...                             προεδρευων\n",
       "244  βρεττος σπυριδωνος κωνσταντινος (ντινος)  ...                             προεδρευων\n",
       "245               κεδικογλου συμεων βασιλειος  ...                                    NaN\n",
       "246                  ρεγκουζας παναγιωτη αδαμ  ...                                    NaN\n",
       "260            μπενακη-ψαρουδα ευαγγελου αννα  ...                             προεδρευων\n",
       "266          μητσοτακης κυριακου κωνσταντινος  ...                                    NaN\n",
       "269            μπενακη-ψαρουδα ευαγγελου αννα  ...                             προεδρευων\n",
       "270                κωνσταντινου φωτιου φλωρος  ...                                    NaN\n",
       "281            μπενακη-ψαρουδα ευαγγελου αννα  ...                             προεδρευων\n",
       "283            μπενακη-ψαρουδα ευαγγελου αννα  ...                             προεδρευων\n",
       "290  βρεττος σπυριδωνος κωνσταντινος (ντινος)  ...                             προεδρευων\n",
       "291  βρεττος σπυριδωνος κωνσταντινος (ντινος)  ...                             προεδρευων\n",
       "295               βλαχοπουλος δημητριου ηλιας  ...                                    NaN\n",
       "297               βλαχοπουλος δημητριου ηλιας  ...                                    NaN\n",
       "300            αλογοσκουφης σπυριψων γεωργιος  ...                                    NaN\n",
       "303               βλαχοπουλος δημητριου ηλιας  ...                                    NaN\n",
       "308  βρεττος σπυριδωνος κωνσταντινος (ντινος)  ...                             προεδρευων\n",
       "325              φωτιαδης δημοσθενη αποστολος  ...  υφυπουργος οικονομιας και οικονομικων\n",
       "329              γειτονας ιωαννη κωνσταντινος  ...                             προεδρευων\n",
       "330             νικολοπουλος ιωαννου νικολαος  ...                                    NaN\n",
       "331              γειτονας ιωαννη κωνσταντινος  ...                             προεδρευων\n",
       "337             νικολοπουλος ιωαννου νικολαος  ...                                    NaN\n",
       "340               τζεκης κωνσταντινου αγγελος  ...                                    NaN\n",
       "341              γειτονας ιωαννη κωνσταντινος  ...                             προεδρευων\n",
       "343              γειτονας ιωαννη κωνσταντινος  ...                             προεδρευων\n",
       "350              γειτονας ιωαννη κωνσταντινος  ...                             προεδρευων\n",
       "355              γειτονας ιωαννη κωνσταντινος  ...                             προεδρευων\n",
       "356              γειτονας ιωαννη κωνσταντινος  ...                             προεδρευων\n",
       "360              φωτιαδης δημοσθενη αποστολος  ...  υφυπουργος οικονομιας και οικονομικων\n",
       "377            μπενακη-ψαρουδα ευαγγελου αννα  ...                             προεδρευων\n",
       "380                δαιλακης αποστολου σταυρος  ...                                    NaN\n",
       "381             νικολοπουλος ιωαννου νικολαος  ...                                    NaN\n",
       "383            μπενακη-ψαρουδα ευαγγελου αννα  ...                             προεδρευων\n",
       "386            μπενακη-ψαρουδα ευαγγελου αννα  ...                             προεδρευων\n",
       "388          μητσοτακης κυριακου κωνσταντινος  ...                                    NaN\n",
       "390    ξηροτυρη-αικατεριναρη γεωργιου ασημινα  ...                                    NaN\n",
       "\n",
       "[60 rows x 4 columns]"
      ]
     },
     "execution_count": 41,
     "metadata": {
      "tags": []
     },
     "output_type": "execute_result"
    }
   ],
   "source": [
    "df[['member_name','political_party','speech_tokened','speaker_info']][df['speech_tokened'].apply(lambda x: len(x)).isin([3,4])].head(60)"
   ]
  },
  {
   "cell_type": "markdown",
   "metadata": {
    "id": "4C0-Nm1HdGU7"
   },
   "source": [
    "These are all typicalities, of giving and receiving the floor. Also, since the one communicator is always the president of the parliament, it gives a huge load of speeches to ND and PASOK (and in some extent SYRIZA).\n",
    "What we will do is remove these, see the size of the speeches and the individual words (to get the samples - features aspect) and decide whether it is satisfactory.\n",
    "<br> In a different case, we will proceed to re-include older speeches, which are also long enough to provide some meaning"
   ]
  },
  {
   "cell_type": "code",
   "execution_count": 42,
   "metadata": {
    "colab": {
     "base_uri": "https://localhost:8080/",
     "height": 1000
    },
    "id": "UY2ruuSndGU7",
    "outputId": "7163256e-f6b0-4a8c-f1d4-9578d7aa1366",
    "scrolled": false
   },
   "outputs": [
    {
     "data": {
      "text/html": [
       "<div>\n",
       "<style scoped>\n",
       "    .dataframe tbody tr th:only-of-type {\n",
       "        vertical-align: middle;\n",
       "    }\n",
       "\n",
       "    .dataframe tbody tr th {\n",
       "        vertical-align: top;\n",
       "    }\n",
       "\n",
       "    .dataframe thead th {\n",
       "        text-align: right;\n",
       "    }\n",
       "</style>\n",
       "<table border=\"1\" class=\"dataframe\">\n",
       "  <thead>\n",
       "    <tr style=\"text-align: right;\">\n",
       "      <th></th>\n",
       "      <th>member_name</th>\n",
       "      <th>political_party</th>\n",
       "      <th>speech_tokened</th>\n",
       "      <th>speaker_info</th>\n",
       "    </tr>\n",
       "  </thead>\n",
       "  <tbody>\n",
       "    <tr>\n",
       "      <th>0</th>\n",
       "      <td>τζεκης κωνσταντινου αγγελος</td>\n",
       "      <td>κομμουνιστικο κομμα ελλαδας</td>\n",
       "      <td>[δύο, ενότητες, κύριε, υπουργέ, σήμερα]</td>\n",
       "      <td>NaN</td>\n",
       "    </tr>\n",
       "    <tr>\n",
       "      <th>1</th>\n",
       "      <td>σγουριδης σγουρη παναγιωτης</td>\n",
       "      <td>πανελληνιο σοσιαλιστικο κινημα</td>\n",
       "      <td>[ενότητα, σήμερα, δεύτερη, τροπολογίες, υπάρχουν]</td>\n",
       "      <td>προεδρευων</td>\n",
       "    </tr>\n",
       "    <tr>\n",
       "      <th>8</th>\n",
       "      <td>νικολοπουλος ιωαννου νικολαος</td>\n",
       "      <td>νεα δημοκρατια</td>\n",
       "      <td>[κανονικά, έπρεπε, συζητήσουμε, άρθρα, ενότητες]</td>\n",
       "      <td>NaN</td>\n",
       "    </tr>\n",
       "    <tr>\n",
       "      <th>13</th>\n",
       "      <td>σγουριδης σγουρη παναγιωτης</td>\n",
       "      <td>πανελληνιο σοσιαλιστικο κινημα</td>\n",
       "      <td>[τροπολογία, είπαμε, πάει, μιλάμε, τροπολογία]</td>\n",
       "      <td>προεδρευων</td>\n",
       "    </tr>\n",
       "    <tr>\n",
       "      <th>21</th>\n",
       "      <td>τζεκης κωνσταντινου αγγελος</td>\n",
       "      <td>κομμουνιστικο κομμα ελλαδας</td>\n",
       "      <td>[μπορούμε, συζητήσουμε, σήμερα, κεφάλαιο, νομο...</td>\n",
       "      <td>NaN</td>\n",
       "    </tr>\n",
       "    <tr>\n",
       "      <th>42</th>\n",
       "      <td>κεδικογλου συμεων βασιλειος</td>\n",
       "      <td>πανελληνιο σοσιαλιστικο κινημα</td>\n",
       "      <td>[λίγος, χρόνος, κύριε, πρόεδρε, άρθρα]</td>\n",
       "      <td>NaN</td>\n",
       "    </tr>\n",
       "    <tr>\n",
       "      <th>47</th>\n",
       "      <td>κουρουμπλης ελευθεριου παναγιωτης</td>\n",
       "      <td>πανελληνιο σοσιαλιστικο κινημα</td>\n",
       "      <td>[βουλευτές, γραφεί, μιλήσουν, κύριε, πρόεδρε]</td>\n",
       "      <td>NaN</td>\n",
       "    </tr>\n",
       "    <tr>\n",
       "      <th>54</th>\n",
       "      <td>κεδικογλου συμεων βασιλειος</td>\n",
       "      <td>πανελληνιο σοσιαλιστικο κινημα</td>\n",
       "      <td>[μονή, ναός, ναός, νομικό, πρόσωπο]</td>\n",
       "      <td>NaN</td>\n",
       "    </tr>\n",
       "    <tr>\n",
       "      <th>70</th>\n",
       "      <td>μπενακη-ψαρουδα ευαγγελου αννα</td>\n",
       "      <td>νεα δημοκρατια</td>\n",
       "      <td>[υφυπουργός, οικονομίας, απόστολος, φωτιάδης, ...</td>\n",
       "      <td>προεδρευων</td>\n",
       "    </tr>\n",
       "    <tr>\n",
       "      <th>78</th>\n",
       "      <td>μητσοτακης κυριακου κωνσταντινος</td>\n",
       "      <td>νεα δημοκρατια</td>\n",
       "      <td>[πλήρωσαν, απηλλάγησαν, διότι, παραγράφηκαν, ο...</td>\n",
       "      <td>NaN</td>\n",
       "    </tr>\n",
       "    <tr>\n",
       "      <th>181</th>\n",
       "      <td>γειτονας ιωαννη κωνσταντινος</td>\n",
       "      <td>πανελληνιο σοσιαλιστικο κινημα</td>\n",
       "      <td>[λόγο, εισηγητής, νέας, δημοκρατίας, νικολόπου...</td>\n",
       "      <td>προεδρευων</td>\n",
       "    </tr>\n",
       "    <tr>\n",
       "      <th>186</th>\n",
       "      <td>τζεκης κωνσταντινου αγγελος</td>\n",
       "      <td>κομμουνιστικο κομμα ελλαδας</td>\n",
       "      <td>[διάταξη, περιλαμβάνεται, σ, ενότητα, άρθρων]</td>\n",
       "      <td>NaN</td>\n",
       "    </tr>\n",
       "    <tr>\n",
       "      <th>218</th>\n",
       "      <td>βρεττος σπυριδωνος κωνσταντινος (ντινος)</td>\n",
       "      <td>πανελληνιο σοσιαλιστικο κινημα</td>\n",
       "      <td>[δώσω, χρόνο, δευτερολογίες, άρθρα, συζητήσουμε]</td>\n",
       "      <td>προεδρευων</td>\n",
       "    </tr>\n",
       "    <tr>\n",
       "      <th>219</th>\n",
       "      <td>τζεκης κωνσταντινου αγγελος</td>\n",
       "      <td>κομμουνιστικο κομμα ελλαδας</td>\n",
       "      <td>[kύριε, πρόεδρε, δείξτε, λίγη, ανοχή]</td>\n",
       "      <td>NaN</td>\n",
       "    </tr>\n",
       "    <tr>\n",
       "      <th>229</th>\n",
       "      <td>βρεττος σπυριδωνος κωνσταντινος (ντινος)</td>\n",
       "      <td>πανελληνιο σοσιαλιστικο κινημα</td>\n",
       "      <td>[δίνω, χρόνο, μπορώ, δώσω, χρόνο]</td>\n",
       "      <td>προεδρευων</td>\n",
       "    </tr>\n",
       "    <tr>\n",
       "      <th>232</th>\n",
       "      <td>βρεττος σπυριδωνος κωνσταντινος (ντινος)</td>\n",
       "      <td>πανελληνιο σοσιαλιστικο κινημα</td>\n",
       "      <td>[λέω, δημιουργείτε, πρόβλημα, κύριε, βλαχόπουλε]</td>\n",
       "      <td>προεδρευων</td>\n",
       "    </tr>\n",
       "    <tr>\n",
       "      <th>247</th>\n",
       "      <td>βρεττος σπυριδωνος κωνσταντινος (ντινος)</td>\n",
       "      <td>πανελληνιο σοσιαλιστικο κινημα</td>\n",
       "      <td>[κύριε, συνάδελφε, τελειώνετε, σ, λεπτό]</td>\n",
       "      <td>προεδρευων</td>\n",
       "    </tr>\n",
       "    <tr>\n",
       "      <th>252</th>\n",
       "      <td>μπενακη-ψαρουδα ευαγγελου αννα</td>\n",
       "      <td>νεα δημοκρατια</td>\n",
       "      <td>[ευχαριστούμε, κύριε, ρεγκούζα, λόγο, κεδίκογλου]</td>\n",
       "      <td>προεδρευων</td>\n",
       "    </tr>\n",
       "    <tr>\n",
       "      <th>274</th>\n",
       "      <td>μπενακη-ψαρουδα ευαγγελου αννα</td>\n",
       "      <td>νεα δημοκρατια</td>\n",
       "      <td>[λόγο, κοινοβουλευτικός, εκπρόσωπος, πασοκ, κω...</td>\n",
       "      <td>προεδρευων</td>\n",
       "    </tr>\n",
       "    <tr>\n",
       "      <th>298</th>\n",
       "      <td>βρεττος σπυριδωνος κωνσταντινος (ντινος)</td>\n",
       "      <td>πανελληνιο σοσιαλιστικο κινημα</td>\n",
       "      <td>[ορίστε, πείτε, συνίσταται, προσωπικό, θέμα]</td>\n",
       "      <td>προεδρευων</td>\n",
       "    </tr>\n",
       "    <tr>\n",
       "      <th>327</th>\n",
       "      <td>γειτονας ιωαννη κωνσταντινος</td>\n",
       "      <td>πανελληνιο σοσιαλιστικο κινημα</td>\n",
       "      <td>[εισηγητής, νέας, δημοκρατίας, νικολόπουλος, λ...</td>\n",
       "      <td>προεδρευων</td>\n",
       "    </tr>\n",
       "    <tr>\n",
       "      <th>334</th>\n",
       "      <td>τζεκης κωνσταντινου αγγελος</td>\n",
       "      <td>κομμουνιστικο κομμα ελλαδας</td>\n",
       "      <td>[κύριε, πρόεδρε, βάλτε, δεκαπέντε, λεπτά]</td>\n",
       "      <td>NaN</td>\n",
       "    </tr>\n",
       "    <tr>\n",
       "      <th>345</th>\n",
       "      <td>γειτονας ιωαννη κωνσταντινος</td>\n",
       "      <td>πανελληνιο σοσιαλιστικο κινημα</td>\n",
       "      <td>[ολοκληρώσατε, κύριε, τζέκη, χρόνο, ευχαριστώ]</td>\n",
       "      <td>προεδρευων</td>\n",
       "    </tr>\n",
       "    <tr>\n",
       "      <th>402</th>\n",
       "      <td>μπενακη-ψαρουδα ευαγγελου αννα</td>\n",
       "      <td>νεα δημοκρατια</td>\n",
       "      <td>[παρακαλώ, κύριε, γικόνογλου, ξηροτύρη, λόγο]</td>\n",
       "      <td>προεδρευων</td>\n",
       "    </tr>\n",
       "    <tr>\n",
       "      <th>404</th>\n",
       "      <td>μπενακη-ψαρουδα ευαγγελου αννα</td>\n",
       "      <td>νεα δημοκρατια</td>\n",
       "      <td>[υφυπουργός, οικονομίας, οικονομικών, φωτιάδης...</td>\n",
       "      <td>προεδρευων</td>\n",
       "    </tr>\n",
       "    <tr>\n",
       "      <th>492</th>\n",
       "      <td>παχτας αστεριου χρηστος</td>\n",
       "      <td>πανελληνιο σοσιαλιστικο κινημα</td>\n",
       "      <td>[κάντε, ζωή, πράξη, εργασία, μόχθος]</td>\n",
       "      <td>υφυπουργος οικονομιας</td>\n",
       "    </tr>\n",
       "    <tr>\n",
       "      <th>504</th>\n",
       "      <td>σγουριδης σγουρη παναγιωτης</td>\n",
       "      <td>πανελληνιο σοσιαλιστικο κινημα</td>\n",
       "      <td>[είπατε, κύριε, φλωρίνη, νομίζω, κατανοητό]</td>\n",
       "      <td>προεδρευων</td>\n",
       "    </tr>\n",
       "    <tr>\n",
       "      <th>510</th>\n",
       "      <td>σγουριδης σγουρη παναγιωτης</td>\n",
       "      <td>πανελληνιο σοσιαλιστικο κινημα</td>\n",
       "      <td>[κεδίκογλου, λόγο, φτάνουν, τέσσερα, λεπτά]</td>\n",
       "      <td>προεδρευων</td>\n",
       "    </tr>\n",
       "    <tr>\n",
       "      <th>551</th>\n",
       "      <td>σγουριδης σγουρη παναγιωτης</td>\n",
       "      <td>πανελληνιο σοσιαλιστικο κινημα</td>\n",
       "      <td>[πολιτική, προσωπικά, οικογενειακά, θέματα, θέση]</td>\n",
       "      <td>προεδρευων</td>\n",
       "    </tr>\n",
       "    <tr>\n",
       "      <th>582</th>\n",
       "      <td>σγουριδης σγουρη παναγιωτης</td>\n",
       "      <td>πανελληνιο σοσιαλιστικο κινημα</td>\n",
       "      <td>[πολιτική, θρασύτητα, θρασύτητα, υπάρχει, διαφ...</td>\n",
       "      <td>προεδρευων</td>\n",
       "    </tr>\n",
       "    <tr>\n",
       "      <th>685</th>\n",
       "      <td>καστανιδης γεωργιου χαραλαμπος</td>\n",
       "      <td>πανελληνιο σοσιαλιστικο κινημα</td>\n",
       "      <td>[επιτρέψτε, κύριε, ρεγκούζα, δώσω, στοιχεία]</td>\n",
       "      <td>υπουργος μακεδονιας-θρακης</td>\n",
       "    </tr>\n",
       "    <tr>\n",
       "      <th>705</th>\n",
       "      <td>σαλαγκουδης αριστοτελη γεωργιος</td>\n",
       "      <td>νεα δημοκρατια</td>\n",
       "      <td>[κάνει, εντύπωση, εκνευρισθεί, μιλούσατε, ηρεμ...</td>\n",
       "      <td>NaN</td>\n",
       "    </tr>\n",
       "    <tr>\n",
       "      <th>710</th>\n",
       "      <td>καστανιδης γεωργιου χαραλαμπος</td>\n",
       "      <td>πανελληνιο σοσιαλιστικο κινημα</td>\n",
       "      <td>[βλέπει, ελληνικός, λαός, κύριε, σαλαγκούδη]</td>\n",
       "      <td>υπουργος μακεδονιας-θρακης</td>\n",
       "    </tr>\n",
       "    <tr>\n",
       "      <th>732</th>\n",
       "      <td>καστανιδης γεωργιου χαραλαμπος</td>\n",
       "      <td>πανελληνιο σοσιαλιστικο κινημα</td>\n",
       "      <td>[γενική, έκθεση, αναφέρεστε, ή, κλαδικές]</td>\n",
       "      <td>υπουργος μακεδονιας-θρακης</td>\n",
       "    </tr>\n",
       "    <tr>\n",
       "      <th>748</th>\n",
       "      <td>καλαφατης αθανασιου σταυρος</td>\n",
       "      <td>νεα δημοκρατια</td>\n",
       "      <td>[ανέγνωσα, έρευνα, εξέφρασα, προσωπική, άποψη]</td>\n",
       "      <td>NaN</td>\n",
       "    </tr>\n",
       "    <tr>\n",
       "      <th>758</th>\n",
       "      <td>σαλαγκουδης αριστοτελη γεωργιος</td>\n",
       "      <td>νεα δημοκρατια</td>\n",
       "      <td>[σπεύσατε, ημέρα, προκαλέσετε, κερδίσετε, επικ...</td>\n",
       "      <td>NaN</td>\n",
       "    </tr>\n",
       "    <tr>\n",
       "      <th>793</th>\n",
       "      <td>βρεττος σπυριδωνος κωνσταντινος (ντινος)</td>\n",
       "      <td>πανελληνιο σοσιαλιστικο κινημα</td>\n",
       "      <td>[προτέρου, βίου, προεδρείο, μπορώ, αρνηθώ]</td>\n",
       "      <td>προεδρευων</td>\n",
       "    </tr>\n",
       "    <tr>\n",
       "      <th>802</th>\n",
       "      <td>μητσοτακης κυριακου κωνσταντινος</td>\n",
       "      <td>νεα δημοκρατια</td>\n",
       "      <td>[παίρνουν, δημοσιότητα, λέμε, κύριε, συνάδελφε]</td>\n",
       "      <td>NaN</td>\n",
       "    </tr>\n",
       "    <tr>\n",
       "      <th>804</th>\n",
       "      <td>μητσοτακης κυριακου κωνσταντινος</td>\n",
       "      <td>νεα δημοκρατια</td>\n",
       "      <td>[μεγαλύτερη, αλλαγή, φύγει, κυβέρνηση, λεπτομέ...</td>\n",
       "      <td>NaN</td>\n",
       "    </tr>\n",
       "    <tr>\n",
       "      <th>812</th>\n",
       "      <td>βρεττος σπυριδωνος κωνσταντινος (ντινος)</td>\n",
       "      <td>πανελληνιο σοσιαλιστικο κινημα</td>\n",
       "      <td>[αφήστε, συνεχίσει, συνεχίστε, κύριε, βλαχόπουλε]</td>\n",
       "      <td>προεδρευων</td>\n",
       "    </tr>\n",
       "    <tr>\n",
       "      <th>820</th>\n",
       "      <td>γκατζης φιλιππου νικολαος</td>\n",
       "      <td>κομμουνιστικο κομμα ελλαδας</td>\n",
       "      <td>[λέμε, δύο, κόμματα, πιάσουν, πάτο]</td>\n",
       "      <td>NaN</td>\n",
       "    </tr>\n",
       "    <tr>\n",
       "      <th>829</th>\n",
       "      <td>σγουριδης σγουρη παναγιωτης</td>\n",
       "      <td>πανελληνιο σοσιαλιστικο κινημα</td>\n",
       "      <td>[νομίζω, αρχή, ανακοίνωσαν, λέει, κανονισμός]</td>\n",
       "      <td>προεδρευων</td>\n",
       "    </tr>\n",
       "    <tr>\n",
       "      <th>841</th>\n",
       "      <td>σγουριδης σγουρη παναγιωτης</td>\n",
       "      <td>πανελληνιο σοσιαλιστικο κινημα</td>\n",
       "      <td>[άλλωστε, σινεφίλ, βάζω, χρόνο, αρχή]</td>\n",
       "      <td>προεδρευων</td>\n",
       "    </tr>\n",
       "    <tr>\n",
       "      <th>863</th>\n",
       "      <td>σγουριδης σγουρη παναγιωτης</td>\n",
       "      <td>πανελληνιο σοσιαλιστικο κινημα</td>\n",
       "      <td>[ξέρω, κύριε, κατσαρέ, υπάρχει, πρόταση]</td>\n",
       "      <td>προεδρευων</td>\n",
       "    </tr>\n",
       "    <tr>\n",
       "      <th>902</th>\n",
       "      <td>τσιογκας βασιλειου δημητριος</td>\n",
       "      <td>κομμουνιστικο κομμα ελλαδας</td>\n",
       "      <td>[επανέλθουμε, δευτερολογία, προτάσεις, κκε, ευ...</td>\n",
       "      <td>NaN</td>\n",
       "    </tr>\n",
       "    <tr>\n",
       "      <th>934</th>\n",
       "      <td>ρεππας παναγιωτη δημητριος</td>\n",
       "      <td>πανελληνιο σοσιαλιστικο κινημα</td>\n",
       "      <td>[ευκαιρία, καλογιάννης, δευτερολογία, ακούσει,...</td>\n",
       "      <td>υπουργος εργασιας και κοινωνικων ασφαλισεων</td>\n",
       "    </tr>\n",
       "    <tr>\n",
       "      <th>938</th>\n",
       "      <td>σγουριδης σγουρη παναγιωτης</td>\n",
       "      <td>πανελληνιο σοσιαλιστικο κινημα</td>\n",
       "      <td>[λόγο, κουρουμπλής, κοινοβουλευτικός, εκπρόσωπ...</td>\n",
       "      <td>προεδρευων</td>\n",
       "    </tr>\n",
       "    <tr>\n",
       "      <th>942</th>\n",
       "      <td>τσιογκας βασιλειου δημητριος</td>\n",
       "      <td>κομμουνιστικο κομμα ελλαδας</td>\n",
       "      <td>[πρόλαβε, παπανδρέου, είπε, κρατικά, πανεπιστή...</td>\n",
       "      <td>NaN</td>\n",
       "    </tr>\n",
       "    <tr>\n",
       "      <th>958</th>\n",
       "      <td>σγουριδης σγουρη παναγιωτης</td>\n",
       "      <td>πανελληνιο σοσιαλιστικο κινημα</td>\n",
       "      <td>[δικαίωμα, μιλήσετε, εισηγητής, κοινοβουλευτικ...</td>\n",
       "      <td>προεδρευων</td>\n",
       "    </tr>\n",
       "    <tr>\n",
       "      <th>965</th>\n",
       "      <td>τσιογκας βασιλειου δημητριος</td>\n",
       "      <td>κομμουνιστικο κομμα ελλαδας</td>\n",
       "      <td>[θέλετε, φιμώσετε, ουσία, κύριε, πρόεδρε]</td>\n",
       "      <td>NaN</td>\n",
       "    </tr>\n",
       "    <tr>\n",
       "      <th>966</th>\n",
       "      <td>σγουριδης σγουρη παναγιωτης</td>\n",
       "      <td>πανελληνιο σοσιαλιστικο κινημα</td>\n",
       "      <td>[πείτε, καφενεία, χωριών, κόσμος, ξέρει]</td>\n",
       "      <td>προεδρευων</td>\n",
       "    </tr>\n",
       "    <tr>\n",
       "      <th>968</th>\n",
       "      <td>σγουριδης σγουρη παναγιωτης</td>\n",
       "      <td>πανελληνιο σοσιαλιστικο κινημα</td>\n",
       "      <td>[αφήστε, κύριε, συνάδελφε, στεργίου, λόγο]</td>\n",
       "      <td>προεδρευων</td>\n",
       "    </tr>\n",
       "    <tr>\n",
       "      <th>975</th>\n",
       "      <td>τσιογκας βασιλειου δημητριος</td>\n",
       "      <td>κομμουνιστικο κομμα ελλαδας</td>\n",
       "      <td>[εκπροσωπείτε, συμφέροντα, απαντήστε, σ, ρωτήσ...</td>\n",
       "      <td>NaN</td>\n",
       "    </tr>\n",
       "    <tr>\n",
       "      <th>985</th>\n",
       "      <td>ρεππας παναγιωτη δημητριος</td>\n",
       "      <td>πανελληνιο σοσιαλιστικο κινημα</td>\n",
       "      <td>[βεβαίως, υπάρχει, άφθονο, εργατικό, δυναμικό]</td>\n",
       "      <td>υπουργος εργασιας και κοινωνικων ασφαλισεων</td>\n",
       "    </tr>\n",
       "    <tr>\n",
       "      <th>1062</th>\n",
       "      <td>κολιοπανος ιωαννη θεοδωρος</td>\n",
       "      <td>πανελληνιο σοσιαλιστικο κινημα</td>\n",
       "      <td>[κύριε, πρόεδρε, μπορώ, λόγο, τροπολογία]</td>\n",
       "      <td>NaN</td>\n",
       "    </tr>\n",
       "    <tr>\n",
       "      <th>1063</th>\n",
       "      <td>βρεττος σπυριδωνος κωνσταντινος (ντινος)</td>\n",
       "      <td>πανελληνιο σοσιαλιστικο κινημα</td>\n",
       "      <td>[κύριε, συνάδελφε, τροπολογίες, συζητήσουμε, λ...</td>\n",
       "      <td>προεδρευων</td>\n",
       "    </tr>\n",
       "    <tr>\n",
       "      <th>1064</th>\n",
       "      <td>τσιογκας βασιλειου δημητριος</td>\n",
       "      <td>κομμουνιστικο κομμα ελλαδας</td>\n",
       "      <td>[κύριε, πρόεδρε, ήθελα, κι, λόγο]</td>\n",
       "      <td>NaN</td>\n",
       "    </tr>\n",
       "    <tr>\n",
       "      <th>1065</th>\n",
       "      <td>βρεττος σπυριδωνος κωνσταντινος (ντινος)</td>\n",
       "      <td>πανελληνιο σοσιαλιστικο κινημα</td>\n",
       "      <td>[ολοκληρώσαμε, συζήτηση, άρθρων, κύριε, συνάδε...</td>\n",
       "      <td>προεδρευων</td>\n",
       "    </tr>\n",
       "    <tr>\n",
       "      <th>1071</th>\n",
       "      <td>τζιολας γεωργιου ελευθεριος</td>\n",
       "      <td>πανελληνιο σοσιαλιστικο κινημα</td>\n",
       "      <td>[εργατικό, κέντρο, λάρισας, ποιους, στηρίζετε]</td>\n",
       "      <td>υφυπουργος εργασιας και κοινωνικων ασφαλισεων</td>\n",
       "    </tr>\n",
       "    <tr>\n",
       "      <th>1181</th>\n",
       "      <td>σπυρου πετρου σπυριδων</td>\n",
       "      <td>νεα δημοκρατια</td>\n",
       "      <td>[υπουργός, πει, καταργήθηκε, πρόσφατα, καταργη...</td>\n",
       "      <td>NaN</td>\n",
       "    </tr>\n",
       "  </tbody>\n",
       "</table>\n",
       "</div>"
      ],
      "text/plain": [
       "                                   member_name  ...                                   speaker_info\n",
       "0                  τζεκης κωνσταντινου αγγελος  ...                                            NaN\n",
       "1                  σγουριδης σγουρη παναγιωτης  ...                                     προεδρευων\n",
       "8                νικολοπουλος ιωαννου νικολαος  ...                                            NaN\n",
       "13                 σγουριδης σγουρη παναγιωτης  ...                                     προεδρευων\n",
       "21                 τζεκης κωνσταντινου αγγελος  ...                                            NaN\n",
       "42                 κεδικογλου συμεων βασιλειος  ...                                            NaN\n",
       "47           κουρουμπλης ελευθεριου παναγιωτης  ...                                            NaN\n",
       "54                 κεδικογλου συμεων βασιλειος  ...                                            NaN\n",
       "70              μπενακη-ψαρουδα ευαγγελου αννα  ...                                     προεδρευων\n",
       "78            μητσοτακης κυριακου κωνσταντινος  ...                                            NaN\n",
       "181               γειτονας ιωαννη κωνσταντινος  ...                                     προεδρευων\n",
       "186                τζεκης κωνσταντινου αγγελος  ...                                            NaN\n",
       "218   βρεττος σπυριδωνος κωνσταντινος (ντινος)  ...                                     προεδρευων\n",
       "219                τζεκης κωνσταντινου αγγελος  ...                                            NaN\n",
       "229   βρεττος σπυριδωνος κωνσταντινος (ντινος)  ...                                     προεδρευων\n",
       "232   βρεττος σπυριδωνος κωνσταντινος (ντινος)  ...                                     προεδρευων\n",
       "247   βρεττος σπυριδωνος κωνσταντινος (ντινος)  ...                                     προεδρευων\n",
       "252             μπενακη-ψαρουδα ευαγγελου αννα  ...                                     προεδρευων\n",
       "274             μπενακη-ψαρουδα ευαγγελου αννα  ...                                     προεδρευων\n",
       "298   βρεττος σπυριδωνος κωνσταντινος (ντινος)  ...                                     προεδρευων\n",
       "327               γειτονας ιωαννη κωνσταντινος  ...                                     προεδρευων\n",
       "334                τζεκης κωνσταντινου αγγελος  ...                                            NaN\n",
       "345               γειτονας ιωαννη κωνσταντινος  ...                                     προεδρευων\n",
       "402             μπενακη-ψαρουδα ευαγγελου αννα  ...                                     προεδρευων\n",
       "404             μπενακη-ψαρουδα ευαγγελου αννα  ...                                     προεδρευων\n",
       "492                    παχτας αστεριου χρηστος  ...                          υφυπουργος οικονομιας\n",
       "504                σγουριδης σγουρη παναγιωτης  ...                                     προεδρευων\n",
       "510                σγουριδης σγουρη παναγιωτης  ...                                     προεδρευων\n",
       "551                σγουριδης σγουρη παναγιωτης  ...                                     προεδρευων\n",
       "582                σγουριδης σγουρη παναγιωτης  ...                                     προεδρευων\n",
       "685             καστανιδης γεωργιου χαραλαμπος  ...                     υπουργος μακεδονιας-θρακης\n",
       "705            σαλαγκουδης αριστοτελη γεωργιος  ...                                            NaN\n",
       "710             καστανιδης γεωργιου χαραλαμπος  ...                     υπουργος μακεδονιας-θρακης\n",
       "732             καστανιδης γεωργιου χαραλαμπος  ...                     υπουργος μακεδονιας-θρακης\n",
       "748                καλαφατης αθανασιου σταυρος  ...                                            NaN\n",
       "758            σαλαγκουδης αριστοτελη γεωργιος  ...                                            NaN\n",
       "793   βρεττος σπυριδωνος κωνσταντινος (ντινος)  ...                                     προεδρευων\n",
       "802           μητσοτακης κυριακου κωνσταντινος  ...                                            NaN\n",
       "804           μητσοτακης κυριακου κωνσταντινος  ...                                            NaN\n",
       "812   βρεττος σπυριδωνος κωνσταντινος (ντινος)  ...                                     προεδρευων\n",
       "820                  γκατζης φιλιππου νικολαος  ...                                            NaN\n",
       "829                σγουριδης σγουρη παναγιωτης  ...                                     προεδρευων\n",
       "841                σγουριδης σγουρη παναγιωτης  ...                                     προεδρευων\n",
       "863                σγουριδης σγουρη παναγιωτης  ...                                     προεδρευων\n",
       "902               τσιογκας βασιλειου δημητριος  ...                                            NaN\n",
       "934                 ρεππας παναγιωτη δημητριος  ...    υπουργος εργασιας και κοινωνικων ασφαλισεων\n",
       "938                σγουριδης σγουρη παναγιωτης  ...                                     προεδρευων\n",
       "942               τσιογκας βασιλειου δημητριος  ...                                            NaN\n",
       "958                σγουριδης σγουρη παναγιωτης  ...                                     προεδρευων\n",
       "965               τσιογκας βασιλειου δημητριος  ...                                            NaN\n",
       "966                σγουριδης σγουρη παναγιωτης  ...                                     προεδρευων\n",
       "968                σγουριδης σγουρη παναγιωτης  ...                                     προεδρευων\n",
       "975               τσιογκας βασιλειου δημητριος  ...                                            NaN\n",
       "985                 ρεππας παναγιωτη δημητριος  ...    υπουργος εργασιας και κοινωνικων ασφαλισεων\n",
       "1062                κολιοπανος ιωαννη θεοδωρος  ...                                            NaN\n",
       "1063  βρεττος σπυριδωνος κωνσταντινος (ντινος)  ...                                     προεδρευων\n",
       "1064              τσιογκας βασιλειου δημητριος  ...                                            NaN\n",
       "1065  βρεττος σπυριδωνος κωνσταντινος (ντινος)  ...                                     προεδρευων\n",
       "1071               τζιολας γεωργιου ελευθεριος  ...  υφυπουργος εργασιας και κοινωνικων ασφαλισεων\n",
       "1181                    σπυρου πετρου σπυριδων  ...                                            NaN\n",
       "\n",
       "[60 rows x 4 columns]"
      ]
     },
     "execution_count": 42,
     "metadata": {
      "tags": []
     },
     "output_type": "execute_result"
    }
   ],
   "source": [
    "df[['member_name','political_party','speech_tokened','speaker_info']][df['speech_tokened'].apply(lambda x: len(x)) == 5].head(60)"
   ]
  },
  {
   "cell_type": "markdown",
   "metadata": {
    "id": "AbsZrlG4dGU7"
   },
   "source": [
    "We see that when we add a 5th word to the speech, different meanings start to form. As such, we will only remove up to 4 tokens speeches (tokens counted after stopword removal)"
   ]
  },
  {
   "cell_type": "code",
   "execution_count": 43,
   "metadata": {
    "id": "a7Ev7coIdGU8"
   },
   "outputs": [],
   "source": [
    "df = df[df['speech_tokened'].apply(lambda x: len(x)) > 4]"
   ]
  },
  {
   "cell_type": "code",
   "execution_count": 44,
   "metadata": {
    "colab": {
     "base_uri": "https://localhost:8080/"
    },
    "id": "L013FICFdGU8",
    "outputId": "87fcbb1a-f2fc-4a4f-d4e6-aaa349c35f28"
   },
   "outputs": [
    {
     "data": {
      "text/plain": [
       "372707"
      ]
     },
     "execution_count": 44,
     "metadata": {
      "tags": []
     },
     "output_type": "execute_result"
    }
   ],
   "source": [
    "len(df)"
   ]
  },
  {
   "cell_type": "markdown",
   "metadata": {
    "id": "8WaMHSoJdGU8"
   },
   "source": [
    "So, we have almost 400.000 samples. Let's see now what happens with our features, our individual words, which will be our dictionary"
   ]
  },
  {
   "cell_type": "code",
   "execution_count": 45,
   "metadata": {
    "colab": {
     "base_uri": "https://localhost:8080/"
    },
    "id": "V3ci1zgydGU9",
    "outputId": "59ee1ceb-788a-4b49-c51f-2cadb263a525"
   },
   "outputs": [
    {
     "name": "stdout",
     "output_type": "stream",
     "text": [
      "[('κύριε', 317671), ('ή', 198133), ('υπάρχει', 170442), ('σήμερα', 155665), ('κυβέρνηση', 150663), ('συνάδελφοι', 150079), ('κύριοι', 149169), ('λόγο', 127595), ('πρόεδρε', 118895), ('υπουργέ', 114708), ('άρθρο', 113998), ('θέμα', 109484), ('δύο', 105519), ('χώρα', 104211), ('χρόνια', 103525), ('αφορά', 101602), ('ευχαριστώ', 100170), ('νομοσχέδιο', 99488), ('ευρώ', 98870), ('πολιτική', 98020), ('πω', 94626), ('γίνεται', 91366), ('κυρίες', 90289), ('υπάρχουν', 88445), ('κάνει', 88374), ('διότι', 84768), ('γίνει', 83929), ('σ', 75967), ('ελλάδα', 71944), ('νέα', 71673)]\n"
     ]
    }
   ],
   "source": [
    "from collections import Counter\n",
    "\n",
    "counter  = Counter()\n",
    "for i in df['speech_tokened']:\n",
    "    counter.update(i)\n",
    "print([x for x in counter.most_common(30)])"
   ]
  },
  {
   "cell_type": "markdown",
   "metadata": {
    "id": "gM1t4DrwdGU9"
   },
   "source": [
    "There are quite common words, but it would actually be a never-ending spiral of what consitutes a \"meaninful\" token within the political context, without trial and error (out of our scope for now). We'll just assume that since the usage is so often, pretty much everyone uses them. In our traditional ML models, we'll even limit the document frequency, so trivial tokens will be removed anyways :)<br><br>\n",
    "An interesting concept would be to differently treat the text within the greek quotation marks (removed earlier, since we have filtered out any non alphanumerical words),since it might be a bit confusing for our models, in case the quotations include phrases previously used by other parties (eg. refering to a sentence before responding to it). We could also extract it to a different column, and import it as seperate input to our models, in case we find any pattern on what different political parties tend to refer to. We will not be doing this however, due to time limitations. Just food for thought as next steps. We might update our stopwords, and re-filter our tokens before feeding them to our NN models, but not quite yet"
   ]
  },
  {
   "cell_type": "code",
   "execution_count": 46,
   "metadata": {
    "colab": {
     "base_uri": "https://localhost:8080/"
    },
    "id": "krdDwMzQdGU9",
    "outputId": "9c24c1db-b411-44b4-81ea-de53665266e0"
   },
   "outputs": [
    {
     "data": {
      "text/plain": [
       "316411"
      ]
     },
     "execution_count": 46,
     "metadata": {
      "tags": []
     },
     "output_type": "execute_result"
    }
   ],
   "source": [
    "len(counter)"
   ]
  },
  {
   "cell_type": "markdown",
   "metadata": {
    "id": "uEZuUXHTdGU-"
   },
   "source": [
    "We have about 300k words in total. We'll have to kep that in mind, since they only give a ratio of samples/features of 1.x <br>\n",
    "We might need to find a rule for features reduction later on. However, as stated before, our traditional ML is protected by the max_df parameter, and we can define our own vocab size. Not time for such considerations yet. Let's see however the most common ones"
   ]
  },
  {
   "cell_type": "code",
   "execution_count": 47,
   "metadata": {
    "colab": {
     "base_uri": "https://localhost:8080/"
    },
    "id": "IcTkFUdjdGU-",
    "outputId": "46107270-23ec-474c-969b-75e69c370546",
    "scrolled": false
   },
   "outputs": [
    {
     "data": {
      "text/plain": [
       "[('κύριε', 317671),\n",
       " ('ή', 198133),\n",
       " ('υπάρχει', 170442),\n",
       " ('σήμερα', 155665),\n",
       " ('κυβέρνηση', 150663),\n",
       " ('συνάδελφοι', 150079),\n",
       " ('κύριοι', 149169),\n",
       " ('λόγο', 127595),\n",
       " ('πρόεδρε', 118895),\n",
       " ('υπουργέ', 114708),\n",
       " ('άρθρο', 113998),\n",
       " ('θέμα', 109484),\n",
       " ('δύο', 105519),\n",
       " ('χώρα', 104211),\n",
       " ('χρόνια', 103525),\n",
       " ('αφορά', 101602),\n",
       " ('ευχαριστώ', 100170),\n",
       " ('νομοσχέδιο', 99488),\n",
       " ('ευρώ', 98870),\n",
       " ('πολιτική', 98020),\n",
       " ('πω', 94626),\n",
       " ('γίνεται', 91366),\n",
       " ('κυρίες', 90289),\n",
       " ('υπάρχουν', 88445),\n",
       " ('κάνει', 88374),\n",
       " ('διότι', 84768),\n",
       " ('γίνει', 83929),\n",
       " ('σ', 75967),\n",
       " ('ελλάδα', 71944),\n",
       " ('νέα', 71673),\n",
       " ('δημοκρατίας', 70651),\n",
       " ('θέλω', 69077),\n",
       " ('χώρας', 68409),\n",
       " ('υπουργός', 67496),\n",
       " ('συζήτηση', 64835),\n",
       " ('τρόπο', 63785),\n",
       " ('λέει', 62665),\n",
       " ('κι', 62406),\n",
       " ('νέας', 61977),\n",
       " ('βεβαίως', 59419),\n",
       " ('βουλή', 58825),\n",
       " ('πρόβλημα', 58770),\n",
       " ('επιτροπή', 58174),\n",
       " ('υπουργείο', 58049),\n",
       " ('υπουργό', 57322),\n",
       " ('στιγμή', 57101),\n",
       " ('κυρία', 54800),\n",
       " ('ό', 54415),\n",
       " ('κυβέρνησης', 54369),\n",
       " ('κάνουμε', 54078)]"
      ]
     },
     "execution_count": 47,
     "metadata": {
      "tags": []
     },
     "output_type": "execute_result"
    }
   ],
   "source": [
    "counter.most_common(50)"
   ]
  },
  {
   "cell_type": "markdown",
   "metadata": {
    "id": "fgzgjxsXdGVB"
   },
   "source": [
    "Now, let's see how the unique words in each speech are stastitically spread"
   ]
  },
  {
   "cell_type": "code",
   "execution_count": 48,
   "metadata": {
    "colab": {
     "base_uri": "https://localhost:8080/"
    },
    "id": "E4e4aDJJdGVB",
    "outputId": "ff862dd1-1654-4f14-ee49-482d055974c1",
    "scrolled": false
   },
   "outputs": [
    {
     "data": {
      "text/plain": [
       "count    372707.000000\n",
       "mean         84.123521\n",
       "std         138.861825\n",
       "min           2.000000\n",
       "25%           7.000000\n",
       "50%          18.000000\n",
       "75%         101.000000\n",
       "90%         278.000000\n",
       "95%         382.000000\n",
       "max        2672.000000\n",
       "Name: speech_set, dtype: float64"
      ]
     },
     "execution_count": 48,
     "metadata": {
      "tags": []
     },
     "output_type": "execute_result"
    }
   ],
   "source": [
    "df['speech_set'] = df['speech_tokened'].apply(lambda x: (set(x)))\n",
    "df['speech_set'].apply(lambda x: len(x)).describe(percentiles=[0.25,0.5,0.75,0.9, .95])"
   ]
  },
  {
   "cell_type": "markdown",
   "metadata": {
    "id": "18irJZYHdGVC"
   },
   "source": [
    "And let's see how many document frequency we have for each word, a metric that will help us set a better value to the max_df parameter of our traditional ML models"
   ]
  },
  {
   "cell_type": "code",
   "execution_count": 49,
   "metadata": {
    "id": "-hGNk05DdGVD"
   },
   "outputs": [],
   "source": [
    "counter1  = Counter()\n",
    "for i in df['speech_set']:\n",
    "    counter1.update(i)"
   ]
  },
  {
   "cell_type": "code",
   "execution_count": 50,
   "metadata": {
    "colab": {
     "base_uri": "https://localhost:8080/",
     "height": 545
    },
    "id": "J-l3zVC6dGVD",
    "outputId": "b2db8c65-93b1-4545-daaf-f5facfe811ee",
    "scrolled": false
   },
   "outputs": [
    {
     "data": {
      "text/html": [
       "<div>\n",
       "<style scoped>\n",
       "    .dataframe tbody tr th:only-of-type {\n",
       "        vertical-align: middle;\n",
       "    }\n",
       "\n",
       "    .dataframe tbody tr th {\n",
       "        vertical-align: top;\n",
       "    }\n",
       "\n",
       "    .dataframe thead th {\n",
       "        text-align: right;\n",
       "    }\n",
       "</style>\n",
       "<table border=\"1\" class=\"dataframe\">\n",
       "  <thead>\n",
       "    <tr style=\"text-align: right;\">\n",
       "      <th></th>\n",
       "      <th>0</th>\n",
       "    </tr>\n",
       "  </thead>\n",
       "  <tbody>\n",
       "    <tr>\n",
       "      <th>count</th>\n",
       "      <td>316411.000000</td>\n",
       "    </tr>\n",
       "    <tr>\n",
       "      <th>mean</th>\n",
       "      <td>99.090819</td>\n",
       "    </tr>\n",
       "    <tr>\n",
       "      <th>std</th>\n",
       "      <td>1040.031029</td>\n",
       "    </tr>\n",
       "    <tr>\n",
       "      <th>min</th>\n",
       "      <td>1.000000</td>\n",
       "    </tr>\n",
       "    <tr>\n",
       "      <th>25%</th>\n",
       "      <td>1.000000</td>\n",
       "    </tr>\n",
       "    <tr>\n",
       "      <th>50%</th>\n",
       "      <td>3.000000</td>\n",
       "    </tr>\n",
       "    <tr>\n",
       "      <th>75%</th>\n",
       "      <td>13.000000</td>\n",
       "    </tr>\n",
       "    <tr>\n",
       "      <th>80%</th>\n",
       "      <td>22.000000</td>\n",
       "    </tr>\n",
       "    <tr>\n",
       "      <th>90%</th>\n",
       "      <td>81.000000</td>\n",
       "    </tr>\n",
       "    <tr>\n",
       "      <th>92%</th>\n",
       "      <td>117.000000</td>\n",
       "    </tr>\n",
       "    <tr>\n",
       "      <th>95%</th>\n",
       "      <td>243.000000</td>\n",
       "    </tr>\n",
       "    <tr>\n",
       "      <th>97%</th>\n",
       "      <td>482.000000</td>\n",
       "    </tr>\n",
       "    <tr>\n",
       "      <th>98%</th>\n",
       "      <td>798.000000</td>\n",
       "    </tr>\n",
       "    <tr>\n",
       "      <th>98.5%</th>\n",
       "      <td>1110.850000</td>\n",
       "    </tr>\n",
       "    <tr>\n",
       "      <th>99%</th>\n",
       "      <td>1728.000000</td>\n",
       "    </tr>\n",
       "    <tr>\n",
       "      <th>max</th>\n",
       "      <td>182112.000000</td>\n",
       "    </tr>\n",
       "  </tbody>\n",
       "</table>\n",
       "</div>"
      ],
      "text/plain": [
       "                   0\n",
       "count  316411.000000\n",
       "mean       99.090819\n",
       "std      1040.031029\n",
       "min         1.000000\n",
       "25%         1.000000\n",
       "50%         3.000000\n",
       "75%        13.000000\n",
       "80%        22.000000\n",
       "90%        81.000000\n",
       "92%       117.000000\n",
       "95%       243.000000\n",
       "97%       482.000000\n",
       "98%       798.000000\n",
       "98.5%    1110.850000\n",
       "99%      1728.000000\n",
       "max    182112.000000"
      ]
     },
     "execution_count": 50,
     "metadata": {
      "tags": []
     },
     "output_type": "execute_result"
    }
   ],
   "source": [
    "pd.DataFrame.from_dict(dict(counter1), orient='index').describe(percentiles=[0.25,0.5,0.75,0.8, 0.9,  0.92, .95,  0.97 ,.98,.985, .99])"
   ]
  },
  {
   "cell_type": "markdown",
   "metadata": {
    "id": "W8MbJ_yidGVE"
   },
   "source": [
    "80% of the words appear in up to 22 documents.\n",
    "<br>Based on the above results, we'll use as a starting point, a vocab based on 3-5% of our total terms when training our NN models (so well try to start with a 20k vocabulary)\n",
    "<br> The last table also suggests that our initial attempts to traditional ML models, with min_df hyperparameter set to a percentage of the total documents (.1, .05), was way too strict and limited down on way too few words.\n",
    "<br> (NOTE: the initial attempts were set before the word-level pre-processing, making it even more strict)"
   ]
  },
  {
   "cell_type": "markdown",
   "metadata": {
    "id": "2khH4eIP4nD9"
   },
   "source": [
    "## Classification without Neural Networks\n",
    "\n",
    "* Train at least two non-neural network algorithms to learn to classify a speech. The target variable should be the political party of the speaker.\n",
    "\n",
    "* If a party does not have enough support (in the Machine Learning sense, i.e., too few speeches), you may excise it from the dataset if you detect that you cannot get results for it.\n",
    "\n",
    "* You should split your data to training and testing datasets, try the different algorithms with cross validation on the training dataset, and find the best hyperparameters for the best algorithm. Note that parameters for bag of words and tf-idf construction can be very important.\n",
    "\n",
    "* Report your scores; once you find the best algorithm and the best hyperparameters, report the score on the test data.\n",
    "\n",
    "* To gauge the efficacy of the algorithm, report also the results of a baseline classifier, using, for instance, scikit-learn's [`DummyClassifier`](https://scikit-learn.org/stable/modules/generated/sklearn.dummy.DummyClassifier.html)."
   ]
  },
  {
   "cell_type": "markdown",
   "metadata": {
    "id": "ohzdKBL2iVXq"
   },
   "source": [
    "Let's now remove the rows without a political_party, since we can't either train or test our algorithms with these rows. We'll do the same with the empty speeches"
   ]
  },
  {
   "cell_type": "code",
   "execution_count": 51,
   "metadata": {
    "colab": {
     "base_uri": "https://localhost:8080/"
    },
    "id": "tkwzb6H7iVXq",
    "outputId": "8b14e873-4b76-4197-98df-cfbf72f7a386"
   },
   "outputs": [
    {
     "data": {
      "text/plain": [
       "372707"
      ]
     },
     "execution_count": 51,
     "metadata": {
      "tags": []
     },
     "output_type": "execute_result"
    }
   ],
   "source": [
    "df = df[~df['political_party'].isnull()]\n",
    "df = df[~df['speech'].isnull()].reset_index()\n",
    "df.shape[0]"
   ]
  },
  {
   "cell_type": "markdown",
   "metadata": {
    "id": "Wee7ZUH84nD-"
   },
   "source": [
    "First, we will pre-process our data a bit more, paying attention to the speeches\n",
    "<br> <br>\n",
    "(NOTE: This is an earlier version of pre-processing, attempting to stem/lemmatize. After these attempts failed, we went on to use the embeded pre-processing capabilities of the vectorizer, got some results, and ended up pre-processing the data on a word-level with the methods already ran above. As such, the following pieces of code will not be actively used, but are left here, to show the thought process)"
   ]
  },
  {
   "cell_type": "markdown",
   "metadata": {
    "id": "GkfOuCJgiVXr"
   },
   "source": [
    "Let's see if the accent stripper of the vectorizer actually removes the accents from greek characters"
   ]
  },
  {
   "cell_type": "code",
   "execution_count": 52,
   "metadata": {
    "colab": {
     "base_uri": "https://localhost:8080/",
     "height": 35
    },
    "id": "XLF9W7TT4nD_",
    "outputId": "9d757c5c-f2f8-4fda-b19a-d99e4de8ab62"
   },
   "outputs": [
    {
     "data": {
      "application/vnd.google.colaboratory.intrinsic+json": {
       "type": "string"
      },
      "text/plain": [
       "' Σε δύο ενότητες πότε, κύριε Υπουργέ; Σήμερα;'"
      ]
     },
     "execution_count": 52,
     "metadata": {
      "tags": []
     },
     "output_type": "execute_result"
    }
   ],
   "source": [
    "import unicodedata\n",
    "unicodedata.normalize('NFKD', df['speech'][0])"
   ]
  },
  {
   "cell_type": "markdown",
   "metadata": {
    "id": "q9dq95uniVXr"
   },
   "source": [
    "Apparently it doesn't. We need to find another way to do so"
   ]
  },
  {
   "cell_type": "markdown",
   "metadata": {
    "id": "2abjnHet4nEA"
   },
   "source": [
    "We will define a funtion, called myprocess_lemma, which will apply several processing layers to the speeches.\n",
    "\n",
    "In order to do that, we need to install cltk and greek accentuation libraries, import some modules and download the lemmatization corpus"
   ]
  },
  {
   "cell_type": "code",
   "execution_count": 53,
   "metadata": {
    "colab": {
     "base_uri": "https://localhost:8080/"
    },
    "id": "HrYJA6tF4nEA",
    "outputId": "e4c63cf6-716e-43e2-9f4d-30dc42b00ac3",
    "scrolled": false
   },
   "outputs": [
    {
     "name": "stdout",
     "output_type": "stream",
     "text": [
      "Requirement already satisfied: cltk in /usr/local/lib/python3.6/dist-packages (0.1.121)\n",
      "Requirement already satisfied: pyyaml in /usr/local/lib/python3.6/dist-packages (from cltk) (3.13)\n",
      "Requirement already satisfied: pyuca in /usr/local/lib/python3.6/dist-packages (from cltk) (1.2)\n",
      "Requirement already satisfied: nltk in /usr/local/lib/python3.6/dist-packages (from cltk) (3.2.5)\n",
      "Requirement already satisfied: gitpython in /usr/local/lib/python3.6/dist-packages (from cltk) (3.1.13)\n",
      "Requirement already satisfied: whoosh in /usr/local/lib/python3.6/dist-packages (from cltk) (2.7.4)\n",
      "Requirement already satisfied: regex in /usr/local/lib/python3.6/dist-packages (from cltk) (2019.12.20)\n",
      "Requirement already satisfied: python-crfsuite in /usr/local/lib/python3.6/dist-packages (from cltk) (0.9.7)\n",
      "Requirement already satisfied: six in /usr/local/lib/python3.6/dist-packages (from nltk->cltk) (1.15.0)\n",
      "Requirement already satisfied: gitdb<5,>=4.0.1 in /usr/local/lib/python3.6/dist-packages (from gitpython->cltk) (4.0.5)\n",
      "Requirement already satisfied: smmap<4,>=3.0.1 in /usr/local/lib/python3.6/dist-packages (from gitdb<5,>=4.0.1->gitpython->cltk) (3.0.5)\n",
      "Requirement already satisfied: greek-accentuation in /usr/local/lib/python3.6/dist-packages (1.2.0)\n",
      "Requirement already satisfied: progress in /usr/local/lib/python3.6/dist-packages (1.5)\n",
      "Requirement already satisfied: progressbar2 in /usr/local/lib/python3.6/dist-packages (3.38.0)\n",
      "Requirement already satisfied: alive-progress in /usr/local/lib/python3.6/dist-packages (1.6.2)\n",
      "Requirement already satisfied: tqdm in /usr/local/lib/python3.6/dist-packages (4.41.1)\n",
      "Requirement already satisfied: python-utils>=2.3.0 in /usr/local/lib/python3.6/dist-packages (from progressbar2) (2.5.6)\n",
      "Requirement already satisfied: six in /usr/local/lib/python3.6/dist-packages (from progressbar2) (1.15.0)\n"
     ]
    }
   ],
   "source": [
    "import sys\n",
    "!{sys.executable} -m pip install cltk\n",
    "!{sys.executable} -m pip install greek-accentuation\n",
    "!{sys.executable} -m pip install progress progressbar2 alive-progress tqdm"
   ]
  },
  {
   "cell_type": "code",
   "execution_count": 54,
   "metadata": {
    "id": "MsCnDZCpDGQ3"
   },
   "outputs": [],
   "source": [
    "from cltk.tokenize.word import WordTokenizer\n",
    "from greek_accentuation.characters import base\n",
    "from cltk.stem.lemma import LemmaReplacer\n",
    "from cltk.corpus.utils.importer import CorpusImporter\n",
    "corpus_importer = CorpusImporter('greek')\n",
    "corpus_importer.import_corpus('greek_models_cltk')\n",
    "import string\n",
    "from tqdm.auto import tqdm"
   ]
  },
  {
   "cell_type": "markdown",
   "metadata": {
    "id": "RQEVc4X_4nEB"
   },
   "source": [
    "Within these libraries, we find quite a few capabilities. One of these is lematization. It is not the best possible utility, since it's based on ancient and archaising forms, but it's something. Let's see how well this works"
   ]
  },
  {
   "cell_type": "code",
   "execution_count": 55,
   "metadata": {
    "colab": {
     "base_uri": "https://localhost:8080/"
    },
    "id": "0W5ubaTa4nEB",
    "outputId": "5fe9ed19-320e-442d-94c1-e4428ac5490e",
    "scrolled": true
   },
   "outputs": [
    {
     "name": "stdout",
     "output_type": "stream",
     "text": [
      " Σε δύο ενότητες πότε, κύριε Υπουργέ; Σήμερα;\n",
      "['σύ', 'δύο', 'ενότητες', 'ποτέ', ',', 'κύριος', 'Υπουργέ', ';', 'Σήμερα', ';']\n",
      " Τη μια ενότητα σήμερα και τη δεύτερη αύριο μαζί με τις τροπολογίες, αν υπάρχουν.\n",
      "['Τη', 'μια', 'ενότητα', 'σήμερα', 'και', 'τη', 'δεύτερη', 'αύριο', 'μαζί', 'ἐγώ', 'τις', 'τροπολογίες', ',', 'αν', 'υπάρχουν.']\n"
     ]
    }
   ],
   "source": [
    "lemmatizer = LemmaReplacer('greek')\n",
    "testdf = df['speech'][0:2]\n",
    "for i in testdf:\n",
    "    print(i)\n",
    "    print(lemmatizer.lemmatize(i))"
   ]
  },
  {
   "cell_type": "markdown",
   "metadata": {
    "id": "SO5uP6vg4nEB"
   },
   "source": [
    "In the following function we tokenaize (included in the lemmatization function), lemmatize the tokens, turn them to lower and remove accents\n",
    "<br>\n",
    "Let's try it with a random speech."
   ]
  },
  {
   "cell_type": "code",
   "execution_count": 56,
   "metadata": {
    "id": "1aE8p-5RO0S0"
   },
   "outputs": [],
   "source": [
    "df=df.reset_index()"
   ]
  },
  {
   "cell_type": "code",
   "execution_count": 57,
   "metadata": {
    "colab": {
     "base_uri": "https://localhost:8080/"
    },
    "id": "P-p6PSYgiVXs",
    "outputId": "b46923a2-b391-4b5e-cddb-a9ad5323e845"
   },
   "outputs": [
    {
     "name": "stdout",
     "output_type": "stream",
     "text": [
      " Σε δύο ενότητες πότε, κύριε Υπουργέ; Σήμερα;\n",
      " συ δυο ενοτητες ποτε , κυριος υπουργε ; σημερα ;\n"
     ]
    }
   ],
   "source": [
    "def myprocess_lemma(text):\n",
    "    lemmatizer = LemmaReplacer('greek')\n",
    "    text = text.lower()\n",
    "    tokens = lemmatizer.lemmatize(text)\n",
    "    rettext = \"\"\n",
    "    for i in tokens:\n",
    "        word = \"\"\n",
    "        for j in i:\n",
    "            j = base(j)\n",
    "            word = word+j\n",
    "        rettext=rettext + \" \" + word \n",
    "    return(rettext)\n",
    "\n",
    "teststr = df['speech'][0]\n",
    "testres = myprocess_lemma(teststr)\n",
    "print(teststr)\n",
    "print(testres)"
   ]
  },
  {
   "cell_type": "markdown",
   "metadata": {
    "id": "MmzzpoQ44nEC"
   },
   "source": [
    "Doesn't work great, but gets some job done. Let's see how much time this function would need for the total of our data to be processed"
   ]
  },
  {
   "cell_type": "code",
   "execution_count": 58,
   "metadata": {
    "colab": {
     "base_uri": "https://localhost:8080/"
    },
    "id": "paUX4Xtc4nEC",
    "outputId": "ef05ece0-058e-4a39-9274-213d5798cf6c"
   },
   "outputs": [
    {
     "name": "stdout",
     "output_type": "stream",
     "text": [
      "The process would last 139.38083178169666 hours\n"
     ]
    }
   ],
   "source": [
    "import timeit\n",
    "starttime = timeit.default_timer()\n",
    "myprocess_lemma(df['speech'][8])\n",
    "print(\"The process would last \"+str((timeit.default_timer() - starttime)*df.shape[0]/3600)+\" hours\")"
   ]
  },
  {
   "cell_type": "markdown",
   "metadata": {
    "id": "8ZjRXQlE4nEC"
   },
   "source": [
    "Obviously, this is not a viable option. So we'll have to change our plans. Let's try spacy"
   ]
  },
  {
   "cell_type": "code",
   "execution_count": 59,
   "metadata": {
    "id": "rFMssmz14nEC"
   },
   "outputs": [],
   "source": [
    "from sklearn.feature_extraction.text import TfidfVectorizer\n",
    "from sklearn.model_selection import GridSearchCV\n",
    "from spacy.lang.el import Greek\n",
    "from spacy.lang.el.stop_words import STOP_WORDS\n",
    "from cltk.stop.greek.stops import STOPS_LIST\n",
    "import cltk\n",
    "from tqdm.auto import tqdm"
   ]
  },
  {
   "cell_type": "code",
   "execution_count": 63,
   "metadata": {
    "colab": {
     "base_uri": "https://localhost:8080/",
     "height": 231
    },
    "id": "xbc9Y8NL4nED",
    "outputId": "2545c7a0-886c-47f8-f37a-b8213e4f4059"
   },
   "outputs": [
    {
     "ename": "AttributeError",
     "evalue": "ignored",
     "output_type": "error",
     "traceback": [
      "\u001b[0;31m---------------------------------------------------------------------------\u001b[0m",
      "\u001b[0;31mAttributeError\u001b[0m                            Traceback (most recent call last)",
      "\u001b[0;32m<ipython-input-63-35152ab561c3>\u001b[0m in \u001b[0;36m<module>\u001b[0;34m()\u001b[0m\n\u001b[1;32m      1\u001b[0m \u001b[0mnlp\u001b[0m \u001b[0;34m=\u001b[0m \u001b[0mGreek\u001b[0m\u001b[0;34m(\u001b[0m\u001b[0;34m)\u001b[0m\u001b[0;34m\u001b[0m\u001b[0;34m\u001b[0m\u001b[0m\n\u001b[0;32m----> 2\u001b[0;31m \u001b[0mtokenizer\u001b[0m \u001b[0;34m=\u001b[0m \u001b[0mnlp\u001b[0m\u001b[0;34m.\u001b[0m\u001b[0mDefaults\u001b[0m\u001b[0;34m.\u001b[0m\u001b[0mcreate_tokenizer\u001b[0m\u001b[0;34m(\u001b[0m\u001b[0mnlp\u001b[0m\u001b[0;34m)\u001b[0m\u001b[0;34m\u001b[0m\u001b[0;34m\u001b[0m\u001b[0m\n\u001b[0m\u001b[1;32m      3\u001b[0m \u001b[0mstarttime\u001b[0m \u001b[0;34m=\u001b[0m \u001b[0mtimeit\u001b[0m\u001b[0;34m.\u001b[0m\u001b[0mdefault_timer\u001b[0m\u001b[0;34m(\u001b[0m\u001b[0;34m)\u001b[0m\u001b[0;34m\u001b[0m\u001b[0;34m\u001b[0m\u001b[0m\n\u001b[1;32m      4\u001b[0m \u001b[0mlemma_list\u001b[0m \u001b[0;34m=\u001b[0m \u001b[0;34m[\u001b[0m\u001b[0;34m]\u001b[0m\u001b[0;34m\u001b[0m\u001b[0;34m\u001b[0m\u001b[0m\n\u001b[1;32m      5\u001b[0m \u001b[0mtokens2\u001b[0m \u001b[0;34m=\u001b[0m \u001b[0mtokenizer\u001b[0m\u001b[0;34m(\u001b[0m\u001b[0mdf\u001b[0m\u001b[0;34m[\u001b[0m\u001b[0;34m'speech'\u001b[0m\u001b[0;34m]\u001b[0m\u001b[0;34m[\u001b[0m\u001b[0;36m456\u001b[0m\u001b[0;34m]\u001b[0m\u001b[0;34m)\u001b[0m\u001b[0;34m\u001b[0m\u001b[0;34m\u001b[0m\u001b[0m\n",
      "\u001b[0;31mAttributeError\u001b[0m: type object 'GreekDefaults' has no attribute 'create_tokenizer'"
     ]
    }
   ],
   "source": [
    "nlp = Greek()\n",
    "tokenizer = nlp.Defaults.create_tokenizer(nlp)\n",
    "starttime = timeit.default_timer()\n",
    "lemma_list = []\n",
    "tokens2 = tokenizer(df['speech'][456])\n",
    "for token in tokens2:\n",
    "  lemma_list.append(token.lemma_)\n",
    "print(df['speech'][456])\n",
    "print(lemma_list)\n",
    "print(\"The process would last \"+str((timeit.default_timer() - starttime)*df.shape[0]/3600)+\" hours\")"
   ]
  },
  {
   "cell_type": "markdown",
   "metadata": {
    "id": "0e_T2dPUG7N2"
   },
   "source": [
    "Well, apparently the default language support doesn't actually provide lematization. We get as lemma results the actual words. Let's try to load an existing pipeline, a ready model (We will keep it as a comment, so as not to crash while running all code snippets. This happens, cause our local IPython kernel does not recognize the create_tokenizer method as part of the el module. It works just fine with google colab, but returns as result the exact same sentence it receives)"
   ]
  },
  {
   "cell_type": "code",
   "execution_count": 61,
   "metadata": {
    "colab": {
     "base_uri": "https://localhost:8080/",
     "height": 231
    },
    "id": "qrNug6R1G6Ag",
    "outputId": "ab88fb1f-261e-4e55-dbb5-9dd191230dc5"
   },
   "outputs": [
    {
     "ename": "AttributeError",
     "evalue": "ignored",
     "output_type": "error",
     "traceback": [
      "\u001b[0;31m---------------------------------------------------------------------------\u001b[0m",
      "\u001b[0;31mAttributeError\u001b[0m                            Traceback (most recent call last)",
      "\u001b[0;32m<ipython-input-61-db6140d5164d>\u001b[0m in \u001b[0;36m<module>\u001b[0;34m()\u001b[0m\n\u001b[0;32m----> 1\u001b[0;31m \u001b[0mtokenizer\u001b[0m \u001b[0;34m=\u001b[0m \u001b[0msp\u001b[0m\u001b[0;34m.\u001b[0m\u001b[0mDefaults\u001b[0m\u001b[0;34m.\u001b[0m\u001b[0mcreate_tokenizer\u001b[0m\u001b[0;34m(\u001b[0m\u001b[0mnlp\u001b[0m\u001b[0;34m)\u001b[0m\u001b[0;34m\u001b[0m\u001b[0;34m\u001b[0m\u001b[0m\n\u001b[0m\u001b[1;32m      2\u001b[0m \u001b[0mstarttime\u001b[0m \u001b[0;34m=\u001b[0m \u001b[0mtimeit\u001b[0m\u001b[0;34m.\u001b[0m\u001b[0mdefault_timer\u001b[0m\u001b[0;34m(\u001b[0m\u001b[0;34m)\u001b[0m\u001b[0;34m\u001b[0m\u001b[0;34m\u001b[0m\u001b[0m\n\u001b[1;32m      3\u001b[0m \u001b[0mlemma_list\u001b[0m \u001b[0;34m=\u001b[0m \u001b[0;34m[\u001b[0m\u001b[0;34m]\u001b[0m\u001b[0;34m\u001b[0m\u001b[0;34m\u001b[0m\u001b[0m\n\u001b[1;32m      4\u001b[0m \u001b[0mtokens2\u001b[0m \u001b[0;34m=\u001b[0m \u001b[0mtokenizer\u001b[0m\u001b[0;34m(\u001b[0m\u001b[0mdf\u001b[0m\u001b[0;34m[\u001b[0m\u001b[0;34m'speech'\u001b[0m\u001b[0;34m]\u001b[0m\u001b[0;34m[\u001b[0m\u001b[0;36m456\u001b[0m\u001b[0;34m]\u001b[0m\u001b[0;34m)\u001b[0m\u001b[0;34m\u001b[0m\u001b[0;34m\u001b[0m\u001b[0m\n\u001b[1;32m      5\u001b[0m \u001b[0;32mfor\u001b[0m \u001b[0mtoken\u001b[0m \u001b[0;32min\u001b[0m \u001b[0mtokens2\u001b[0m\u001b[0;34m:\u001b[0m\u001b[0;34m\u001b[0m\u001b[0;34m\u001b[0m\u001b[0m\n",
      "\u001b[0;31mAttributeError\u001b[0m: type object 'GreekDefaults' has no attribute 'create_tokenizer'"
     ]
    }
   ],
   "source": [
    "tokenizer = sp.Defaults.create_tokenizer(nlp)\n",
    "starttime = timeit.default_timer()\n",
    "lemma_list = []\n",
    "tokens2 = tokenizer(df['speech'][456])\n",
    "for token in tokens2:\n",
    "  lemma_list.append(token.lemma_)\n",
    "#lemma_list = sp(df['speech'][456])\n",
    "print(df['speech'][456])\n",
    "print(lemma_list)\n",
    "print(\"The process would last \"+str((timeit.default_timer() - starttime)*df.shape[0]/3600)+\" hours\")"
   ]
  },
  {
   "cell_type": "markdown",
   "metadata": {
    "id": "XTlxm6z8Jx1T"
   },
   "source": [
    "The pretrained model will not cooperate well with google colab. Unfortunately, when ran locally, it is also ineffective (will return the same sentence it got) and takes way too much time. So, we will altogether drop our lema/stem plans, and limit ourelves to the rest of available preprocessing. All the things we can do with nltk for greek language, we can internally do while vectorizing. So we will not proceed to any prior data manipulation"
   ]
  },
  {
   "cell_type": "markdown",
   "metadata": {
    "id": "EbVizXdfiVXt"
   },
   "source": [
    "Since we cannot lemmatize and remove accents, we will limit ourselves to lowering the text, removing stopwords and punctuation.\n",
    "<br>This can all happen within the vectorizer, so no need to do this priliminarily."
   ]
  },
  {
   "cell_type": "markdown",
   "metadata": {
    "id": "jEt6GlO8Sm9W"
   },
   "source": [
    "However, we will use the stopwords from the spacy model. It is quite a complete set of words"
   ]
  },
  {
   "cell_type": "code",
   "execution_count": null,
   "metadata": {
    "id": "6t-8Q5HpiVXu"
   },
   "outputs": [],
   "source": [
    "spacystop = spacy.lang.el.stop_words.STOP_WORDS"
   ]
  },
  {
   "cell_type": "markdown",
   "metadata": {
    "id": "2sWYcwDJS4By"
   },
   "source": [
    "In terms of preprocessing: We will use lowercasing <br>we will leave the default token identification (after taking a look at random speeches, we only found \"κ.\" as single character word -not counting punctuation as character-, which is not quite important, and no abbrevations were identified, or are considered to exist). <br> As tested beforehand, accent removers included in tfidf do not work with do not work for greek characters. However, the stopwords from spacy also include accents, and the speeches also include accents, so it shouldn't cause any issues with this specific dataset. "
   ]
  },
  {
   "cell_type": "code",
   "execution_count": null,
   "metadata": {
    "id": "Bmb1i4G6dGVQ"
   },
   "outputs": [],
   "source": [
    "from sklearn.dummy import DummyClassifier\n",
    "from sklearn.pipeline import Pipeline\n",
    "from sklearn.model_selection import cross_val_predict, cross_val_score\n",
    "from sklearn.metrics import classification_report, f1_score, confusion_matrix, accuracy_score\n",
    "from sklearn.model_selection import train_test_split\n",
    "from sklearn import metrics\n",
    "from sklearn.naive_bayes import MultinomialNB"
   ]
  },
  {
   "cell_type": "code",
   "execution_count": null,
   "metadata": {
    "id": "J2nFW1SKdGVQ"
   },
   "outputs": [],
   "source": [
    "train_set, test_set = train_test_split(df, test_size = 0.18, random_state = 42)\n",
    "\n",
    "X_train = train_set['speech_tokened']\n",
    "X_test = test_set['speech_tokened']\n",
    "y_train = train_set['political_id']\n",
    "y_test = test_set['political_id']"
   ]
  },
  {
   "cell_type": "markdown",
   "metadata": {
    "id": "uGDw9meRLOAw"
   },
   "source": [
    "Since we'll be feeding lists to our pipeline, we need the tokenizer not to fail (expecting string). We will override it, creating our own tokenizer, which is nothing more than a dummy, returning exactly the tokens it was fed (We could define the whole pre-processing in a function, but we rather show the steps we took to finalize it."
   ]
  },
  {
   "cell_type": "code",
   "execution_count": null,
   "metadata": {
    "id": "ZZh2E_Qu4Fti"
   },
   "outputs": [],
   "source": [
    "def own_token(text):\n",
    "  return text"
   ]
  },
  {
   "cell_type": "markdown",
   "metadata": {
    "id": "6IcY733eM0jV"
   },
   "source": [
    "Also, all this processing and variables declaation has effectively used up most of our ram (colab ram, upt o 13gb). It is more than expected that our models will not run, so we will proceed to delete any unnecessary information."
   ]
  },
  {
   "cell_type": "code",
   "execution_count": null,
   "metadata": {
    "id": "I_-fEl0V4ecR"
   },
   "outputs": [],
   "source": [
    "df.columns"
   ]
  },
  {
   "cell_type": "code",
   "execution_count": null,
   "metadata": {
    "id": "hrzZjnYnNNmW"
   },
   "outputs": [],
   "source": [
    "df['index'][0]"
   ]
  },
  {
   "cell_type": "markdown",
   "metadata": {
    "id": "9DH8asZ9ldYn"
   },
   "source": [
    "Before entering to our classification processes, let's clear as much ram as possible (multiple ram issues have occured locally, and in colab env.)<br>\n",
    "NOTE: Apparently, deleting variables to allocate ram space does not work in colab environment. Local HW was not powerful enough to run the models, so this is the main reason that our project is split in three ipynb files"
   ]
  },
  {
   "cell_type": "code",
   "execution_count": null,
   "metadata": {
    "id": "g3eL9Rr1lcsc"
   },
   "outputs": [],
   "source": [
    "lst= [dfprt, dfprtgr, dfv, dfan, spp, sppi1, dfts, dfts2, dfts3, ppy, partygroup]\n",
    "del df['level_0']\n",
    "del df['index']\n",
    "del df['member_name']\n",
    "del df['sitting_date']\n",
    "del df['parliamentary_period']\n",
    "del df['parliamentary_session']\n",
    "del df['parliamentary_sitting']\n",
    "del df['speaker_info']\n",
    "del df['speech']\n",
    "del df['speech_set']\n",
    "del dfprt\n",
    "del dfprtgr\n",
    "del dfv\n",
    "del dfan\n",
    "del spp\n",
    "del sppi1\n",
    "del dfts\n",
    "del dfts2\n",
    "del dfts3\n",
    "del ppy\n",
    "del partygroup\n",
    "del counter\n",
    "del counter1\n",
    "del spacystop\n",
    "del tokenizer\n",
    "del starttime\n",
    "del lemma_list\n",
    "del lemmatizer\n",
    "del lst"
   ]
  },
  {
   "cell_type": "markdown",
   "metadata": {
    "id": "YZvoezU1fxa1"
   },
   "source": [
    "#### Dummy Classifier"
   ]
  },
  {
   "cell_type": "code",
   "execution_count": null,
   "metadata": {
    "id": "Jo_1Bq7MiVXv"
   },
   "outputs": [],
   "source": [
    "dum_pip = Pipeline([ ('tfidf', TfidfVectorizer(tokenizer=own_token,lowercase=False)),\n",
    "                    ('clf', DummyClassifier(strategy='most_frequent')),\n",
    "                    ])\n",
    "dum_clf = dum_pip.fit(X_train, y_train)\n",
    "predicted = dum_clf.predict(X_test)"
   ]
  },
  {
   "cell_type": "code",
   "execution_count": null,
   "metadata": {
    "id": "-j8__USudGVQ"
   },
   "outputs": [],
   "source": [
    "dum_pip[0].get_feature_names()[0:1000]"
   ]
  },
  {
   "cell_type": "code",
   "execution_count": null,
   "metadata": {
    "id": "18RSTA1aiVXv"
   },
   "outputs": [],
   "source": [
    "print(metrics.classification_report(y_test, predicted, target_names=partylist))"
   ]
  },
  {
   "cell_type": "code",
   "execution_count": null,
   "metadata": {
    "id": "bkRoqJhZiVXv",
    "scrolled": false
   },
   "outputs": [],
   "source": [
    "cmdf = metrics.confusion_matrix(y_test, predicted)"
   ]
  },
  {
   "cell_type": "code",
   "execution_count": null,
   "metadata": {
    "id": "hvbs8BngdGVR"
   },
   "outputs": [],
   "source": [
    "def conmat(matrix):\n",
    "  fig, ax = plt.subplots()\n",
    "  cm = matrix\n",
    "  #tp = cm[1,1]\n",
    "  #tn = cm[0,0]\n",
    "  #fp = cm[0,1]\n",
    "  #fn = cm[1,0]\n",
    "  sns.heatmap(cm, annot=True, fmt='d', linewidths=.5, ax = ax, xticklabels = partylist, yticklabels = partylist)\n",
    "  ax.set_title('Confusion Matrix')\n",
    "  ax.set_xlabel('Predicted party')\n",
    "  ax.set_ylabel('Actual party')\n",
    "  plt.show()"
   ]
  },
  {
   "cell_type": "code",
   "execution_count": null,
   "metadata": {
    "id": "TVmrepTjdGVS"
   },
   "outputs": [],
   "source": [
    "conmat(cmdf)"
   ]
  },
  {
   "cell_type": "markdown",
   "metadata": {
    "id": "IMAmhB9YgRyZ"
   },
   "source": [
    "### Multinomial Naive Bayes Classifier"
   ]
  },
  {
   "cell_type": "markdown",
   "metadata": {
    "id": "qygBJgX1Rc6B"
   },
   "source": [
    "NOTE: setting n_jobs to -1 returns \"The exit codes of the workers are {SIGKILL(-9)}\" error. (when ran on google colab).<br>As such, we set it to -2, which works, and only leaves one core/thread out of usage (not that easy to find the actual number of thread on the machine we're runing on) from google colab"
   ]
  },
  {
   "cell_type": "code",
   "execution_count": null,
   "metadata": {
    "id": "Hk06qhVGSOf2",
    "scrolled": false
   },
   "outputs": [],
   "source": [
    "parameters = {'tfidf__ngram_range': [(1, 1), (1, 2)],\n",
    "              'tfidf__use_idf': (True, False),\n",
    "              'tfidf__max_df': (0.6, 0.7),\n",
    "              'tfidf__min_df': (0.01, 0.05),\n",
    "              'clf__alpha': (1e-2, 1e-3),\n",
    "             }\n",
    "mnb_pipe = Pipeline([ ('tfidf', TfidfVectorizer(tokenizer=own_token,lowercase=False)),\n",
    "                     ('clf', MultinomialNB()),\n",
    "                    ])\n",
    "mnb_clf = mnb_pipe.fit(X_train, y_train)\n",
    "gs_clf_mnb = GridSearchCV(mnb_clf, parameters, n_jobs=-2, cv=5)\n",
    "gs_clf_mnb = gs_clf_mnb.fit(X_train, y_train)\n",
    "predicted_mnb2 = gs_clf_mnb.predict(X_test)\n",
    "gs_clf_mnb.best_params_"
   ]
  },
  {
   "cell_type": "code",
   "execution_count": null,
   "metadata": {
    "id": "BeEHmAK-gwgx"
   },
   "outputs": [],
   "source": [
    "print(metrics.classification_report(y_test, predicted_mnb, target_names=partylist))"
   ]
  },
  {
   "cell_type": "code",
   "execution_count": null,
   "metadata": {
    "id": "vVkSGE5Pgwgz",
    "scrolled": false
   },
   "outputs": [],
   "source": [
    "cmnb = metrics.confusion_matrix(y_test, predicted_mnb)"
   ]
  },
  {
   "cell_type": "code",
   "execution_count": null,
   "metadata": {
    "id": "Z5Pi_-9BdGVU"
   },
   "outputs": [],
   "source": [
    "conmat(cmnb)"
   ]
  },
  {
   "cell_type": "markdown",
   "metadata": {
    "id": "JVhUI1udVlJK"
   },
   "source": [
    "Some of our best parameters will remain definite (use_idf = True, ngram_range = (1,2)). We have a specific direction from the choice of the rest hyperparameters. Let's see if changing the alternatives towards the best direction will improve our results"
   ]
  },
  {
   "cell_type": "code",
   "execution_count": null,
   "metadata": {
    "id": "viLXxfFTVqef",
    "scrolled": true
   },
   "outputs": [],
   "source": [
    "mnb_parameters = {'tfidf__max_df': (0.6, 0.5),\n",
    "              'tfidf__min_df': (0.01, 0.005),\n",
    "              'clf__alpha': (0.01, 0.05),\n",
    "             }\n",
    "mnb_pipe = Pipeline([ ('tfidf', TfidfVectorizer(tokenizer=own_token,lowercase=False)),\n",
    "                     ('clf', MultinomialNB()),\n",
    "                    ])\n",
    "mnb_clf = mnb_pipe.fit(X_train, y_train)\n",
    "gs_clf_mnb = GridSearchCV(mnb_clf, mnb_parameters, n_jobs=-2, cv=5)\n",
    "gs_clf_mnb = gs_clf_mnb.fit(X_train, y_train)\n",
    "predicted_mnb2 = gs_clf_mnb.predict(X_test)\n",
    "gs_clf_mnb.best_params_"
   ]
  },
  {
   "cell_type": "code",
   "execution_count": null,
   "metadata": {
    "id": "AXXAMQOMfTZj"
   },
   "outputs": [],
   "source": [
    "print(metrics.classification_report(y_test, predicted_mnb2, target_names=partylist))"
   ]
  },
  {
   "cell_type": "code",
   "execution_count": null,
   "metadata": {
    "id": "hD7sdHgwfVxv"
   },
   "outputs": [],
   "source": [
    "cmnb2 = metrics.confusion_matrix(y_test, predicted_mnb2)"
   ]
  },
  {
   "cell_type": "code",
   "execution_count": null,
   "metadata": {
    "id": "pEahzaTddGVW"
   },
   "outputs": [],
   "source": [
    "conmat(cmnb3)"
   ]
  },
  {
   "cell_type": "markdown",
   "metadata": {
    "id": "wHvyNBWooCfx"
   },
   "source": [
    "We see that some of the new parameters we entered were in fact the best ones. That means our alpha should be a bit higher, and our minimum occurency frequency of a token should be 0.5% or higher (so we should get at least 3200 occurencies or so). Later down the assignment, we will implement some deeper word-level exploration. We will see that the above makes sense, due to the fact the vast majority of words ony occurs up to a few dozen times. As such, a 3200 DOCUMENT frequency is unrealistic, and hugely limits the words on which we make our classification.\n",
    "\n",
    "We get an idea of the right direction. However, our initial mnb is not all that much better in terms of f1 score compared to our dummy classifier, and the second hyperparameters implementation provides even less improvement. \n",
    "We will get one more take on the mnb classifier, changing our min_df tactic, from a percentage to an absolute occurency frequency."
   ]
  },
  {
   "cell_type": "code",
   "execution_count": null,
   "metadata": {
    "id": "mT7_KgArr9X4"
   },
   "outputs": [],
   "source": [
    "mnb_parameters = {'tfidf__min_df': (10, 20, 50, 100)\n",
    "             }\n",
    "mnb_pipe = Pipeline([ ('tfidf', TfidfVectorizer(tokenizer=own_token,lowercase=False, max_df = 0.6)),\n",
    "                     ('clf', MultinomialNB(alpha= 0.05)),\n",
    "                    ])\n",
    "mnb_clf = mnb_pipe.fit(X_train, y_train)\n",
    "gs_clf_mnb = GridSearchCV(mnb_clf, mnb_parameters, n_jobs=-2, cv=5)\n",
    "gs_clf_mnb = gs_clf_mnb.fit(X_train, y_train)\n",
    "predicted_mnb3 = gs_clf_mnb.predict(X_test)\n",
    "gs_clf_mnb.best_params_"
   ]
  },
  {
   "cell_type": "code",
   "execution_count": null,
   "metadata": {
    "id": "YPW0LevisfvL"
   },
   "outputs": [],
   "source": [
    "print(metrics.classification_report(y_test, predicted_mnb3, target_names=partylist))"
   ]
  },
  {
   "cell_type": "code",
   "execution_count": null,
   "metadata": {
    "id": "wA3akwV_sfvN"
   },
   "outputs": [],
   "source": [
    "cmnb3 = metrics.confusion_matrix(y_test, predicted_mnb3)"
   ]
  },
  {
   "cell_type": "code",
   "execution_count": null,
   "metadata": {
    "id": "pzZKCFRxdGVY"
   },
   "outputs": [],
   "source": [
    "conmat(cmnb3)"
   ]
  },
  {
   "cell_type": "markdown",
   "metadata": {
    "id": "a2FJMVEIgcxd"
   },
   "source": [
    "#### Stohastic Gradient Descent Classifier"
   ]
  },
  {
   "cell_type": "code",
   "execution_count": null,
   "metadata": {
    "id": "Vl3PwIT1aMvT"
   },
   "outputs": [],
   "source": [
    "from sklearn.linear_model import SGDClassifier\n",
    "\n",
    "sgd_parameters = {'tfidf__max_df': (0.6),\n",
    "              'tfidf__min_df': (10,5),\n",
    "              'clf__alpha': (0.0001, 0.0005),\n",
    "              'clf__learning_rate': ('optimal', 'adaptive')\n",
    "             }\n",
    "\n",
    "sgd_pipe = Pipeline([ ('tfidf', TfidfVectorizer(tokenizer=own_token,lowercase=False)),\n",
    "                     ('clf', SGDClassifier(penalty='l2', random_state=89, n_jobs = -2))\n",
    "                    ])\n",
    "sgd_clf = sgd_pipe.fit(X_train, y_train)\n",
    "gs_clf_sgd = GridSearchCV(sgd_clf, parameters, n_jobs=-2, cv=5)\n",
    "gs_clf_sgd = gs_clf_sgd.fit(X_train, y_train)\n",
    "predicted_sgd = gs_clf_sgd.predict(X_test)"
   ]
  },
  {
   "cell_type": "code",
   "execution_count": null,
   "metadata": {
    "id": "3Erel_bSgxhP"
   },
   "outputs": [],
   "source": [
    "print(metrics.classification_report(y_test, predicted_sgd, target_names=partylist))"
   ]
  },
  {
   "cell_type": "code",
   "execution_count": null,
   "metadata": {
    "id": "P_zvrigJgxhQ",
    "scrolled": false
   },
   "outputs": [],
   "source": [
    "cmsgd = metrics.confusion_matrix(y_test, predicted_sgd)"
   ]
  },
  {
   "cell_type": "code",
   "execution_count": null,
   "metadata": {
    "id": "Z3kKric5dGVZ"
   },
   "outputs": [],
   "source": [
    "conmat(cmsgd)"
   ]
  },
  {
   "cell_type": "markdown",
   "metadata": {
    "id": "em1SS-RsdGVZ"
   },
   "source": [
    "Let's get a bit deeper to our words' analytics. NOTE: This analysis is written after running some initial classification models and while approaching the neural network models implementation"
   ]
  },
  {
   "cell_type": "code",
   "execution_count": null,
   "metadata": {
    "id": "ChiJ5IjadGVZ",
    "scrolled": true
   },
   "outputs": [],
   "source": [
    "#df = pd.read_csv('Greek_Parliament_Proceedings_1989_2019.csv') \n",
    "df = df.loc[:,:]\n",
    "import nltk\n",
    "nltk.download('punkt')\n",
    "sp = spacy.load('el_core_news_sm')\n",
    "from nltk.tokenize import word_tokenize\n",
    "import string\n",
    "\n",
    "all_stopwords = sp.Defaults.stop_words"
   ]
  },
  {
   "cell_type": "code",
   "execution_count": null,
   "metadata": {
    "id": "JrEHvH8LdGVa"
   },
   "outputs": [],
   "source": [
    "def tokstoprem(text):\n",
    "    text_tokens = word_tokenize(text)\n",
    "    tokens_without_sw= [word.lower() for word in text_tokens if ((not word.lower() in all_stopwords) & (not word.lower() in string.punctuation) & (not word.isnumeric()))]\n",
    "    return tokens_without_sw\n",
    "tester0 = tokstoprem(df['speech'][0])\n",
    "tester0"
   ]
  },
  {
   "cell_type": "code",
   "execution_count": null,
   "metadata": {
    "id": "9rsKndigdGVa"
   },
   "outputs": [],
   "source": [
    "df['speech_tokened'] = df['speech'].apply(lambda x: tokstoprem(x))"
   ]
  },
  {
   "cell_type": "markdown",
   "metadata": {
    "id": "wdYONrc4dGVa"
   },
   "source": [
    "Now let's go a bit further, and see the length of each sentence. This will help us decide the max length of each sentence before we encode them to numerical and import our padding, when we classify with neural networks (and using Keras preprocessor)"
   ]
  },
  {
   "cell_type": "code",
   "execution_count": null,
   "metadata": {
    "id": "7EY0mIbadGVa",
    "scrolled": true
   },
   "outputs": [],
   "source": [
    "df['speech_tokened'].apply(lambda x: len(x)).describe(percentiles=[0.2, 0.25,0.5,0.75,0.9, .95])"
   ]
  },
  {
   "cell_type": "markdown",
   "metadata": {
    "id": "1CFYrietdGVa"
   },
   "source": [
    "<br>An important result we get from this statistical analysis, is the fact that at least 20% of our speeches are up to 2 words long.\n",
    "<br> It is thought that no much meaning can be received from such speeches. Let's print some"
   ]
  },
  {
   "cell_type": "code",
   "execution_count": null,
   "metadata": {
    "id": "jEIq29k9dGVb"
   },
   "outputs": [],
   "source": [
    "df['speech_tokened'][df['speech_tokened'].apply(lambda x: len(x)) <= 2].head(60)"
   ]
  },
  {
   "cell_type": "markdown",
   "metadata": {
    "id": "b0zkf0D5dGVb"
   },
   "source": [
    "Indeed, most of these entries are common words, or maybe even speech seperation mistakes. Let's see what we can get on the 3 word speeches"
   ]
  },
  {
   "cell_type": "markdown",
   "metadata": {
    "id": "n8qgbjJNdGVb"
   },
   "source": [
    "Let's see which are the most common words for some of the speeches that are larger than 90% of the sample (meaning, longer than 227 words)"
   ]
  },
  {
   "cell_type": "code",
   "execution_count": null,
   "metadata": {
    "id": "4s0j8DskdGVb"
   },
   "outputs": [],
   "source": [
    "df[['member_name','political_party','speech_tokened','speaker_info']][df['speech_tokened'].apply(lambda x: len(x)).isin([3,4])].head(60)"
   ]
  },
  {
   "cell_type": "markdown",
   "metadata": {
    "id": "BOThArN0dGVb"
   },
   "source": [
    "These are all typicalities, of giving and receiving the floor. Also, since the one communicator is always the president of the parliament, it gives a huge load of speeches to ND and PASOK (and in some extent SYRIZA).\n",
    "What we will do is remove these, see the size of the speeches and the individual words (to get the samples - features aspect) and decide whether it is satisfactory.\n",
    "<br> In a different case, we will proceed to re-include older speeches, which are also long enough to provide some meaning"
   ]
  },
  {
   "cell_type": "code",
   "execution_count": null,
   "metadata": {
    "id": "rMrzBAxgdGVc",
    "scrolled": false
   },
   "outputs": [],
   "source": [
    "df[['member_name','political_party','speech_tokened','speaker_info']][df['speech_tokened'].apply(lambda x: len(x)) == 5].head(60)"
   ]
  },
  {
   "cell_type": "code",
   "execution_count": null,
   "metadata": {
    "id": "3Xseb_OfdGVc"
   },
   "outputs": [],
   "source": [
    "df_large = df['speech_tokened'][df['speech_tokened'].apply(lambda x: len(x)) > 227]\n",
    "df_large=df_large.reset_index()['speech_tokened']\n",
    "\n",
    "for i in df_large[0:10]:\n",
    "    data_analysis = nltk.FreqDist(i)\n",
    "    print(data_analysis.items())"
   ]
  },
  {
   "cell_type": "markdown",
   "metadata": {
    "id": "Tr-_xv0CdGVc"
   },
   "source": [
    "It gives us sth, but it's really hard to manipulate and read. Let's get a bit more hard-coded"
   ]
  },
  {
   "cell_type": "code",
   "execution_count": null,
   "metadata": {
    "id": "JJbuMe6EdGVc"
   },
   "outputs": [],
   "source": [
    "from collections import Counter\n",
    "\n",
    "counter  = Counter()\n",
    "for i in df_large:\n",
    "    counter.update(i)\n",
    "print([x for x in counter.most_common(30)])\n",
    "\n",
    "#df_large=df_large.reset_index()['speech_tokened']\n",
    "#nltk.FreqDist(df_large[0])\n",
    "#for i in df_large[1:10]:\n",
    "#    data_analysis = nltk.FreqDist(i)\n",
    "#        for j in data_analysis.items():\n",
    "            \n"
   ]
  },
  {
   "cell_type": "markdown",
   "metadata": {
    "id": "S8tjK5OndGVd"
   },
   "source": [
    "Well, we see that our biggest issue here is by far three punctuation marks not included in the punct list, and after these, the greek equivalent of \"or\", different salutations mostly towards men (indicative of the gender imbalance within the parliament). <br><br>There are also more quite common words, but it would actually be a never-ending spiral of what consitutes a \"meaninful\" token within the political context, without trial and error (out of our scope for now). We'll just assume that since the usage is so often, pretty much everyone uses them :)<br><br>\n",
    "An interesting concept would be to differently treat the text within the greek quotation marks, it might be a bit confusing for our models, in case the quotations include phrases previously used by other parties (eg. refering to a sentence before responding to it). We could also extract it to a different column, and import it as seperate input to our models, in case we find any pattern on what different political parties tend to refer to. We will not be doing this however, due to time limitations. Just food for thought as next steps"
   ]
  },
  {
   "cell_type": "markdown",
   "metadata": {
    "id": "lKTbih6gdGVd"
   },
   "source": [
    "For now, let's add the 50 most common words to our stopword set, and run a fast tokenizer-improver"
   ]
  },
  {
   "cell_type": "code",
   "execution_count": null,
   "metadata": {
    "id": "Mr1AGl1DdGVd"
   },
   "outputs": [],
   "source": [
    "all_stopwords.add(x[0] for x in counter.most_common(50))"
   ]
  },
  {
   "cell_type": "code",
   "execution_count": null,
   "metadata": {
    "id": "q4moFNikdGVd"
   },
   "outputs": [],
   "source": [
    "def speedtok(listed):\n",
    "    tokens_without_sw= [word for word in listed if not (word in all_stopwords)]\n",
    "    return tokens_without_sw\n",
    "df['speech_tokened']=df['speech_tokened'].apply(lambda x: speedtok(x))"
   ]
  },
  {
   "cell_type": "markdown",
   "metadata": {
    "id": "GZFgKhgbdGVd"
   },
   "source": [
    "Let's run our statistics again"
   ]
  },
  {
   "cell_type": "code",
   "execution_count": null,
   "metadata": {
    "id": "WCSXV79UdGVe",
    "scrolled": true
   },
   "outputs": [],
   "source": [
    "df['speech_tokened'].apply(lambda x: len(x)).describe(percentiles=[0.25,0.5,0.75,0.9, .95])"
   ]
  },
  {
   "cell_type": "markdown",
   "metadata": {
    "id": "fh5GekDCdGVe"
   },
   "source": [
    "Well, this doesn't seem to change the lengths all that much. As such, we will go on and set our max length for each speech to 250 for a start."
   ]
  },
  {
   "cell_type": "markdown",
   "metadata": {
    "id": "09SVc7OgdGVe"
   },
   "source": [
    "Let's do the same, in regards to the unique words of each text, so as to see "
   ]
  },
  {
   "cell_type": "code",
   "execution_count": null,
   "metadata": {
    "id": "uqrh9uNfdGVe",
    "scrolled": true
   },
   "outputs": [],
   "source": [
    "df['speech_set'] = df['speech_tokened'].apply(lambda x: (set(x)))\n",
    "df['speech_set'] = df['speech_set'].apply(lambda x: len(x))\n",
    "df['speech_set'].describe(percentiles=[0.25,0.5,0.75,0.9, .95])"
   ]
  },
  {
   "cell_type": "markdown",
   "metadata": {
    "id": "xmWMWtZDdGVe"
   },
   "source": [
    "Let's see how many unique words we have, and how these words are spread (how many occurences we have statistically for each word)"
   ]
  },
  {
   "cell_type": "code",
   "execution_count": null,
   "metadata": {
    "id": "I1jQ5SoXdGVf"
   },
   "outputs": [],
   "source": [
    "pd.DataFrame.from_dict(dict(counter), orient='index')[0:10]"
   ]
  },
  {
   "cell_type": "code",
   "execution_count": null,
   "metadata": {
    "id": "rb3oTH1LdGVf",
    "scrolled": false
   },
   "outputs": [],
   "source": [
    "pd.DataFrame.from_dict(dict(counter), orient='index').describe(percentiles=[0.25,0.5,0.75,0.8, 0.9, .95, .98, .99])"
   ]
  },
  {
   "cell_type": "markdown",
   "metadata": {
    "id": "i9zPRwdEdGVf"
   },
   "source": [
    "Let's get some alike metrics, on document frequency, an issue we discussed earlier in our traditional ML classifiers"
   ]
  },
  {
   "cell_type": "markdown",
   "metadata": {
    "id": "bZAef6XIdGVg"
   },
   "source": [
    "We have many metrics on how our words are spread. Let's go and set an initial size of vocabulary to 35000 (5% of the total vocabulary)"
   ]
  },
  {
   "cell_type": "markdown",
   "metadata": {
    "id": "2nJSq8qI4nED"
   },
   "source": [
    "## Classification with a Neural Network\n",
    "\n",
    "* Carry out classification, but this time using a neural network."
   ]
  },
  {
   "cell_type": "markdown",
   "metadata": {
    "id": "rsdTc0KW4nED"
   },
   "source": [
    "## Extra (Bonus)\n",
    "\n",
    "* Write a text generator that produces speeches like those in the proceedings."
   ]
  },
  {
   "cell_type": "markdown",
   "metadata": {
    "id": "Un8FleBw4nED"
   },
   "source": [
    "## Honor Code\n",
    "\n",
    "You understand that this is an individual assignment, and as such you must carry it out alone. You may seek help on the Internet, by Googling or searching in StackOverflow for general questions pertaining to the use of Python and pandas libraries and idioms. However, it is not right to ask direct questions that relate to the assignment and where people will actually solve your problem by answering them. You may discuss with your fellow students in order to better understand the questions, if they are not clear enough, but you should not ask them to share their answers with you, or to help you by giving specific advice."
   ]
  },
  {
   "cell_type": "markdown",
   "metadata": {
    "id": "WMtvrJAt4nEE"
   },
   "source": [
    "## Code graveyard"
   ]
  },
  {
   "cell_type": "markdown",
   "metadata": {
    "id": "wutwLRmy4nEE"
   },
   "source": [
    "#### Null-party speakers mapper"
   ]
  },
  {
   "cell_type": "markdown",
   "metadata": {
    "id": "VRwehtfS4nEE"
   },
   "source": [
    "Let's try to map the names to parties, so that we can assign back to the rows without a party, the value based on the name"
   ]
  },
  {
   "cell_type": "code",
   "execution_count": null,
   "metadata": {
    "id": "EBTGNws34nEE"
   },
   "outputs": [],
   "source": [
    "napa = df[['member_name','political_party']]\n",
    "napa = napa[~napa.duplicated()]\n",
    "napa"
   ]
  },
  {
   "cell_type": "markdown",
   "metadata": {
    "id": "_5qTTKuq4nEE"
   },
   "source": [
    "#### Cross-party representatives' mapper\n",
    "<br><br>now let's get the names of the people who have no party in some records, and create the map"
   ]
  },
  {
   "cell_type": "code",
   "execution_count": null,
   "metadata": {
    "id": "jzoWJ3T84nEF"
   },
   "outputs": [],
   "source": [
    "noparty = napa[napa['political_party'].isnull()]\n",
    "noparty\n",
    "nonan = napa[napa['member_name'].isin(noparty['member_name'])].sort_values(by='member_name')\n",
    "nonan = nonan[(nonan['political_party'].notnull()) & nonan['member_name'].notnull()]\n",
    "nonan"
   ]
  },
  {
   "cell_type": "markdown",
   "metadata": {
    "id": "5eU2PaAbQ0-A"
   },
   "source": [
    "#### Text pre-processing alternative attempts"
   ]
  },
  {
   "cell_type": "code",
   "execution_count": null,
   "metadata": {
    "id": "72gXJJ134nEF"
   },
   "outputs": [],
   "source": [
    "from greek_stemmer import GreekStemmer\n",
    "stemmer = GreekStemmer()\n",
    "stemmer.stem('καλυτερος')"
   ]
  },
  {
   "cell_type": "code",
   "execution_count": null,
   "metadata": {
    "id": "Hqu4l2164nEF"
   },
   "outputs": [],
   "source": [
    "import nltk\n",
    "text = df['speech'][0]\n",
    "text1 = text.lower()\n",
    "print(text)\n",
    "print(text1)\n",
    "import string\n",
    "string2 =\"\".join([char for char in text1 if char not in string.punctuation])\n",
    "print(string2)\n",
    "from nltk.corpus import stopwords\n",
    "\n",
    "stop_words = stopwords.words('greek')\n",
    "print(stop_words)\n",
    "from greek_accentuation.characters import base\n",
    "#for i in word\n",
    "\n",
    "#word = \"\"\n",
    "#    for j in i\n",
    "#        stopword = \n",
    "#stop_words = base(stop_words[-7])\n",
    "#print(stop_words)"
   ]
  },
  {
   "cell_type": "code",
   "execution_count": null,
   "metadata": {
    "id": "OHJij6fm4nEF"
   },
   "outputs": [],
   "source": [
    "def untoniser(text):\n",
    "    returner = []\n",
    "    for i in text:\n",
    "        word = \"\"\n",
    "        for j in i:\n",
    "            j = base(j)\n",
    "            word = word+j\n",
    "        returner.append(word)\n",
    "    return(returner)\n",
    "\n",
    "stop_words = untoniser(stop_words)\n",
    "stop_words\n"
   ]
  },
  {
   "cell_type": "code",
   "execution_count": null,
   "metadata": {
    "id": "2govHmdB4nEG"
   },
   "outputs": [],
   "source": [
    "nltk.download('stopwords')"
   ]
  },
  {
   "cell_type": "code",
   "execution_count": null,
   "metadata": {
    "id": "rEqUp7GI4nEG"
   },
   "outputs": [],
   "source": [
    "trtr = \"Ά\"\n",
    "tr2 = trtr.lower()"
   ]
  },
  {
   "cell_type": "code",
   "execution_count": null,
   "metadata": {
    "id": "ENXral2d4nEG"
   },
   "outputs": [],
   "source": [
    "import unidecode\n",
    "tr3 = unidecode.unidecode(tr2)"
   ]
  },
  {
   "cell_type": "code",
   "execution_count": null,
   "metadata": {
    "id": "JdJps4cy4nEG"
   },
   "outputs": [],
   "source": [
    "tr2"
   ]
  },
  {
   "cell_type": "code",
   "execution_count": null,
   "metadata": {
    "id": "rQ9bvcwP4nEG"
   },
   "outputs": [],
   "source": [
    "from spacy.lang.el.examples import sentences \n",
    "\n",
    "nlp = spacy.load(\"el_core_news_sm\")\n",
    "doc = nlp(sentences[0])\n",
    "print(type(doc))\n",
    "#for token in doc:\n",
    "#    print(token.text, token.pos_, token.dep_)"
   ]
  },
  {
   "cell_type": "code",
   "execution_count": null,
   "metadata": {
    "id": "kU2kmf0A4nEB"
   },
   "outputs": [],
   "source": [
    "def myprocess_lemma(text):\n",
    "    rettext=\"\"\n",
    "    for i in text:\n",
    "        i = base(i)\n",
    "        rettext+= i \n",
    "    return(rettext)\n",
    "\n",
    "teststr = df['speech'][5]\n",
    "print(type(teststr))\n",
    "testres = myprocess_lemma(teststr)\n",
    "#print(teststr)\n",
    "print(testres)"
   ]
  },
  {
   "cell_type": "code",
   "execution_count": null,
   "metadata": {
    "id": "FdT8MleA4nEH",
    "scrolled": false
   },
   "outputs": [],
   "source": [
    "def myprocess_lemma(text):\n",
    "    lemmatizer = LemmaReplacer('greek')\n",
    "    text = text.lower()\n",
    "    tokens = lemmatizer.lemmatize(text)\n",
    "    rettext = \"\"\n",
    "    for i in tokens:\n",
    "        word = \"\"\n",
    "        for j in i:\n",
    "            j = base(j)\n",
    "            word = word+j\n",
    "        rettext=rettext + \" \" + word \n",
    "    return(rettext)\n",
    "\n",
    "teststr = df['speech'][5]\n",
    "print(type(teststr))\n",
    "testres = myprocess_lemma(teststr)\n",
    "print(teststr)\n",
    "print(testres)"
   ]
  },
  {
   "cell_type": "code",
   "execution_count": null,
   "metadata": {
    "id": "aLcus_jriVXy"
   },
   "outputs": [],
   "source": [
    "from tqdm import tqdm \n",
    "from spacy.lang.el import Greek\n",
    "from spacy.lang.el.stop_words import STOP_WORDS\n",
    "from spacy.lang.el import lemmatizer\n",
    "!{sys.executable} python -m spacy download el_core_news_sm\n",
    "'''def processorspacy(text):\n",
    "    nlp = Greek()\n",
    "    tokenizer = nlp.Defaults.create_tokenizer(nlp)\n",
    "    tokens = tokenizer(sample_text)\n",
    "    token_list = []\n",
    "    for token in tokens:\n",
    "        if token.is_stop is False:\n",
    "            token_list.append(token.lemma_)\n",
    "        #token = lemmatizer.rule_lemmatizer(token)\n",
    "    return(token_list)\n",
    "starttime = timeit.default_timer()\n",
    "punctuations = string.punctuationdef processorspacy(text):\n",
    "    nlp = Greek()\n",
    "    tokenizer = nlp.Defaults.create_tokenizer(nlp)\n",
    "    tokens = tokenizer(sample_text)\n",
    "    token_list = []\n",
    "    for token in tokens:\n",
    "        if token.is_stop is False:\n",
    "            token_list.append(token.lemma_)\n",
    "        #token = lemmatizer.rule_lemmatizer(token)\n",
    "    return(token_list)\n",
    "'''\n",
    "def processorspacy(text):\n",
    "    nlp = spacy.load(\"el_core_news_sm\")\n",
    "    doc = nlp(text)\n",
    "    return(doc)\n",
    "\n",
    "for i in tqdm (range (100), desc=\"Loading...\"): \n",
    "    texts = []\n",
    "    counter = 1\n",
    "    df['cleanxpeech'] = df['speech'].apply(lambda x: processorspacy(x))\n",
    "print(\"The process would last \"+str((timeit.default_timer() - starttime)*df.shape[0]/3600)+\" hours\") "
   ]
  },
  {
   "cell_type": "markdown",
   "metadata": {
    "id": "zpmTNt5miVXt"
   },
   "source": [
    "#### Alternative dataset reduction approaches\n",
    " We will reduce our dataset, by removing an equal portion of each political party. <br>\n",
    "That way, we will have the least of impact on the results we get (meaning we will inherit the same issues/features of our dataset"
   ]
  },
  {
   "cell_type": "code",
   "execution_count": null,
   "metadata": {
    "id": "FaA5VuEWiVXt"
   },
   "outputs": [],
   "source": [
    "parties = df['political_party'].unique().tolist()"
   ]
  },
  {
   "cell_type": "code",
   "execution_count": null,
   "metadata": {
    "id": "cCc0eDa5iVXt"
   },
   "outputs": [],
   "source": [
    "rdf = pd.DataFrame(columns = df.columns.tolist())\n",
    "#ttl_length = \n",
    "for i in parties:\n",
    "    tdf = df[df['political_party']==i]\n",
    "    tdf = tdf.loc[0:df.shape[0]*0.6]\n",
    "    rdf = rdf.append(tdf)"
   ]
  }
 ],
 "metadata": {
  "colab": {
   "collapsed_sections": [
    "rsdTc0KW4nED",
    "Un8FleBw4nED"
   ],
   "name": "greek_parliament_alevizos3.ipynb",
   "provenance": []
  },
  "kernelspec": {
   "display_name": "Python 3",
   "language": "python",
   "name": "python3"
  },
  "language_info": {
   "codemirror_mode": {
    "name": "ipython",
    "version": 3
   },
   "file_extension": ".py",
   "mimetype": "text/x-python",
   "name": "python",
   "nbconvert_exporter": "python",
   "pygments_lexer": "ipython3",
   "version": "3.8.3"
  }
 },
 "nbformat": 4,
 "nbformat_minor": 1
}
