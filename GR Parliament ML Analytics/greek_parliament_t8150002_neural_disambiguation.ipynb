{
  "nbformat": 4,
  "nbformat_minor": 0,
  "metadata": {
    "colab": {
      "name": "greek_parliament_t8150002_neural_disambiguation.ipynb",
      "provenance": [],
      "collapsed_sections": [
        "9azggv_l4nDq",
        "No76Spwc4nD3"
      ]
    },
    "kernelspec": {
      "display_name": "Python 3",
      "language": "python",
      "name": "python3"
    },
    "language_info": {
      "codemirror_mode": {
        "name": "ipython",
        "version": 3
      },
      "file_extension": ".py",
      "mimetype": "text/x-python",
      "name": "python",
      "nbconvert_exporter": "python",
      "pygments_lexer": "ipython3",
      "version": "3.8.3"
    },
    "accelerator": "TPU"
  },
  "cells": [
    {
      "cell_type": "markdown",
      "metadata": {
        "id": "fYiWgrFP4nDo"
      },
      "source": [
        "# Greek Parliament Proceedings\n",
        "\n",
        "You will work with a dataset containing Greek Parliament proceedings, available at <https://zenodo.org/record/2587904>. The dataset is described in Zenodo; you can also read <https://lab.imedd.org/en/parliamentary-minutes-from-1989-until-today/>.\n",
        "\n",
        "---\n",
        "\n",
        "> Panos Louridas, Associate Professor <br />\n",
        "> Department of Management Science and Technology <br />\n",
        "> Athens University of Economics and Business <br />\n",
        "> louridas@aueb.gr\n"
      ]
    },
    {
      "cell_type": "markdown",
      "metadata": {
        "id": "9azggv_l4nDq"
      },
      "source": [
        "## Data Selection and Preparation\n",
        "\n",
        "As you will find out, the dataset is extensive, as it contains three decades worth of parliamentary proceedings. You can restrict yourself to a subset of the dataset, however that subset must not be trivial. Also keep in mind that a dataset that is too small may be fast to process, but may not be enough to produce good results.\n",
        "\n",
        "You are free to preprocess the data in any way that seems meaningful and that is likely to be conducive to good results. For instance, you may or may not remove punctuation, stopwords, very frequent or very rare words, etc. You can use any library for preprocessing, like [NLTK](https://www.nltk.org/) or [spaCy](https://spacy.io/); spaCy is more modern and faster. When developing the neural network solution you may do the preprocessing beforehand and / or using the TensorFlow facilities."
      ]
    },
    {
      "cell_type": "code",
      "metadata": {
        "id": "qpuxI3cpdGUd"
      },
      "source": [
        "#necessary imports for conection with drive\n",
        "import os\n",
        "from pydrive.auth import GoogleAuth\n",
        "from pydrive.drive import GoogleDrive\n",
        "from google.colab import auth\n",
        "from oauth2client.client import GoogleCredentials"
      ],
      "execution_count": 1,
      "outputs": []
    },
    {
      "cell_type": "code",
      "metadata": {
        "id": "f6Bu3NEw4nDs"
      },
      "source": [
        "import pandas as pd\n",
        "import numpy as np\n",
        "import seaborn\n",
        "\n",
        "import seaborn as sns\n",
        "import matplotlib.pyplot as plt\n"
      ],
      "execution_count": 2,
      "outputs": []
    },
    {
      "cell_type": "code",
      "metadata": {
        "id": "NQJ7Fw9fpnKv"
      },
      "source": [
        "#df = pd.read_csv('Greek_Parliament_Proceedings_1989_2019.csv') \n",
        "df = pd.read_csv('https://zenodo.org/record/2587904/files/Greek_Parliament_Proceedings_1989_2019.csv.zip?download=1',compression='zip') "
      ],
      "execution_count": 3,
      "outputs": []
    },
    {
      "cell_type": "code",
      "metadata": {
        "id": "3eX7FyL94nDx",
        "scrolled": true
      },
      "source": [
        "df['political_party'] = df['political_party'].replace('ανεξαρτητοι ελληνες - πανος καμμενος', 'ανεξαρτητοι ελληνες εθνικη πατριωτικη δημοκρατικη συμμαχια')"
      ],
      "execution_count": 4,
      "outputs": []
    },
    {
      "cell_type": "code",
      "metadata": {
        "colab": {
          "base_uri": "https://localhost:8080/"
        },
        "id": "Gax3ftG84nD5",
        "outputId": "a370c92e-f22b-4776-c9a8-ec2c231e1d8d"
      },
      "source": [
        "df['sitting_date'] = pd.to_datetime(df['sitting_date'], format=\"%Y-%m-%d\")\n",
        "df['sitting_date'][9500]\n",
        "df.dtypes"
      ],
      "execution_count": 5,
      "outputs": [
        {
          "output_type": "execute_result",
          "data": {
            "text/plain": [
              "member_name                      object\n",
              "sitting_date             datetime64[ns]\n",
              "parliamentary_period             object\n",
              "parliamentary_session            object\n",
              "parliamentary_sitting            object\n",
              "political_party                  object\n",
              "speaker_info                     object\n",
              "speech                           object\n",
              "dtype: object"
            ]
          },
          "metadata": {
            "tags": []
          },
          "execution_count": 5
        }
      ]
    },
    {
      "cell_type": "markdown",
      "metadata": {
        "id": "No76Spwc4nD3"
      },
      "source": [
        "## Data Exploration\n",
        "\n",
        "* Expore the dataset to get an overall idea of what it is about. Think about:\n",
        "\n",
        "  * Speeches per party.\n",
        "  \n",
        "  * Speeches over time.\n",
        "  \n",
        "  * Speeches per party and time.\n",
        "  \n",
        "  * Speakers per party.\n",
        "  \n",
        "  * Etc.\n",
        "  \n",
        "* Your analysis can (and should) include tables and diagrams."
      ]
    },
    {
      "cell_type": "code",
      "metadata": {
        "colab": {
          "base_uri": "https://localhost:8080/"
        },
        "id": "CjiD729c_Rv0",
        "outputId": "5733cf23-c058-40dd-f18f-ce34fbb4cc5d"
      },
      "source": [
        "df['political_party'] = df['political_party'].replace( 'δημοκρατικη συμπαραταξη (πανελληνιο σοσιαλιστικο κινημα - δημοκρατικη αριστερα)','πανελληνιο σοσιαλιστικο κινημα')\n",
        "df['political_party'].unique()"
      ],
      "execution_count": 6,
      "outputs": [
        {
          "output_type": "execute_result",
          "data": {
            "text/plain": [
              "array(['πανελληνιο σοσιαλιστικο κινημα', 'βουλη', 'νεα δημοκρατια',\n",
              "       'κομμουνιστικο κομμα ελλαδας εσωτερικου',\n",
              "       'κομμουνιστικο κομμα ελλαδας',\n",
              "       'συνασπισμος της αριστερας των κινηματων και της οικολογιας', nan,\n",
              "       'λαικος ορθοδοξος συναγερμος',\n",
              "       'οικολογοι εναλλακτικοι (ομοσπονδια οικολογικων εναλλακτικων οργανωσεων)',\n",
              "       'ανεξαρτητοι (εκτος κομματος)', 'δημοκρατικη ανανεωση',\n",
              "       'αντιπολιτευση', 'πολιτικη ανοιξη', 'δημοκρατικο κοινωνικο κινημα',\n",
              "       'συνασπισμος ριζοσπαστικης αριστερας', 'δημοκρατικη αριστερα',\n",
              "       'ανεξαρτητοι ελληνες εθνικη πατριωτικη δημοκρατικη συμμαχια',\n",
              "       'ανεξαρτητοι δημοκρατικοι βουλευτες',\n",
              "       'λαικος συνδεσος - χρυση αυγη', 'το ποταμι', 'λαικη ενοτητα',\n",
              "       'ενωση κεντρωων'], dtype=object)"
            ]
          },
          "metadata": {
            "tags": []
          },
          "execution_count": 6
        }
      ]
    },
    {
      "cell_type": "code",
      "metadata": {
        "id": "YbjSLL2VApZk"
      },
      "source": [
        "df = df[df['sitting_date'].dt.year >= 2004]"
      ],
      "execution_count": 7,
      "outputs": []
    },
    {
      "cell_type": "code",
      "metadata": {
        "id": "J5dzgXv5_-yC"
      },
      "source": [
        "partygroup = df[['political_party','speech']].groupby('political_party').count().reset_index()"
      ],
      "execution_count": 8,
      "outputs": []
    },
    {
      "cell_type": "code",
      "metadata": {
        "id": "XlE90TGHBaOz"
      },
      "source": [
        "partygroup = partygroup[partygroup['speech'] > df.shape[0]*0.5/100]"
      ],
      "execution_count": 9,
      "outputs": []
    },
    {
      "cell_type": "code",
      "metadata": {
        "id": "OOm5cyeZBexj"
      },
      "source": [
        "df = df[df['political_party'].isin(partygroup['political_party'])]"
      ],
      "execution_count": 10,
      "outputs": []
    },
    {
      "cell_type": "code",
      "metadata": {
        "id": "CPFkMo-W1QGP"
      },
      "source": [
        "df = df[~df['political_party'].isin([\"ανεξαρτητοι (εκτος κομματος)\"])]"
      ],
      "execution_count": 11,
      "outputs": []
    },
    {
      "cell_type": "code",
      "metadata": {
        "id": "lWKmPZPHOeAK"
      },
      "source": [
        "partylist = df['political_party'].unique()\n",
        "partylist = partylist.tolist()\n",
        "df['political_party'] = df['political_party'].apply(lambda x: partylist.index(x))\n",
        "df = df.reset_index(drop=True)"
      ],
      "execution_count": 12,
      "outputs": []
    },
    {
      "cell_type": "markdown",
      "metadata": {
        "id": "qGrHNMitdGU3"
      },
      "source": [
        "Let's get a bit deeper to our words' analytics. <br>NOTE: This analysis is written after running initial classification models and while approaching the neural network models' implementation<br><br> (The cli module is imported, because google colab couldn't locate the el_core_news_sm model if it was downloaded through bash commands)"
      ]
    },
    {
      "cell_type": "code",
      "metadata": {
        "colab": {
          "base_uri": "https://localhost:8080/"
        },
        "id": "oReWD_yjdGU3",
        "scrolled": true,
        "outputId": "bd3f014c-d4ab-43ed-be57-328f6aa897f2"
      },
      "source": [
        "import spacy\n",
        "import nltk\n",
        "nltk.download('punkt')\n",
        "import spacy.cli\n",
        "spacy.cli.download(\"el_core_news_sm\")\n",
        "sp = spacy.load('el_core_news_sm')\n",
        "from nltk.tokenize import word_tokenize\n",
        "import string\n",
        "\n",
        "all_stopwords = sp.Defaults.stop_words"
      ],
      "execution_count": 13,
      "outputs": [
        {
          "output_type": "stream",
          "text": [
            "[nltk_data] Downloading package punkt to /root/nltk_data...\n",
            "[nltk_data]   Unzipping tokenizers/punkt.zip.\n",
            "\u001b[38;5;2m✔ Download and installation successful\u001b[0m\n",
            "You can now load the model via spacy.load('el_core_news_sm')\n"
          ],
          "name": "stdout"
        }
      ]
    },
    {
      "cell_type": "code",
      "metadata": {
        "colab": {
          "base_uri": "https://localhost:8080/"
        },
        "id": "9Ja-o89HNzVP",
        "outputId": "b32cfcbd-8f42-4848-bceb-888c657e5fa9"
      },
      "source": [
        "def tokstoprem(text):\n",
        "    text_tokens = word_tokenize(text)\n",
        "    tokens_without_sw = []\n",
        "    for word in text_tokens:\n",
        "        word = word.lower()\n",
        "        if ((not word in all_stopwords) & (not word in string.punctuation) & (not word.isnumeric()) & ( word.isalnum())):\n",
        "            tokens_without_sw.append(word)\n",
        "    #tokens_without_sw= [word.lower() for word in text_tokens if ((not word in all_stopwords) & (not word in string.punctuation) & (not word.isnumeric()))]\n",
        "    return tokens_without_sw\n",
        "tester0 = tokstoprem(df['speech'][0])\n",
        "print(df['speech'][0])\n",
        "tester0"
      ],
      "execution_count": 14,
      "outputs": [
        {
          "output_type": "stream",
          "text": [
            " Σε δύο ενότητες πότε, κύριε Υπουργέ; Σήμερα;\n"
          ],
          "name": "stdout"
        },
        {
          "output_type": "execute_result",
          "data": {
            "text/plain": [
              "['δύο', 'ενότητες', 'κύριε', 'υπουργέ', 'σήμερα']"
            ]
          },
          "metadata": {
            "tags": []
          },
          "execution_count": 14
        }
      ]
    },
    {
      "cell_type": "code",
      "metadata": {
        "colab": {
          "base_uri": "https://localhost:8080/",
          "height": 0
        },
        "id": "mDtrwJ2c8Iy4",
        "outputId": "585b53ff-fd02-4eb0-8559-68c01fcbf291"
      },
      "source": [
        "df['speech'][0]"
      ],
      "execution_count": 15,
      "outputs": [
        {
          "output_type": "execute_result",
          "data": {
            "application/vnd.google.colaboratory.intrinsic+json": {
              "type": "string"
            },
            "text/plain": [
              "' Σε δύο ενότητες πότε, κύριε Υπουργέ; Σήμερα;'"
            ]
          },
          "metadata": {
            "tags": []
          },
          "execution_count": 15
        }
      ]
    },
    {
      "cell_type": "code",
      "metadata": {
        "id": "BHygM_tndGU4"
      },
      "source": [
        "df = df.dropna(subset=['speech'])\n",
        "df['speech'] = df['speech'].apply(lambda x: tokstoprem(x))"
      ],
      "execution_count": 16,
      "outputs": []
    },
    {
      "cell_type": "markdown",
      "metadata": {
        "id": "eMcv0OM5dGU4"
      },
      "source": [
        "Now let's go a bit further, and see the length of each sentence. This will help us decide the max length of each sentence before we encode them to numerical and import our padding, when we classify with neural networks (and using keras preprocessor)"
      ]
    },
    {
      "cell_type": "code",
      "metadata": {
        "colab": {
          "base_uri": "https://localhost:8080/"
        },
        "id": "7DBIznv8dGU5",
        "scrolled": true,
        "outputId": "c8c6887c-ed03-4cb1-9ad0-7006ae9a5d84"
      },
      "source": [
        "df['speech'].apply(lambda x: len(x)).describe(percentiles=[0.2, 0.25,0.5,0.75,0.9, .95, .98, .99])"
      ],
      "execution_count": 17,
      "outputs": [
        {
          "output_type": "execute_result",
          "data": {
            "text/plain": [
              "count    673014.000000\n",
              "mean         62.072828\n",
              "std         158.942359\n",
              "min           0.000000\n",
              "20%           2.000000\n",
              "25%           2.000000\n",
              "50%           6.000000\n",
              "75%          26.000000\n",
              "90%         198.000000\n",
              "95%         394.000000\n",
              "98%         575.000000\n",
              "99%         755.000000\n",
              "max        9054.000000\n",
              "Name: speech, dtype: float64"
            ]
          },
          "metadata": {
            "tags": []
          },
          "execution_count": 17
        }
      ]
    },
    {
      "cell_type": "markdown",
      "metadata": {
        "id": "dz70Ol8ydGU5"
      },
      "source": [
        "As explained in the detailed preprocessing document, we'll remove speeches wth less than 4 words"
      ]
    },
    {
      "cell_type": "code",
      "metadata": {
        "id": "a7Ev7coIdGU8",
        "colab": {
          "base_uri": "https://localhost:8080/"
        },
        "outputId": "575bda31-3247-4205-a9b1-9cc6759eb7f1"
      },
      "source": [
        "df = df[df['speech'].apply(lambda x: len(x)) > 4]\r\n",
        "len(df)"
      ],
      "execution_count": 18,
      "outputs": [
        {
          "output_type": "execute_result",
          "data": {
            "text/plain": [
              "372975"
            ]
          },
          "metadata": {
            "tags": []
          },
          "execution_count": 18
        }
      ]
    },
    {
      "cell_type": "markdown",
      "metadata": {
        "id": "gvShwaX_FvvD"
      },
      "source": [
        "And let's run the statistics distribution again"
      ]
    },
    {
      "cell_type": "code",
      "metadata": {
        "colab": {
          "base_uri": "https://localhost:8080/"
        },
        "id": "ACx58rwTFslp",
        "outputId": "7b220071-6d47-4200-a30a-67fe5a6dc4d9"
      },
      "source": [
        "df['speech'].apply(lambda x: len(x)).describe(percentiles=[0.2, 0.25,0.5,0.75,0.9, .95, .98, .99])"
      ],
      "execution_count": 19,
      "outputs": [
        {
          "output_type": "execute_result",
          "data": {
            "text/plain": [
              "count    372975.000000\n",
              "mean        110.393970\n",
              "std         200.864179\n",
              "min           5.000000\n",
              "20%           7.000000\n",
              "25%           8.000000\n",
              "50%          19.000000\n",
              "75%         123.000000\n",
              "90%         367.000000\n",
              "95%         515.000000\n",
              "98%         727.000000\n",
              "99%         914.000000\n",
              "max        9054.000000\n",
              "Name: speech, dtype: float64"
            ]
          },
          "metadata": {
            "tags": []
          },
          "execution_count": 19
        }
      ]
    },
    {
      "cell_type": "markdown",
      "metadata": {
        "id": "b2jBpSdYGJWR"
      },
      "source": [
        "Let's try and initially set a sample max length of 125, 900, and None (grid search approach)"
      ]
    },
    {
      "cell_type": "markdown",
      "metadata": {
        "id": "8WaMHSoJdGU8"
      },
      "source": [
        "So, we have almost 400.000 samples. Let's see now what happens with our features, our individual words, which will be our vocabulary"
      ]
    },
    {
      "cell_type": "code",
      "metadata": {
        "id": "V3ci1zgydGU9"
      },
      "source": [
        "from collections import Counter\n",
        "\n",
        "counter  = Counter()\n",
        "for i in df['speech']:\n",
        "    counter.update(i)"
      ],
      "execution_count": 20,
      "outputs": []
    },
    {
      "cell_type": "markdown",
      "metadata": {
        "id": "gM1t4DrwdGU9"
      },
      "source": [
        "There are quite common words, but it would actually be a never-ending spiral of what consitutes a \"meaninful\" token within the political context, without trial and error (out of our scope for now). We'll just assume that since the usage is so often, pretty much everyone uses them. In our traditional ML models, we'll even limit the document frequency, so trivial tokens will be removed anyways :)<br><br>\n",
        "An interesting concept would be to differently treat the text within the greek quotation marks (removed earlier, since we have filtered out any non alphanumerical words),since it might be a bit confusing for our models, in case the quotations include phrases previously used by other parties (eg. refering to a sentence before responding to it). We could also extract it to a different column, and import it as seperate input to our models, in case we find any pattern on what different political parties tend to refer to. We will not be doing this however, due to time limitations. Just food for thought as next steps. We might update our stopwords, and re-filter our tokens before feeding them to our NN models, but not quite yet"
      ]
    },
    {
      "cell_type": "code",
      "metadata": {
        "colab": {
          "base_uri": "https://localhost:8080/"
        },
        "id": "krdDwMzQdGU9",
        "outputId": "e856798e-e399-4bdf-c995-80ae7aac4bde"
      },
      "source": [
        "len(counter)"
      ],
      "execution_count": 21,
      "outputs": [
        {
          "output_type": "execute_result",
          "data": {
            "text/plain": [
              "316512"
            ]
          },
          "metadata": {
            "tags": []
          },
          "execution_count": 21
        }
      ]
    },
    {
      "cell_type": "markdown",
      "metadata": {
        "id": "uEZuUXHTdGU-"
      },
      "source": [
        "We have about 300k words in total. We'll have to keep that in mind, since they only give a ratio of samples/features of 1.x <br>\n",
        "We might need to find a rule for features reduction for our NNs (traditional ML is protected by the max_df parameter). Let's see the most common ones"
      ]
    },
    {
      "cell_type": "code",
      "metadata": {
        "colab": {
          "base_uri": "https://localhost:8080/"
        },
        "id": "IcTkFUdjdGU-",
        "scrolled": false,
        "outputId": "d713c1e0-e56f-43ee-dc1f-7491eff80a22"
      },
      "source": [
        "counter.most_common(50)"
      ],
      "execution_count": 22,
      "outputs": [
        {
          "output_type": "execute_result",
          "data": {
            "text/plain": [
              "[('κύριε', 317727),\n",
              " ('ή', 198169),\n",
              " ('υπάρχει', 170465),\n",
              " ('σήμερα', 155704),\n",
              " ('κυβέρνηση', 150692),\n",
              " ('συνάδελφοι', 150335),\n",
              " ('κύριοι', 149421),\n",
              " ('λόγο', 127711),\n",
              " ('πρόεδρε', 118905),\n",
              " ('υπουργέ', 114726),\n",
              " ('άρθρο', 114031),\n",
              " ('θέμα', 109821),\n",
              " ('δύο', 105596),\n",
              " ('χώρα', 104243),\n",
              " ('χρόνια', 103535),\n",
              " ('αφορά', 101621),\n",
              " ('ευχαριστώ', 100174),\n",
              " ('νομοσχέδιο', 99519),\n",
              " ('ευρώ', 98903),\n",
              " ('πολιτική', 98032),\n",
              " ('πω', 94628),\n",
              " ('γίνεται', 91386),\n",
              " ('κυρίες', 90499),\n",
              " ('υπάρχουν', 88449),\n",
              " ('κάνει', 88375),\n",
              " ('διότι', 84774),\n",
              " ('γίνει', 83937),\n",
              " ('σ', 75973),\n",
              " ('ελλάδα', 71971),\n",
              " ('νέα', 71699),\n",
              " ('δημοκρατίας', 70980),\n",
              " ('θέλω', 69079),\n",
              " ('χώρας', 68446),\n",
              " ('υπουργός', 67574),\n",
              " ('συζήτηση', 65007),\n",
              " ('τρόπο', 63802),\n",
              " ('λέει', 62669),\n",
              " ('κι', 62408),\n",
              " ('νέας', 62280),\n",
              " ('βεβαίως', 59422),\n",
              " ('βουλή', 58878),\n",
              " ('πρόβλημα', 58777),\n",
              " ('υπουργό', 58511),\n",
              " ('επιτροπή', 58228),\n",
              " ('υπουργείο', 58084),\n",
              " ('στιγμή', 57106),\n",
              " ('κυρία', 54816),\n",
              " ('ό', 54422),\n",
              " ('κυβέρνησης', 54412),\n",
              " ('κάνουμε', 54081)]"
            ]
          },
          "metadata": {
            "tags": []
          },
          "execution_count": 22
        }
      ]
    },
    {
      "cell_type": "markdown",
      "metadata": {
        "id": "18irJZYHdGVC"
      },
      "source": [
        "And let's see how many document frequency we have for each word, a metric that will help us set a better value to the max_df parameter of our traditional ML models"
      ]
    },
    {
      "cell_type": "code",
      "metadata": {
        "id": "-hGNk05DdGVD"
      },
      "source": [
        "counter  = Counter()\n",
        "for i in df['speech'].apply(lambda x: (set(x))):\n",
        "    counter.update(i)"
      ],
      "execution_count": 23,
      "outputs": []
    },
    {
      "cell_type": "code",
      "metadata": {
        "colab": {
          "base_uri": "https://localhost:8080/",
          "height": 0
        },
        "id": "J-l3zVC6dGVD",
        "scrolled": false,
        "outputId": "e3289aeb-80bb-4d63-9416-217872d262d8"
      },
      "source": [
        "pd.DataFrame.from_dict(dict(counter), orient='index').describe(percentiles=[0.25,0.5,0.75,0.8, 0.9,  0.92, .95,  0.97 ,.98,.985, .99])"
      ],
      "execution_count": 24,
      "outputs": [
        {
          "output_type": "execute_result",
          "data": {
            "text/html": [
              "<div>\n",
              "<style scoped>\n",
              "    .dataframe tbody tr th:only-of-type {\n",
              "        vertical-align: middle;\n",
              "    }\n",
              "\n",
              "    .dataframe tbody tr th {\n",
              "        vertical-align: top;\n",
              "    }\n",
              "\n",
              "    .dataframe thead th {\n",
              "        text-align: right;\n",
              "    }\n",
              "</style>\n",
              "<table border=\"1\" class=\"dataframe\">\n",
              "  <thead>\n",
              "    <tr style=\"text-align: right;\">\n",
              "      <th></th>\n",
              "      <th>0</th>\n",
              "    </tr>\n",
              "  </thead>\n",
              "  <tbody>\n",
              "    <tr>\n",
              "      <th>count</th>\n",
              "      <td>316512.000000</td>\n",
              "    </tr>\n",
              "    <tr>\n",
              "      <th>mean</th>\n",
              "      <td>99.148105</td>\n",
              "    </tr>\n",
              "    <tr>\n",
              "      <th>std</th>\n",
              "      <td>1040.658482</td>\n",
              "    </tr>\n",
              "    <tr>\n",
              "      <th>min</th>\n",
              "      <td>1.000000</td>\n",
              "    </tr>\n",
              "    <tr>\n",
              "      <th>25%</th>\n",
              "      <td>1.000000</td>\n",
              "    </tr>\n",
              "    <tr>\n",
              "      <th>50%</th>\n",
              "      <td>3.000000</td>\n",
              "    </tr>\n",
              "    <tr>\n",
              "      <th>75%</th>\n",
              "      <td>13.000000</td>\n",
              "    </tr>\n",
              "    <tr>\n",
              "      <th>80%</th>\n",
              "      <td>22.000000</td>\n",
              "    </tr>\n",
              "    <tr>\n",
              "      <th>90%</th>\n",
              "      <td>81.000000</td>\n",
              "    </tr>\n",
              "    <tr>\n",
              "      <th>92%</th>\n",
              "      <td>117.000000</td>\n",
              "    </tr>\n",
              "    <tr>\n",
              "      <th>95%</th>\n",
              "      <td>243.000000</td>\n",
              "    </tr>\n",
              "    <tr>\n",
              "      <th>97%</th>\n",
              "      <td>482.000000</td>\n",
              "    </tr>\n",
              "    <tr>\n",
              "      <th>98%</th>\n",
              "      <td>799.000000</td>\n",
              "    </tr>\n",
              "    <tr>\n",
              "      <th>98.5%</th>\n",
              "      <td>1111.000000</td>\n",
              "    </tr>\n",
              "    <tr>\n",
              "      <th>99%</th>\n",
              "      <td>1728.000000</td>\n",
              "    </tr>\n",
              "    <tr>\n",
              "      <th>max</th>\n",
              "      <td>182156.000000</td>\n",
              "    </tr>\n",
              "  </tbody>\n",
              "</table>\n",
              "</div>"
            ],
            "text/plain": [
              "                   0\n",
              "count  316512.000000\n",
              "mean       99.148105\n",
              "std      1040.658482\n",
              "min         1.000000\n",
              "25%         1.000000\n",
              "50%         3.000000\n",
              "75%        13.000000\n",
              "80%        22.000000\n",
              "90%        81.000000\n",
              "92%       117.000000\n",
              "95%       243.000000\n",
              "97%       482.000000\n",
              "98%       799.000000\n",
              "98.5%    1111.000000\n",
              "99%      1728.000000\n",
              "max    182156.000000"
            ]
          },
          "metadata": {
            "tags": []
          },
          "execution_count": 24
        }
      ]
    },
    {
      "cell_type": "markdown",
      "metadata": {
        "id": "W8MbJ_yidGVE"
      },
      "source": [
        "80% of the words appear in up to 22 documents.\n",
        "<br>Based on the above results, we'll use as a starting point two alternative approaches:<br>1. A vocab based on 3-5% of our total terms when training our NN models (so well try to start with a 20k vocabulary)<br> 2. A vocab based on the total of existing words<br>\n",
        "<br> The last table also suggests that our initial attempts to traditional ML models, with min_df hyperparameter set to a percentage of the total documents (.1, .05), was way too strict and limited down on way too few words.\n",
        "<br> (NOTE: the initial attempts were set before the word-level pre-processing, making it even more strict)"
      ]
    },
    {
      "cell_type": "code",
      "metadata": {
        "colab": {
          "base_uri": "https://localhost:8080/"
        },
        "id": "fgqu9LasQYO8",
        "outputId": "21a78d17-03d5-4034-bcac-ed7b570d8c99"
      },
      "source": [
        "counter.most_common(50)"
      ],
      "execution_count": 25,
      "outputs": [
        {
          "output_type": "execute_result",
          "data": {
            "text/plain": [
              "[('κύριε', 182156),\n",
              " ('λόγο', 108855),\n",
              " ('πρόεδρε', 90083),\n",
              " ('ευχαριστώ', 81922),\n",
              " ('συνάδελφοι', 79414),\n",
              " ('ή', 78204),\n",
              " ('υπάρχει', 77776),\n",
              " ('κύριοι', 77438),\n",
              " ('σήμερα', 69340),\n",
              " ('γίνεται', 66223),\n",
              " ('δύο', 63251),\n",
              " ('κυβέρνηση', 62036),\n",
              " ('υπουργέ', 61602),\n",
              " ('θέμα', 58177),\n",
              " ('πω', 57243),\n",
              " ('χρόνια', 53057),\n",
              " ('αφορά', 52492),\n",
              " ('κυρίες', 52071),\n",
              " ('κάνει', 51533),\n",
              " ('γίνει', 51233),\n",
              " ('υπάρχουν', 49919),\n",
              " ('άρθρο', 48780),\n",
              " ('διότι', 47735),\n",
              " ('υπουργός', 47552),\n",
              " ('χώρα', 46518),\n",
              " ('πολιτική', 45047),\n",
              " ('θέλω', 44929),\n",
              " ('συζήτηση', 44367),\n",
              " ('νομοσχέδιο', 43628),\n",
              " ('δημοκρατίας', 42549),\n",
              " ('τρόπο', 42431),\n",
              " ('σ', 40966),\n",
              " ('κυρία', 40469),\n",
              " ('βουλή', 39984),\n",
              " ('σώμα', 39834),\n",
              " ('νέας', 39549),\n",
              " ('νέα', 39272),\n",
              " ('ήθελα', 38553),\n",
              " ('κι', 37659),\n",
              " ('υπουργό', 37470),\n",
              " ('στιγμή', 37390),\n",
              " ('χώρας', 37008),\n",
              " ('χρόνο', 36420),\n",
              " ('λέει', 36341),\n",
              " ('ό', 35704),\n",
              " ('ελλάδα', 35513),\n",
              " ('ευχαριστούμε', 34651),\n",
              " ('κάνουμε', 34637),\n",
              " ('ευρώ', 34180),\n",
              " ('κυβέρνησης', 33732)]"
            ]
          },
          "metadata": {
            "tags": []
          },
          "execution_count": 25
        }
      ]
    },
    {
      "cell_type": "markdown",
      "metadata": {
        "id": "5HUsmBySTJOK"
      },
      "source": [
        "We see many similarities (expectedly) between words; absolute frequency and words' document frequency. We will not act God here (although sometimes we need to during such processes). We will only remove a few words, which are surely menaingless.\r\n",
        "<br> We also observe that the largest document frequency is 182156/372975= 0.488, and reaching down to our 50th most common word, we're already down to less than 1/10th of the total docs' frequency. This is an upper-limit indicator of the words' sparcity. Derived from this, we'll set our initial max_df hyperparameters to 0.5, 0.35 (none to some upper limit restriction) and work from there <br>\r\n",
        "NOTE: The already ran traditional ML models before this analysis are left for thought-process purposes."
      ]
    },
    {
      "cell_type": "code",
      "metadata": {
        "id": "zMraBPyrTMdN"
      },
      "source": [
        "additional_stopwords = ['κι', 'ό', 'σ', 'ή']\r\n",
        "def speedtok(listed):\r\n",
        "    tokens_without_sw= [word for word in listed if not (word in additional_stopwords)]\r\n",
        "    return tokens_without_sw\r\n",
        "df['speech']=df['speech'].apply(lambda x: speedtok(x))"
      ],
      "execution_count": 26,
      "outputs": []
    },
    {
      "cell_type": "markdown",
      "metadata": {
        "id": "2nJSq8qI4nED"
      },
      "source": [
        "## Classification with a Neural Network\n",
        "\n",
        "* Carry out classification, but this time using a neural network."
      ]
    },
    {
      "cell_type": "markdown",
      "metadata": {
        "id": "phIQ8fRJh5Cv"
      },
      "source": [
        "For memory efficiency, we keep only tour two main columns"
      ]
    },
    {
      "cell_type": "code",
      "metadata": {
        "id": "MjqsP_N1hnku"
      },
      "source": [
        "import tensorflow as tf\r\n",
        "from tensorflow.keras.layers import Input, Dropout, Dense, Embedding, SpatialDropout1D, LSTM\r\n",
        "from tensorflow.keras.models import Model, Sequential\r\n",
        "from tensorflow.keras.optimizers import Adam\r\n",
        "from tensorflow.keras.callbacks import EarlyStopping\r\n",
        "from tensorflow.keras.initializers import TruncatedNormal\r\n",
        "from tensorflow.keras.losses import CategoricalCrossentropy\r\n",
        "from tensorflow.keras.metrics import CategoricalAccuracy\r\n",
        "from tensorflow.keras.utils import to_categorical\r\n",
        "from tensorflow.keras.preprocessing.sequence import pad_sequences\r\n",
        "import keras\r\n",
        "from sklearn.model_selection import train_test_split\r\n",
        "from tensorflow.keras.layers.experimental.preprocessing import TextVectorization\r\n",
        "import sklearn\r\n",
        "from tensorflow.keras.preprocessing.text import Tokenizer\r\n",
        "\r\n",
        "df = df[['speech','political_party']]"
      ],
      "execution_count": 27,
      "outputs": []
    },
    {
      "cell_type": "code",
      "metadata": {
        "colab": {
          "base_uri": "https://localhost:8080/",
          "height": 142
        },
        "id": "0nrJDNInh8uQ",
        "outputId": "91a838b4-2133-420b-ef60-529053e9b3a5"
      },
      "source": [
        "df.head(3)"
      ],
      "execution_count": 28,
      "outputs": [
        {
          "output_type": "execute_result",
          "data": {
            "text/html": [
              "<div>\n",
              "<style scoped>\n",
              "    .dataframe tbody tr th:only-of-type {\n",
              "        vertical-align: middle;\n",
              "    }\n",
              "\n",
              "    .dataframe tbody tr th {\n",
              "        vertical-align: top;\n",
              "    }\n",
              "\n",
              "    .dataframe thead th {\n",
              "        text-align: right;\n",
              "    }\n",
              "</style>\n",
              "<table border=\"1\" class=\"dataframe\">\n",
              "  <thead>\n",
              "    <tr style=\"text-align: right;\">\n",
              "      <th></th>\n",
              "      <th>speech</th>\n",
              "      <th>political_party</th>\n",
              "    </tr>\n",
              "  </thead>\n",
              "  <tbody>\n",
              "    <tr>\n",
              "      <th>0</th>\n",
              "      <td>[δύο, ενότητες, κύριε, υπουργέ, σήμερα]</td>\n",
              "      <td>0</td>\n",
              "    </tr>\n",
              "    <tr>\n",
              "      <th>1</th>\n",
              "      <td>[ενότητα, σήμερα, δεύτερη, τροπολογίες, υπάρχουν]</td>\n",
              "      <td>1</td>\n",
              "    </tr>\n",
              "    <tr>\n",
              "      <th>2</th>\n",
              "      <td>[πάρτε, κύριε, πρόεδρε, σύμβαση, tvx, ολόκληρο...</td>\n",
              "      <td>0</td>\n",
              "    </tr>\n",
              "  </tbody>\n",
              "</table>\n",
              "</div>"
            ],
            "text/plain": [
              "                                              speech  political_party\n",
              "0            [δύο, ενότητες, κύριε, υπουργέ, σήμερα]                0\n",
              "1  [ενότητα, σήμερα, δεύτερη, τροπολογίες, υπάρχουν]                1\n",
              "2  [πάρτε, κύριε, πρόεδρε, σύμβαση, tvx, ολόκληρο...                0"
            ]
          },
          "metadata": {
            "tags": []
          },
          "execution_count": 28
        }
      ]
    },
    {
      "cell_type": "markdown",
      "metadata": {
        "id": "nZ4hEpjujlKJ"
      },
      "source": [
        "Unfortunately, it is way more difficult to work witl lists of strings as input for our neural networks. We can only encode them with multilabelbinarizer from ScikitLearn, which turns them to sparce patrices (onehot encoding option is non viable for our HW, and not efficient in general for the whole dataset). So, we need to turn each speech to string again"
      ]
    },
    {
      "cell_type": "code",
      "metadata": {
        "id": "IO8q9NMUkDE9"
      },
      "source": [
        "def unifier(tlist):\r\n",
        "  retstr =\" \"\r\n",
        "  return (retstr.join(tlist))\r\n",
        "df['speech'] = df['speech'].apply(lambda x: unifier(x))"
      ],
      "execution_count": 29,
      "outputs": []
    },
    {
      "cell_type": "code",
      "metadata": {
        "colab": {
          "base_uri": "https://localhost:8080/",
          "height": 35
        },
        "id": "NZlMmgrIkEbl",
        "outputId": "7f22fa1f-c1ec-4e36-f150-3fb20894664b"
      },
      "source": [
        "df['speech'][0]"
      ],
      "execution_count": 30,
      "outputs": [
        {
          "output_type": "execute_result",
          "data": {
            "application/vnd.google.colaboratory.intrinsic+json": {
              "type": "string"
            },
            "text/plain": [
              "'δύο ενότητες κύριε υπουργέ σήμερα'"
            ]
          },
          "metadata": {
            "tags": []
          },
          "execution_count": 30
        }
      ]
    },
    {
      "cell_type": "code",
      "metadata": {
        "id": "8qZQd36YgwSO"
      },
      "source": [
        "import tensorflow as tf\r\n",
        "max_features = 20000\r\n",
        "embedding_dim = 64\r\n",
        "sequence_length = 500\r\n",
        "\r\n",
        "def custom_standardization(input_data):\r\n",
        "    return input_data\r\n",
        "#We'll paraelly approach vectorize_layer and pre-processing data with the Tokenizer class, importing them straight to the embeddings layer\r\n",
        "tokenizer = Tokenizer(num_words=max_features, filters='', lower=False)\r\n",
        "#We will train the Tokenizer on the whole of our speeches dataset\r\n",
        "tokenizer.fit_on_texts(df['speech'].values)\r\n",
        "vectorize_layer = TextVectorization(standardize=custom_standardization,max_tokens=max_features,output_mode=\"int\",output_sequence_length=sequence_length)"
      ],
      "execution_count": 31,
      "outputs": []
    },
    {
      "cell_type": "code",
      "metadata": {
        "colab": {
          "base_uri": "https://localhost:8080/"
        },
        "id": "7wQh_6L7tlbL",
        "outputId": "8f1e3fa3-c2b2-486a-936f-0a684d1ce41b"
      },
      "source": [
        "X = tokenizer.texts_to_sequences(df['speech'].values)\r\n",
        "X = pad_sequences(X, maxlen=sequence_length)\r\n",
        "print('Shape of data tensor:', X.shape)"
      ],
      "execution_count": 32,
      "outputs": [
        {
          "output_type": "stream",
          "text": [
            "Shape of data tensor: (372975, 500)\n"
          ],
          "name": "stdout"
        }
      ]
    },
    {
      "cell_type": "code",
      "metadata": {
        "id": "HvHhXAU6tHda"
      },
      "source": [
        "y = pd.get_dummies(df['political_party']).values"
      ],
      "execution_count": 33,
      "outputs": []
    },
    {
      "cell_type": "code",
      "metadata": {
        "colab": {
          "base_uri": "https://localhost:8080/"
        },
        "id": "ThFIDSfjtLg3",
        "outputId": "cd6133c7-9352-41dd-e5a9-1f79eb47f969"
      },
      "source": [
        "X_train, X_test, y_train, y_test = train_test_split(X,y, test_size = 0.10, random_state = 42)\r\n",
        "print(X_train.shape,y_train.shape)\r\n",
        "print(X_test.shape,y_test.shape)"
      ],
      "execution_count": 34,
      "outputs": [
        {
          "output_type": "stream",
          "text": [
            "(335677, 500) (335677, 11)\n",
            "(37298, 500) (37298, 11)\n"
          ],
          "name": "stdout"
        }
      ]
    },
    {
      "cell_type": "code",
      "metadata": {
        "colab": {
          "base_uri": "https://localhost:8080/"
        },
        "id": "jgnmrmrjuAW3",
        "outputId": "ac9f0594-2a04-4900-c714-26fe90101e6a"
      },
      "source": [
        "model = Sequential()\r\n",
        "model.add(Embedding(max_features, embedding_dim, input_length=X.shape[1]))\r\n",
        "model.add(SpatialDropout1D(0.2))\r\n",
        "model.add(LSTM(100, dropout=0.2))\r\n",
        "model.add(Dense(y.shape[1], activation='softmax'))\r\n",
        "model.compile(loss='categorical_crossentropy', optimizer='adam', metrics=['accuracy'])\r\n",
        "\r\n",
        "epochs = 10\r\n",
        "batch_size = 800\r\n",
        "\r\n",
        "history = model.fit(X_train, y_train, epochs=epochs, batch_size=batch_size,validation_split=0.1,callbacks=[EarlyStopping(monitor='val_loss', patience=3, min_delta=0.0001)])"
      ],
      "execution_count": null,
      "outputs": [
        {
          "output_type": "stream",
          "text": [
            "Epoch 1/10\n",
            "WARNING:tensorflow:5 out of the last 134289 calls to <function Model.make_train_function.<locals>.train_function at 0x7f01f15dbbf8> triggered tf.function retracing. Tracing is expensive and the excessive number of tracings could be due to (1) creating @tf.function repeatedly in a loop, (2) passing tensors with different shapes, (3) passing Python objects instead of tensors. For (1), please define your @tf.function outside of the loop. For (2), @tf.function has experimental_relax_shapes=True option that relaxes argument shapes that can avoid unnecessary retracing. For (3), please refer to https://www.tensorflow.org/guide/function#controlling_retracing and https://www.tensorflow.org/api_docs/python/tf/function for  more details.\n",
            "378/378 [==============================] - 2209s 6s/step - loss: 1.6855 - accuracy: 0.3782 - val_loss: 1.4297 - val_accuracy: 0.4553\n",
            "Epoch 2/10\n",
            "378/378 [==============================] - 2213s 6s/step - loss: 1.3715 - accuracy: 0.4920 - val_loss: 1.3201 - val_accuracy: 0.5099\n",
            "Epoch 3/10\n",
            "378/378 [==============================] - 2220s 6s/step - loss: 1.2368 - accuracy: 0.5516 - val_loss: 1.3245 - val_accuracy: 0.5153\n",
            "Epoch 4/10\n",
            "378/378 [==============================] - 2219s 6s/step - loss: 1.2105 - accuracy: 0.5648 - val_loss: 1.2441 - val_accuracy: 0.5420\n",
            "Epoch 5/10\n",
            "378/378 [==============================] - 2216s 6s/step - loss: 1.1366 - accuracy: 0.5877 - val_loss: 1.2161 - val_accuracy: 0.5470\n",
            "Epoch 6/10\n",
            "378/378 [==============================] - 2208s 6s/step - loss: 1.0920 - accuracy: 0.6026 - val_loss: 1.3402 - val_accuracy: 0.5290\n",
            "Epoch 7/10\n",
            "378/378 [==============================] - 2185s 6s/step - loss: 1.1618 - accuracy: 0.5849 - val_loss: 1.2161 - val_accuracy: 0.5481\n",
            "Epoch 8/10\n",
            "378/378 [==============================] - 2182s 6s/step - loss: 1.0479 - accuracy: 0.6174 - val_loss: 1.2054 - val_accuracy: 0.5530\n",
            "Epoch 9/10\n",
            "378/378 [==============================] - 2163s 6s/step - loss: 1.0466 - accuracy: 0.6191 - val_loss: 1.2180 - val_accuracy: 0.5503\n",
            "Epoch 10/10\n",
            "378/378 [==============================] - 2134s 6s/step - loss: 0.9912 - accuracy: 0.6371 - val_loss: 1.2167 - val_accuracy: 0.5527\n"
          ],
          "name": "stdout"
        }
      ]
    },
    {
      "cell_type": "code",
      "metadata": {
        "colab": {
          "base_uri": "https://localhost:8080/",
          "height": 497
        },
        "id": "R5SfTBToWMaW",
        "outputId": "262f6b70-a552-4d67-c6d4-cca860ead143"
      },
      "source": [
        "plt.figure(figsize=(20, 8))\r\n",
        "plt.subplot(1, 2, 1)\r\n",
        "plt.plot(history.history['loss'], label='loss')\r\n",
        "plt.plot(history.history['val_loss'], label='val_loss')\r\n",
        "#plt.ylim([0, 10])\r\n",
        "plt.xlabel('Epoch')\r\n",
        "plt.ylabel('Error')\r\n",
        "plt.legend()\r\n",
        "plt.grid(True)\r\n",
        "\r\n",
        "plt.subplot(1, 2, 2)\r\n",
        "plt.plot(history.history['accuracy'], label='accuracy')\r\n",
        "plt.plot(history.history['val_accuracy'], label='val_accuracy')\r\n",
        "#plt.ylim([0, 10])\r\n",
        "plt.xlabel('Epoch')\r\n",
        "plt.ylabel('Accuracy')\r\n",
        "plt.legend()\r\n",
        "plt.grid(True)"
      ],
      "execution_count": null,
      "outputs": [
        {
          "output_type": "display_data",
          "data": {
            "image/png": "[encoded data removed]",
            "text/plain": [
              "<Figure size 1440x576 with 2 Axes>"
            ]
          },
          "metadata": {
            "tags": [],
            "needs_background": "light"
          }
        }
      ]
    },
    {
      "cell_type": "code",
      "metadata": {
        "colab": {
          "base_uri": "https://localhost:8080/"
        },
        "id": "-PUSFXKoyNGy",
        "outputId": "6b02f540-668a-4f35-b5ea-500407b4cb1e"
      },
      "source": [
        "result = model.evaluate(X_test,y_test)"
      ],
      "execution_count": null,
      "outputs": [
        {
          "output_type": "stream",
          "text": [
            "1166/1166 [==============================] - 111s 95ms/step - loss: 1.2249 - accuracy: 0.5557\n"
          ],
          "name": "stdout"
        }
      ]
    },
    {
      "cell_type": "code",
      "metadata": {
        "colab": {
          "base_uri": "https://localhost:8080/"
        },
        "id": "CofWnsXIRPvV",
        "outputId": "71d773cc-5eb7-443b-a70a-30652bf4a3eb"
      },
      "source": [
        "print(\"We got a loss of \"+str(result[0])+\" and an accuracy score of \"+str(result[1])+\" for our testing data\")"
      ],
      "execution_count": null,
      "outputs": [
        {
          "output_type": "stream",
          "text": [
            "We got a loss of 1.2248629331588745 and an accuracy score of 0.5556866526603699 for our testing data\n"
          ],
          "name": "stdout"
        }
      ]
    },
    {
      "cell_type": "markdown",
      "metadata": {
        "id": "-r33GBdCuxCn"
      },
      "source": [
        "#### Second Model attemt - RNN"
      ]
    },
    {
      "cell_type": "code",
      "metadata": {
        "id": "XM8R-GiNZU9v",
        "colab": {
          "base_uri": "https://localhost:8080/"
        },
        "outputId": "142c092f-5829-430a-9cd4-ec39449e4cd6"
      },
      "source": [
        "embedding_dim=64\r\n",
        "from keras.models import Sequential\r\n",
        "from keras.layers import Dense, Embedding, GlobalMaxPool1D\r\n",
        "from keras.optimizers import Adam\r\n",
        "import tensorflow as tf\r\n",
        "\r\n",
        "model2 = Sequential()\r\n",
        "model2.add(Embedding(max_features, embedding_dim, input_length=X.shape[1]))\r\n",
        "model2.add(tf.keras.layers.Bidirectional(tf.keras.layers.LSTM(64)))\r\n",
        "model2.add(Dense(len(df['political_party'].unique()), activation='softmax'))\r\n",
        "model2.compile(optimizer=Adam(0.015), loss='categorical_crossentropy', metrics=['accuracy'])\r\n",
        "history_rnn = model2.fit(X_train, y_train, epochs=10, batch_size=800, validation_split=0.2, callbacks=[EarlyStopping(monitor='val_loss', patience=2, min_delta=0.0001)])"
      ],
      "execution_count": null,
      "outputs": [
        {
          "output_type": "stream",
          "text": [
            "Epoch 1/10\n",
            "336/336 [==============================] - 2333s 7s/step - loss: 1.5306 - accuracy: 0.4195 - val_loss: 1.2212 - val_accuracy: 0.5429\n",
            "Epoch 2/10\n",
            "336/336 [==============================] - 4916s 15s/step - loss: 1.1235 - accuracy: 0.5835 - val_loss: 1.1666 - val_accuracy: 0.5615\n",
            "Epoch 3/10\n",
            "336/336 [==============================] - 5255s 16s/step - loss: 0.9721 - accuracy: 0.6393 - val_loss: 1.1937 - val_accuracy: 0.5609\n",
            "Epoch 4/10\n",
            "336/336 [==============================] - 5196s 15s/step - loss: 0.8677 - accuracy: 0.6781 - val_loss: 1.2482 - val_accuracy: 0.5544\n"
          ],
          "name": "stdout"
        }
      ]
    },
    {
      "cell_type": "code",
      "metadata": {
        "id": "YtYd5O52NO8-",
        "colab": {
          "base_uri": "https://localhost:8080/"
        },
        "outputId": "8701923b-534e-470b-bd59-5e8a3fe00610"
      },
      "source": [
        "result_rnn = model2.evaluate(X_test,y_test)"
      ],
      "execution_count": null,
      "outputs": [
        {
          "output_type": "stream",
          "text": [
            "1166/1166 [==============================] - 129s 111ms/step - loss: 1.2495 - accuracy: 0.5519\n"
          ],
          "name": "stdout"
        },
        {
          "output_type": "execute_result",
          "data": {
            "text/plain": [
              "1.24952232837677"
            ]
          },
          "metadata": {
            "tags": []
          },
          "execution_count": 37
        }
      ]
    },
    {
      "cell_type": "markdown",
      "metadata": {
        "id": "4SJoBoCYbfrY"
      },
      "source": [
        "We have marginally worse accuracy from our initial attempt. That shouldn't be the case, since we have applied more sophisticated and suitable techniques to our model. Before we play with the actual parameters of the odel, let's see if the early stopping was too strict. We'll increase our early stop patience from 2 to 4 epochs, and decrease the minimum delta of variance to half ( So, we're trying to see if there might be sth significantly better than our local optimal solution)"
      ]
    },
    {
      "cell_type": "code",
      "metadata": {
        "colab": {
          "base_uri": "https://localhost:8080/"
        },
        "id": "32kF7GtOb6K2",
        "outputId": "47dec7bb-3b7e-4cdb-ff73-5a967267be85"
      },
      "source": [
        "embedding_dim=64\r\n",
        "from keras.models import Sequential\r\n",
        "from keras.layers import Dense, Embedding, GlobalMaxPool1D\r\n",
        "from keras.optimizers import Adam\r\n",
        "import tensorflow as tf\r\n",
        "\r\n",
        "model2 = Sequential()\r\n",
        "model2.add(Embedding(max_features, embedding_dim, input_length=X.shape[1]))\r\n",
        "model2.add(tf.keras.layers.Bidirectional(tf.keras.layers.LSTM(64)))\r\n",
        "model2.add(Dense(len(df['political_party'].unique()), activation='softmax'))\r\n",
        "model2.compile(optimizer=Adam(0.015), loss='categorical_crossentropy', metrics=['accuracy'])\r\n",
        "history_rnn2 = model2.fit(X_train, y_train, epochs=10, batch_size=800, validation_split=0.2, callbacks=[EarlyStopping(monitor='val_loss', patience=4, min_delta=0.00005)])"
      ],
      "execution_count": null,
      "outputs": [
        {
          "output_type": "stream",
          "text": [
            "Epoch 1/10\n",
            "336/336 [==============================] - 2541s 8s/step - loss: 1.5214 - accuracy: 0.4203 - val_loss: 1.2337 - val_accuracy: 0.5387\n",
            "Epoch 2/10\n",
            "336/336 [==============================] - 2765s 8s/step - loss: 1.1368 - accuracy: 0.5786 - val_loss: 1.1606 - val_accuracy: 0.5632\n",
            "Epoch 3/10\n",
            "336/336 [==============================] - 2687s 8s/step - loss: 0.9804 - accuracy: 0.6358 - val_loss: 1.1826 - val_accuracy: 0.5604\n",
            "Epoch 4/10\n",
            "336/336 [==============================] - 2519s 7s/step - loss: 0.8680 - accuracy: 0.6798 - val_loss: 1.2510 - val_accuracy: 0.5544\n",
            "Epoch 5/10\n",
            "336/336 [==============================] - 2497s 7s/step - loss: 0.7913 - accuracy: 0.7078 - val_loss: 1.3071 - val_accuracy: 0.5474\n",
            "Epoch 6/10\n",
            "336/336 [==============================] - 2498s 7s/step - loss: 0.7317 - accuracy: 0.7307 - val_loss: 1.3637 - val_accuracy: 0.5425\n"
          ],
          "name": "stdout"
        }
      ]
    },
    {
      "cell_type": "code",
      "metadata": {
        "colab": {
          "base_uri": "https://localhost:8080/"
        },
        "id": "c91d5lha44Sc",
        "outputId": "7eca139c-ad60-4d6c-ea90-56a30b7d225e"
      },
      "source": [
        "result2 = model2.evaluate(X_test,y_test)\r\n",
        "print(\"We got a loss of \"+str(result2[0])+\" and an accuracy score of \"+str(result2[1])+\" for our testing data\")"
      ],
      "execution_count": null,
      "outputs": [
        {
          "output_type": "stream",
          "text": [
            "1166/1166 [==============================] - 127s 109ms/step - loss: 1.3673 - accuracy: 0.5448\n",
            "We got a loss of 1.3673385381698608 and an accuracy score of 0.5447745323181152 for our testing data\n"
          ],
          "name": "stdout"
        }
      ]
    },
    {
      "cell_type": "markdown",
      "metadata": {
        "id": "1MHXc6hP7os5"
      },
      "source": [
        "The results are not encouraging at all. What we need to do, despite the fact that in theory, such a model is more promising for our analysis.\r\n",
        "<br>\r\n",
        "There are a few ways we can act on such a situation. Due to time restrictions, we will only state them for now.\r\n",
        "\r\n",
        "1. Add more hidden layers\r\n",
        "2. Increase our neurons size\r\n",
        "3. change our activation functions\r\n",
        "\r\n",
        "In other cases, we might thought of focusing on fixing our samples (changing vocab size, sequence length, oversampling of classes, creating synthetic data, or including more data from the ones we filtered out - mainly with our chronological criterion). However, we already have a marginally better performance with a simler model, so for sure our starting point should be the model itself.\r\n"
      ]
    },
    {
      "cell_type": "markdown",
      "metadata": {
        "id": "rsdTc0KW4nED"
      },
      "source": [
        "### Code graveyard (non working code attempts)"
      ]
    },
    {
      "cell_type": "code",
      "metadata": {
        "id": "fwbv1SpeURTB"
      },
      "source": [
        "from keras.utils.np_utils import to_categorical\r\n",
        "\r\n",
        "max_len = 900\r\n",
        "\r\n",
        "labels = to_categorical(df['political_party'])\r\n"
      ],
      "execution_count": null,
      "outputs": []
    },
    {
      "cell_type": "code",
      "metadata": {
        "id": "M2jwreWmT5Y6"
      },
      "source": [
        "n_most_common_words = 20000\r\n",
        "token_filter = ''\r\n",
        "tokenizer = Tokenizer(num_words=n_most_common_words, filters=token_filter, lower=False)\r\n",
        "tokenizer.fit_on_texts(df['speech'].values)"
      ],
      "execution_count": null,
      "outputs": []
    },
    {
      "cell_type": "code",
      "metadata": {
        "id": "KbCO1bk3Zf_v"
      },
      "source": [
        "sequences = tokenizer.texts_to_sequences(df['speech'].values)\r\n",
        "word_index = tokenizer.word_index\r\n",
        "X = pad_sequences(sequences, maxlen=max_len)\r\n",
        "\r\n",
        "X_train, X_test, y_train, y_test = train_test_split(X , labels, test_size=0.2, random_state=42)"
      ],
      "execution_count": null,
      "outputs": []
    },
    {
      "cell_type": "code",
      "metadata": {
        "colab": {
          "base_uri": "https://localhost:8080/"
        },
        "id": "LpcFMShXUWh8",
        "outputId": "07d09524-fb9c-4c5a-8a38-4a40558aa7d7"
      },
      "source": [
        "epochs = 10\r\n",
        "emb_dim = 64\r\n",
        "batch_size = 256\r\n",
        "print((X_train.shape, y_train.shape, X_test.shape, y_test.shape))"
      ],
      "execution_count": null,
      "outputs": [
        {
          "output_type": "stream",
          "text": [
            "((305839,), (305839,), (67136,), (67136,))\n"
          ],
          "name": "stdout"
        }
      ]
    },
    {
      "cell_type": "code",
      "metadata": {
        "colab": {
          "base_uri": "https://localhost:8080/",
          "height": 231
        },
        "id": "Kw2SBD3kUjee",
        "outputId": "e4d2f804-3855-4600-a781-fcb163519fdf"
      },
      "source": [
        "model = Sequential()\r\n",
        "model.add(Embedding(n_most_common_words, emb_dim, input_length=X.shape[1]))\r\n",
        "model.add(SpatialDropout1D(0.7))\r\n",
        "model.add(LSTM(64, dropout=0.7, recurrent_dropout=0.7))\r\n",
        "model.add(Dense(4, activation='softmax'))\r\n",
        "model.compile(optimizer='adam', loss='categorical_crossentropy', metrics=['accuracy'])\r\n",
        "print(model.summary())\r\n",
        "training = model.fit(X_train, y_train, epochs=epochs, batch_size=batch_size,validation_split=0.2)"
      ],
      "execution_count": null,
      "outputs": [
        {
          "output_type": "error",
          "ename": "IndexError",
          "evalue": "ignored",
          "traceback": [
            "\u001b[0;31m---------------------------------------------------------------------------\u001b[0m",
            "\u001b[0;31mIndexError\u001b[0m                                Traceback (most recent call last)",
            "\u001b[0;32m<ipython-input-139-534b7c43b160>\u001b[0m in \u001b[0;36m<module>\u001b[0;34m()\u001b[0m\n\u001b[1;32m      1\u001b[0m \u001b[0mmodel\u001b[0m \u001b[0;34m=\u001b[0m \u001b[0mSequential\u001b[0m\u001b[0;34m(\u001b[0m\u001b[0;34m)\u001b[0m\u001b[0;34m\u001b[0m\u001b[0;34m\u001b[0m\u001b[0m\n\u001b[0;32m----> 2\u001b[0;31m \u001b[0mmodel\u001b[0m\u001b[0;34m.\u001b[0m\u001b[0madd\u001b[0m\u001b[0;34m(\u001b[0m\u001b[0mEmbedding\u001b[0m\u001b[0;34m(\u001b[0m\u001b[0mn_most_common_words\u001b[0m\u001b[0;34m,\u001b[0m \u001b[0memb_dim\u001b[0m\u001b[0;34m,\u001b[0m \u001b[0minput_length\u001b[0m\u001b[0;34m=\u001b[0m\u001b[0mX\u001b[0m\u001b[0;34m.\u001b[0m\u001b[0mshape\u001b[0m\u001b[0;34m[\u001b[0m\u001b[0;36m1\u001b[0m\u001b[0;34m]\u001b[0m\u001b[0;34m)\u001b[0m\u001b[0;34m)\u001b[0m\u001b[0;34m\u001b[0m\u001b[0;34m\u001b[0m\u001b[0m\n\u001b[0m\u001b[1;32m      3\u001b[0m \u001b[0mmodel\u001b[0m\u001b[0;34m.\u001b[0m\u001b[0madd\u001b[0m\u001b[0;34m(\u001b[0m\u001b[0mSpatialDropout1D\u001b[0m\u001b[0;34m(\u001b[0m\u001b[0;36m0.7\u001b[0m\u001b[0;34m)\u001b[0m\u001b[0;34m)\u001b[0m\u001b[0;34m\u001b[0m\u001b[0;34m\u001b[0m\u001b[0m\n\u001b[1;32m      4\u001b[0m \u001b[0mmodel\u001b[0m\u001b[0;34m.\u001b[0m\u001b[0madd\u001b[0m\u001b[0;34m(\u001b[0m\u001b[0mLSTM\u001b[0m\u001b[0;34m(\u001b[0m\u001b[0;36m64\u001b[0m\u001b[0;34m,\u001b[0m \u001b[0mdropout\u001b[0m\u001b[0;34m=\u001b[0m\u001b[0;36m0.7\u001b[0m\u001b[0;34m,\u001b[0m \u001b[0mrecurrent_dropout\u001b[0m\u001b[0;34m=\u001b[0m\u001b[0;36m0.7\u001b[0m\u001b[0;34m)\u001b[0m\u001b[0;34m)\u001b[0m\u001b[0;34m\u001b[0m\u001b[0;34m\u001b[0m\u001b[0m\n\u001b[1;32m      5\u001b[0m \u001b[0mmodel\u001b[0m\u001b[0;34m.\u001b[0m\u001b[0madd\u001b[0m\u001b[0;34m(\u001b[0m\u001b[0mDense\u001b[0m\u001b[0;34m(\u001b[0m\u001b[0;36m4\u001b[0m\u001b[0;34m,\u001b[0m \u001b[0mactivation\u001b[0m\u001b[0;34m=\u001b[0m\u001b[0;34m'softmax'\u001b[0m\u001b[0;34m)\u001b[0m\u001b[0;34m)\u001b[0m\u001b[0;34m\u001b[0m\u001b[0;34m\u001b[0m\u001b[0m\n",
            "\u001b[0;31mIndexError\u001b[0m: tuple index out of range"
          ]
        }
      ]
    },
    {
      "cell_type": "markdown",
      "metadata": {
        "id": "-hVElmaMigeD"
      },
      "source": [
        "creating an input pipeline from df to dataset"
      ]
    },
    {
      "cell_type": "code",
      "metadata": {
        "id": "GshnY6E-icfy"
      },
      "source": [
        "def df_to_dataset(dataframe, shuffle=True, batch_size=32):\r\n",
        "  dataframe = dataframe.copy()\r\n",
        "  labels = dataframe.pop('political_party')\r\n",
        "  ds = tf.data.Dataset.from_tensor_slices((dict(dataframe), labels))\r\n",
        "  if shuffle:\r\n",
        "    ds = ds.shuffle(buffer_size=len(dataframe))\r\n",
        "  ds = ds.batch(batch_size)\r\n",
        "  ds = ds.prefetch(batch_size)\r\n",
        "  return ds"
      ],
      "execution_count": null,
      "outputs": []
    },
    {
      "cell_type": "code",
      "metadata": {
        "id": "vJ8kSwl_h4Vk"
      },
      "source": [
        "train, test = train_test_split(df, test_size=0.2)\r\n",
        "train, val = train_test_split(train, test_size=0.2)"
      ],
      "execution_count": null,
      "outputs": []
    },
    {
      "cell_type": "code",
      "metadata": {
        "id": "CGIniT-NikOB"
      },
      "source": [
        "batch_size = 32\r\n",
        "train_ds = df_to_dataset(train, batch_size=batch_size)"
      ],
      "execution_count": null,
      "outputs": []
    },
    {
      "cell_type": "code",
      "metadata": {
        "colab": {
          "base_uri": "https://localhost:8080/"
        },
        "id": "2_93PdQCkzg6",
        "outputId": "cb599899-4f44-4645-c0bf-1cfd2a9625e8"
      },
      "source": [
        "type(train_ds)"
      ],
      "execution_count": null,
      "outputs": [
        {
          "output_type": "execute_result",
          "data": {
            "text/plain": [
              "tensorflow.python.data.ops.dataset_ops.PrefetchDataset"
            ]
          },
          "metadata": {
            "tags": []
          },
          "execution_count": 46
        }
      ]
    }
  ]
}